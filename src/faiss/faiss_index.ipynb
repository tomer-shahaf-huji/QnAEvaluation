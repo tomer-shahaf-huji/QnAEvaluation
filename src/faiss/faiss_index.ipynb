{
 "cells": [
  {
   "cell_type": "code",
   "execution_count": 2,
   "outputs": [],
   "source": [
    "import logging\n",
    "\n",
    "from langchain.chat_models import AzureChatOpenAI\n",
    "from langchain.document_loaders import TextLoader\n",
    "from langchain.embeddings import HuggingFaceEmbeddings\n",
    "from langchain.retrievers.multi_query import MultiQueryRetriever\n",
    "from langchain.text_splitter import CharacterTextSplitter\n",
    "from langchain.vectorstores import FAISS"
   ],
   "metadata": {
    "collapsed": false
   }
  },
  {
   "cell_type": "code",
   "execution_count": 3,
   "outputs": [],
   "source": [
    "loader = TextLoader(\"../../state_of_the_union.txt\")\n",
    "documents = loader.load()\n",
    "text_splitter = CharacterTextSplitter(chunk_size=1000, chunk_overlap=0)\n",
    "docs = text_splitter.split_documents(documents)"
   ],
   "metadata": {
    "collapsed": false
   }
  },
  {
   "cell_type": "code",
   "execution_count": 4,
   "outputs": [],
   "source": [
    "model_name = \"sentence-transformers/all-mpnet-base-v2\"\n",
    "model_kwargs = {'device': 'cuda'}\n",
    "encode_kwargs = {'normalize_embeddings': False}\n",
    "\n",
    "hf_embeddings = HuggingFaceEmbeddings(\n",
    "    model_name=model_name,\n",
    "    model_kwargs=model_kwargs,\n",
    "    encode_kwargs=encode_kwargs\n",
    ")"
   ],
   "metadata": {
    "collapsed": false
   }
  },
  {
   "cell_type": "code",
   "execution_count": 5,
   "outputs": [],
   "source": [
    "vector_db = FAISS.from_documents(docs, hf_embeddings)\n",
    "vector_db.save_local(\"faiss_index\")"
   ],
   "metadata": {
    "collapsed": false
   }
  },
  {
   "cell_type": "code",
   "execution_count": 6,
   "outputs": [
    {
     "data": {
      "text/plain": "'We’re going after the criminals who stole billions in relief money meant for small businesses and millions of Americans.  \\n\\nAnd tonight, I’m announcing that the Justice Department will name a chief prosecutor for pandemic fraud. \\n\\nBy the end of this year, the deficit will be down to less than half what it was before I took office.  \\n\\nThe only president ever to cut the deficit by more than one trillion dollars in a single year. \\n\\nLowering your costs also means demanding more competition. \\n\\nI’m a capitalist, but capitalism without competition isn’t capitalism. \\n\\nIt’s exploitation—and it drives up prices. \\n\\nWhen corporations don’t have to compete, their profits go up, your prices go up, and small businesses and family farmers and ranchers go under. \\n\\nWe see it happening with ocean carriers moving goods in and out of America. \\n\\nDuring the pandemic, these foreign-owned companies raised prices by as much as 1,000% and made record profits.'"
     },
     "execution_count": 6,
     "metadata": {},
     "output_type": "execute_result"
    }
   ],
   "source": [
    "question = \"What did the president say about economics?\"\n",
    "docs = vector_db.similarity_search(question)\n",
    "docs[0].page_content"
   ],
   "metadata": {
    "collapsed": false
   }
  },
  {
   "cell_type": "code",
   "execution_count": 7,
   "outputs": [],
   "source": [
    "gpt35_azure_llm = AzureChatOpenAI(\n",
    "    temperature=0,\n",
    "    openai_api_key=\"02e3dbabaf334ccb959cbeadbd3f99c3\",\n",
    "    openai_api_base=\"https://llm-x-gpt.openai.azure.com/\",\n",
    "    deployment_name='LLM-X-GPT35-TURBO',\n",
    "    openai_api_version=\"2023-03-15-preview\"\n",
    ")"
   ],
   "metadata": {
    "collapsed": false
   }
  },
  {
   "cell_type": "code",
   "execution_count": 32,
   "outputs": [],
   "source": [
    "from langchain.embeddings.openai import OpenAIEmbeddings\n",
    "\n",
    "openai_azure_embeddings = OpenAIEmbeddings(\n",
    "    model=\"text-embedding-ada-002\",\n",
    "    openai_api_key=\"02e3dbabaf334ccb959cbeadbd3f99c3\",\n",
    "    openai_api_base=\"https://llm-x-gpt.openai.azure.com/\",\n",
    "    deployment_name='LLM-X-Embedding'\n",
    ")"
   ],
   "metadata": {
    "collapsed": false
   }
  },
  {
   "cell_type": "code",
   "execution_count": 8,
   "outputs": [],
   "source": [
    "logging.basicConfig()\n",
    "logging.getLogger('langchain.retrievers.multi_query').setLevel(logging.INFO)\n",
    "retriever_from_llm = MultiQueryRetriever.from_llm(\n",
    "    retriever=vector_db.as_retriever(),\n",
    "    llm=gpt35_azure_llm\n",
    ")"
   ],
   "metadata": {
    "collapsed": false
   }
  },
  {
   "cell_type": "code",
   "execution_count": 9,
   "outputs": [
    {
     "name": "stderr",
     "output_type": "stream",
     "text": [
      "INFO:langchain.retrievers.multi_query:Generated queries: [\"1. Can you provide any information on the president's statements regarding the field of economics?\", \"2. I'm interested in knowing the president's views and comments on the subject of economics. Could you share any relevant information?\", '3. Could you please share any insights or remarks made by the president in relation to economics?']\n"
     ]
    },
    {
     "name": "stdout",
     "output_type": "stream",
     "text": [
      "We’re going after the criminals who stole billions in relief money meant for small businesses and millions of Americans.  \n",
      "\n",
      "And tonight, I’m announcing that the Justice Department will name a chief prosecutor for pandemic fraud. \n",
      "\n",
      "By the end of this year, the deficit will be down to less than half what it was before I took office.  \n",
      "\n",
      "The only president ever to cut the deficit by more than one trillion dollars in a single year. \n",
      "\n",
      "Lowering your costs also means demanding more competition. \n",
      "\n",
      "I’m a capitalist, but capitalism without competition isn’t capitalism. \n",
      "\n",
      "It’s exploitation—and it drives up prices. \n",
      "\n",
      "When corporations don’t have to compete, their profits go up, your prices go up, and small businesses and family farmers and ranchers go under. \n",
      "\n",
      "We see it happening with ocean carriers moving goods in and out of America. \n",
      "\n",
      "During the pandemic, these foreign-owned companies raised prices by as much as 1,000% and made record profits.\n",
      "I have a better plan to fight inflation. \n",
      "\n",
      "Lower your costs, not your wages. \n",
      "\n",
      "Make more cars and semiconductors in America. \n",
      "\n",
      "More infrastructure and innovation in America. \n",
      "\n",
      "More goods moving faster and cheaper in America. \n",
      "\n",
      "More jobs where you can earn a good living in America. \n",
      "\n",
      "And instead of relying on foreign supply chains, let’s make it in America. \n",
      "\n",
      "Economists call it “increasing the productive capacity of our economy.” \n",
      "\n",
      "I call it building a better America. \n",
      "\n",
      "My plan to fight inflation will lower your costs and lower the deficit. \n",
      "\n",
      "17 Nobel laureates in economics say my plan will ease long-term inflationary pressures. Top business leaders and most Americans support my plan. And here’s the plan: \n",
      "\n",
      "First – cut the cost of prescription drugs. Just look at insulin. One in ten Americans has diabetes. In Virginia, I met a 13-year-old boy named Joshua Davis.\n",
      "Vice President Harris and I ran for office with a new economic vision for America. \n",
      "\n",
      "Invest in America. Educate Americans. Grow the workforce. Build the economy from the bottom up  \n",
      "and the middle out, not from the top down.  \n",
      "\n",
      "Because we know that when the middle class grows, the poor have a ladder up and the wealthy do very well. \n",
      "\n",
      "America used to have the best roads, bridges, and airports on Earth. \n",
      "\n",
      "Now our infrastructure is ranked 13th in the world. \n",
      "\n",
      "We won’t be able to compete for the jobs of the 21st Century if we don’t fix that. \n",
      "\n",
      "That’s why it was so important to pass the Bipartisan Infrastructure Law—the most sweeping investment to rebuild America in history. \n",
      "\n",
      "This was a bipartisan effort, and I want to thank the members of both parties who worked to make it happen. \n",
      "\n",
      "We’re done talking about infrastructure weeks. \n",
      "\n",
      "We’re going to have an infrastructure decade.\n",
      "Tonight, I’m announcing a crackdown on these companies overcharging American businesses and consumers. \n",
      "\n",
      "And as Wall Street firms take over more nursing homes, quality in those homes has gone down and costs have gone up.  \n",
      "\n",
      "That ends on my watch. \n",
      "\n",
      "Medicare is going to set higher standards for nursing homes and make sure your loved ones get the care they deserve and expect. \n",
      "\n",
      "We’ll also cut costs and keep the economy going strong by giving workers a fair shot, provide more training and apprenticeships, hire them based on their skills not degrees. \n",
      "\n",
      "Let’s pass the Paycheck Fairness Act and paid leave.  \n",
      "\n",
      "Raise the minimum wage to $15 an hour and extend the Child Tax Credit, so no one has to raise a family in poverty. \n",
      "\n",
      "Let’s increase Pell Grants and increase our historic support of HBCUs, and invest in what Jill—our First Lady who teaches full-time—calls America’s best-kept secret: community colleges.\n",
      "And built the strongest, freest, and most prosperous nation the world has ever known. \n",
      "\n",
      "Now is the hour. \n",
      "\n",
      "Our moment of responsibility. \n",
      "\n",
      "Our test of resolve and conscience, of history itself. \n",
      "\n",
      "It is in this moment that our character is formed. Our purpose is found. Our future is forged. \n",
      "\n",
      "Well I know this nation.  \n",
      "\n",
      "We will meet the test. \n",
      "\n",
      "To protect freedom and liberty, to expand fairness and opportunity. \n",
      "\n",
      "We will save democracy. \n",
      "\n",
      "As hard as these times have been, I am more optimistic about America today than I have been my whole life. \n",
      "\n",
      "Because I see the future that is within our grasp. \n",
      "\n",
      "Because I know there is simply nothing beyond our capacity. \n",
      "\n",
      "We are the only nation on Earth that has always turned every crisis we have faced into an opportunity. \n",
      "\n",
      "The only nation that can be defined by a single word: possibilities. \n",
      "\n",
      "So on this night, in our 245th year as a nation, I have come to report on the State of the Union.\n",
      "And I’m taking robust action to make sure the pain of our sanctions  is targeted at Russia’s economy. And I will use every tool at our disposal to protect American businesses and consumers. \n",
      "\n",
      "Tonight, I can announce that the United States has worked with 30 other countries to release 60 Million barrels of oil from reserves around the world.  \n",
      "\n",
      "America will lead that effort, releasing 30 Million barrels from our own Strategic Petroleum Reserve. And we stand ready to do more if necessary, unified with our allies.  \n",
      "\n",
      "These steps will help blunt gas prices here at home. And I know the news about what’s happening can seem alarming. \n",
      "\n",
      "But I want you to know that we are going to be okay. \n",
      "\n",
      "When the history of this era is written Putin’s war on Ukraine will have left Russia weaker and the rest of the world stronger. \n",
      "\n",
      "While it shouldn’t have taken something so terrible for people around the world to see what’s at stake now everyone sees it clearly.\n"
     ]
    }
   ],
   "source": [
    "unique_docs = retriever_from_llm.get_relevant_documents(query=question)\n",
    "for doc in unique_docs:\n",
    "    print(doc.page_content)"
   ],
   "metadata": {
    "collapsed": false
   }
  },
  {
   "cell_type": "code",
   "execution_count": 10,
   "outputs": [
    {
     "data": {
      "text/plain": "{'query': 'What did the president say about economics?',\n 'result': \"The president discussed several economic topics in the given context. Here are some key points he made:\\n\\n1. The president announced the appointment of a chief prosecutor for pandemic fraud, indicating a focus on combating fraud related to relief money meant for small businesses and Americans.\\n\\n2. He highlighted his achievement of reducing the deficit by more than one trillion dollars in a single year, emphasizing his commitment to fiscal responsibility.\\n\\n3. The president emphasized the importance of competition in capitalism, stating that when corporations don't have to compete, it leads to exploitation, higher prices, and negative impacts on small businesses and farmers.\\n\\n4. He mentioned the issue of ocean carriers raising prices during the pandemic, leading to record profits and increased costs for goods.\\n\\n5. The president outlined his plan to fight inflation, which includes lowering costs, increasing domestic production of goods like cars and semiconductors, investing in infrastructure and innovation, and reducing reliance on foreign supply chains.\\n\\n6. He mentioned the need to cut the cost of prescription drugs, using insulin as an example, and highlighted the importance of investing in education, growing the workforce, and building the economy from the bottom up and the middle out.\\n\\n7. The president emphasized the importance of investing in infrastructure, stating that America's infrastructure is currently ranked 13th in the world and that the Bipartisan Infrastructure Law is a significant step towards rebuilding and improving it.\\n\\n8. He contrasted the American Rescue Plan, which he claimed helped working people and created jobs, with the previous administration's tax cut that primarily benefited the top 1% of Americans.\\n\\n9. The president criticized the trickle-down theory, stating that it led to weaker economic growth, lower wages, larger deficits, and increased income inequality.\"}"
     },
     "execution_count": 10,
     "metadata": {},
     "output_type": "execute_result"
    }
   ],
   "source": [
    "from langchain.chains import RetrievalQA\n",
    "\n",
    "qa_chain = RetrievalQA.from_chain_type(\n",
    "    llm=gpt35_azure_llm,\n",
    "    retriever=vector_db.as_retriever())\n",
    "\n",
    "question = \"What did the president say about economics?\"\n",
    "qa_chain({\"query\": question})"
   ],
   "metadata": {
    "collapsed": false
   }
  },
  {
   "cell_type": "code",
   "execution_count": 11,
   "outputs": [],
   "source": [
    "from langchain.chains import QAGenerationChain\n",
    "from langchain import PromptTemplate\n",
    "\n",
    "templ = \"\"\"You are a smart assistant designed to help high school teachers come up with reading comprehension questions.\n",
    "Given a piece of text, you must come up with a {k} different question and answer pairs that can be used to test a student's reading comprehension abilities.\n",
    "When coming up with this question/answer pair, each pair must be respond in the following format:\n",
    "\n",
    "{{\n",
    "    \"question\": \"$YOUR_QUESTION_HERE\",\n",
    "    \"answer\": \"$THE_ANSWER_HERE\"\n",
    "}}\n",
    "\n",
    "So in your final answer you should response with a list of {k} pairs in this format:\n",
    "\n",
    "```\n",
    "[{{\n",
    "    \"question\": \"$YOUR_QUESTION_HERE\",\n",
    "    \"answer\": \"$THE_ANSWER_HERE\"\n",
    "}},\n",
    " {{\n",
    "    \"question\": \"$YOUR_QUESTION_HERE\",\n",
    "    \"answer\": \"$THE_ANSWER_HERE\"\n",
    "}},\n",
    " {{\n",
    "    \"question\": \"$YOUR_QUESTION_HERE\",\n",
    "    \"answer\": \"$THE_ANSWER_HERE\"\n",
    "    }}\n",
    "]\n",
    "```\n",
    "\n",
    "Please come up with a list of {k} question/answer pairs, in the specified list of JSONS format, for the following text:\n",
    "----------------\n",
    "{text}\n",
    "\"\"\"\n",
    "\n",
    "multi_qa_prompt = PromptTemplate.from_template(template=templ, partial_variables={\"k\": 20})\n",
    "qa_generation_chain = QAGenerationChain.from_llm(llm=gpt35_azure_llm, prompt=multi_qa_prompt)"
   ],
   "metadata": {
    "collapsed": false
   }
  },
  {
   "cell_type": "code",
   "execution_count": 12,
   "outputs": [
    {
     "data": {
      "text/plain": "[{'question': 'What is the purpose of the chief prosecutor for pandemic fraud?',\n  'answer': 'To go after the criminals who stole relief money'},\n {'question': 'What will happen to the deficit by the end of this year?',\n  'answer': 'It will be less than half of what it was before'},\n {'question': 'What is the significance of the president cutting the deficit by more than one trillion dollars?',\n  'answer': 'No other president has achieved this'},\n {'question': \"What does the speaker mean by 'capitalism without competition isn't capitalism'?\",\n  'answer': 'Competition is an essential aspect of capitalism'},\n {'question': 'What are the consequences of corporations not having to compete?',\n  'answer': 'Profits go up, prices go up, and small businesses suffer'},\n {'question': 'What is an example of corporations not having to compete?',\n  'answer': 'Ocean carriers raising prices during the pandemic'},\n {'question': 'What did foreign-owned companies do during the pandemic?',\n  'answer': 'Raised prices by as much as 1,000% and made record profits'},\n {'question': \"What is the main focus of the Justice Department's chief prosecutor?\",\n  'answer': 'Pandemic fraud'},\n {'question': \"What is the speaker's stance on capitalism?\",\n  'answer': 'They are a capitalist'},\n {'question': \"What happens to prices when corporations don't have to compete?\",\n  'answer': 'They go up'},\n {'question': \"Who suffers when corporations don't have to compete?\",\n  'answer': 'Small businesses, family farmers, and ranchers'},\n {'question': 'What is the purpose of the chief prosecutor for pandemic fraud?',\n  'answer': 'To go after the criminals who stole relief money'},\n {'question': 'What will happen to the deficit by the end of this year?',\n  'answer': 'It will be less than half of what it was before'},\n {'question': 'What is the significance of the president cutting the deficit by more than one trillion dollars?',\n  'answer': 'No other president has achieved this'},\n {'question': \"What does the speaker mean by 'capitalism without competition isn't capitalism'?\",\n  'answer': 'Competition is an essential aspect of capitalism'},\n {'question': 'What are the consequences of corporations not having to compete?',\n  'answer': 'Profits go up, prices go up, and small businesses suffer'},\n {'question': 'What is an example of corporations not having to compete?',\n  'answer': 'Ocean carriers raising prices during the pandemic'},\n {'question': 'What did foreign-owned companies do during the pandemic?',\n  'answer': 'Raised prices by as much as 1,000% and made record profits'},\n {'question': \"What is the main focus of the Justice Department's chief prosecutor?\",\n  'answer': 'Pandemic fraud'},\n {'question': \"What is the speaker's stance on capitalism?\",\n  'answer': 'They are a capitalist'},\n {'question': \"What happens to prices when corporations don't have to compete?\",\n  'answer': 'They go up'}]"
     },
     "execution_count": 12,
     "metadata": {},
     "output_type": "execute_result"
    }
   ],
   "source": [
    "questions_and_answers_GT = qa_generation_chain.run(docs[0].page_content)[0]\n",
    "questions_and_answers_GT"
   ],
   "metadata": {
    "collapsed": false
   }
  },
  {
   "cell_type": "code",
   "execution_count": 13,
   "outputs": [
    {
     "name": "stdout",
     "output_type": "stream",
     "text": [
      "QA number 1 \n",
      "\n",
      "Question: What is the purpose of the chief prosecutor for pandemic fraud?\n",
      "\n",
      "Answer: To go after the criminals who stole relief money\n",
      "\n",
      "LLM Answer: The purpose of the chief prosecutor for pandemic fraud is to go after the criminals who stole billions in relief money meant for small businesses and millions of Americans. They will be responsible for investigating and prosecuting cases of fraud related to the misuse of funds intended for pandemic relief.\n",
      "\n",
      "--------------------------------------------------\n",
      "\n",
      "\n",
      "QA number 2 \n",
      "\n",
      "Question: What will happen to the deficit by the end of this year?\n",
      "\n",
      "Answer: It will be less than half of what it was before\n",
      "\n",
      "LLM Answer: The given context does not provide specific information about the projected deficit by the end of this year. Therefore, I don't have the information to answer your question.\n",
      "\n",
      "--------------------------------------------------\n",
      "\n",
      "\n",
      "QA number 3 \n",
      "\n",
      "Question: What is the significance of the president cutting the deficit by more than one trillion dollars?\n",
      "\n",
      "Answer: No other president has achieved this\n",
      "\n",
      "LLM Answer: The significance of the president cutting the deficit by more than one trillion dollars is that it demonstrates a significant reduction in the amount of money the government is borrowing to cover its expenses. This reduction in the deficit can have several positive effects, such as reducing the burden of debt on future generations, improving the country's fiscal health, and potentially lowering interest rates. It also indicates a commitment to fiscal responsibility and the ability to effectively manage government spending.\n",
      "\n",
      "--------------------------------------------------\n",
      "\n",
      "\n",
      "QA number 4 \n",
      "\n",
      "Question: What does the speaker mean by 'capitalism without competition isn't capitalism'?\n",
      "\n",
      "Answer: Competition is an essential aspect of capitalism\n",
      "\n",
      "LLM Answer: The speaker means that true capitalism requires competition. Without competition, capitalism becomes exploitative and leads to higher prices for consumers. The speaker believes that when corporations don't have to compete, they can drive up prices, harm small businesses, and exploit consumers.\n",
      "\n",
      "--------------------------------------------------\n",
      "\n",
      "\n",
      "QA number 5 \n",
      "\n",
      "Question: What are the consequences of corporations not having to compete?\n",
      "\n",
      "Answer: Profits go up, prices go up, and small businesses suffer\n",
      "\n",
      "LLM Answer: The consequences of corporations not having to compete are that their profits increase, prices for consumers go up, and small businesses and family farmers and ranchers may struggle or go out of business. This lack of competition can lead to exploitation and higher costs for consumers.\n",
      "\n",
      "--------------------------------------------------\n",
      "\n",
      "\n",
      "QA number 6 \n",
      "\n",
      "Question: What is an example of corporations not having to compete?\n",
      "\n",
      "Answer: Ocean carriers raising prices during the pandemic\n",
      "\n",
      "LLM Answer: An example of corporations not having to compete is mentioned in the context: \"We see it happening with ocean carriers moving goods in and out of America. During the pandemic, these foreign-owned companies raised prices by as much as 1,000% and made record profits.\" This suggests that certain ocean carriers, due to lack of competition, were able to raise prices significantly without fear of losing customers, resulting in record profits.\n",
      "\n",
      "--------------------------------------------------\n",
      "\n",
      "\n",
      "QA number 7 \n",
      "\n",
      "Question: What did foreign-owned companies do during the pandemic?\n",
      "\n",
      "Answer: Raised prices by as much as 1,000% and made record profits\n",
      "\n",
      "LLM Answer: During the pandemic, foreign-owned companies raised prices by as much as 1,000% and made record profits.\n",
      "\n",
      "--------------------------------------------------\n",
      "\n",
      "\n",
      "QA number 8 \n",
      "\n",
      "Question: What is the main focus of the Justice Department's chief prosecutor?\n",
      "\n",
      "Answer: Pandemic fraud\n",
      "\n",
      "LLM Answer: The main focus of the Justice Department's chief prosecutor is to protect communities, restore trust, and hold law enforcement accountable. This includes implementing measures such as requiring body cameras, banning chokeholds, and restricting no-knock warrants for law enforcement officers. Additionally, the chief prosecutor emphasizes the importance of funding the police with the necessary resources and training to effectively protect communities.\n",
      "\n",
      "--------------------------------------------------\n",
      "\n",
      "\n",
      "QA number 9 \n",
      "\n",
      "Question: What is the speaker's stance on capitalism?\n",
      "\n",
      "Answer: They are a capitalist\n",
      "\n",
      "LLM Answer: The speaker expresses support for capitalism but emphasizes the importance of competition within capitalism. They state that capitalism without competition is exploitation and drives up prices. They highlight the negative effects of corporations not having to compete, such as increased profits for them and higher prices for consumers.\n",
      "\n",
      "--------------------------------------------------\n",
      "\n",
      "\n",
      "QA number 10 \n",
      "\n",
      "Question: What happens to prices when corporations don't have to compete?\n",
      "\n",
      "Answer: They go up\n",
      "\n",
      "LLM Answer: When corporations don't have to compete, their profits go up, and as a result, prices go up as well. This lack of competition allows corporations to have more control over the market, leading to higher prices for consumers. Additionally, small businesses and family farmers and ranchers may struggle or go under when they cannot compete with larger, non-competitive corporations.\n",
      "\n",
      "--------------------------------------------------\n",
      "\n",
      "\n",
      "QA number 11 \n",
      "\n",
      "Question: Who suffers when corporations don't have to compete?\n",
      "\n",
      "Answer: Small businesses, family farmers, and ranchers\n",
      "\n",
      "LLM Answer: When corporations don't have to compete, it is the small businesses, family farmers, and ranchers who suffer. Additionally, consumers may experience higher prices as a result.\n",
      "\n",
      "--------------------------------------------------\n",
      "\n",
      "\n",
      "QA number 12 \n",
      "\n",
      "Question: What is the purpose of the chief prosecutor for pandemic fraud?\n",
      "\n",
      "Answer: To go after the criminals who stole relief money\n",
      "\n",
      "LLM Answer: The purpose of the chief prosecutor for pandemic fraud is to go after the criminals who stole billions in relief money meant for small businesses and millions of Americans. They will be responsible for investigating and prosecuting cases of fraud related to the misuse of funds intended for pandemic relief.\n",
      "\n",
      "--------------------------------------------------\n",
      "\n",
      "\n",
      "QA number 13 \n",
      "\n",
      "Question: What will happen to the deficit by the end of this year?\n",
      "\n",
      "Answer: It will be less than half of what it was before\n",
      "\n",
      "LLM Answer: The given context does not provide specific information about the projected deficit by the end of this year. Therefore, I don't have the information to answer your question.\n",
      "\n",
      "--------------------------------------------------\n",
      "\n",
      "\n",
      "QA number 14 \n",
      "\n",
      "Question: What is the significance of the president cutting the deficit by more than one trillion dollars?\n",
      "\n",
      "Answer: No other president has achieved this\n",
      "\n",
      "LLM Answer: The significance of the president cutting the deficit by more than one trillion dollars is that it demonstrates a significant reduction in the amount of money the government is borrowing to cover its expenses. This reduction in the deficit can have several positive effects, such as reducing the burden of debt on future generations, improving the country's fiscal health, and potentially lowering interest rates. It also indicates a commitment to fiscal responsibility and efficient use of taxpayer money.\n",
      "\n",
      "--------------------------------------------------\n",
      "\n",
      "\n",
      "QA number 15 \n",
      "\n",
      "Question: What does the speaker mean by 'capitalism without competition isn't capitalism'?\n",
      "\n",
      "Answer: Competition is an essential aspect of capitalism\n",
      "\n",
      "LLM Answer: The speaker means that true capitalism requires competition. Without competition, capitalism becomes exploitative and leads to higher prices for consumers. The speaker believes that when corporations don't have to compete, they can drive up prices, harm small businesses, and exploit consumers.\n",
      "\n",
      "--------------------------------------------------\n",
      "\n",
      "\n",
      "QA number 16 \n",
      "\n",
      "Question: What are the consequences of corporations not having to compete?\n",
      "\n",
      "Answer: Profits go up, prices go up, and small businesses suffer\n",
      "\n",
      "LLM Answer: The consequences of corporations not having to compete are that their profits increase, prices for consumers go up, and small businesses and family farmers and ranchers may struggle or go out of business. This lack of competition can lead to exploitation and higher costs for consumers.\n",
      "\n",
      "--------------------------------------------------\n",
      "\n",
      "\n",
      "QA number 17 \n",
      "\n",
      "Question: What is an example of corporations not having to compete?\n",
      "\n",
      "Answer: Ocean carriers raising prices during the pandemic\n",
      "\n",
      "LLM Answer: An example of corporations not having to compete is mentioned in the context: \"We see it happening with ocean carriers moving goods in and out of America. During the pandemic, these foreign-owned companies raised prices by as much as 1,000% and made record profits.\" This suggests that certain ocean carriers, due to lack of competition, were able to raise prices significantly without fear of losing customers, resulting in record profits.\n",
      "\n",
      "--------------------------------------------------\n",
      "\n",
      "\n",
      "QA number 18 \n",
      "\n",
      "Question: What did foreign-owned companies do during the pandemic?\n",
      "\n",
      "Answer: Raised prices by as much as 1,000% and made record profits\n",
      "\n",
      "LLM Answer: During the pandemic, foreign-owned companies raised prices by as much as 1,000% and made record profits.\n",
      "\n",
      "--------------------------------------------------\n",
      "\n",
      "\n",
      "QA number 19 \n",
      "\n",
      "Question: What is the main focus of the Justice Department's chief prosecutor?\n",
      "\n",
      "Answer: Pandemic fraud\n",
      "\n",
      "LLM Answer: The main focus of the Justice Department's chief prosecutor is to protect communities, restore trust, and hold law enforcement accountable. This includes implementing measures such as requiring body cameras, banning chokeholds, and restricting no-knock warrants for law enforcement officers. Additionally, the chief prosecutor emphasizes the importance of funding the police with the necessary resources and training to effectively protect communities.\n",
      "\n",
      "--------------------------------------------------\n",
      "\n",
      "\n",
      "QA number 20 \n",
      "\n",
      "Question: What is the speaker's stance on capitalism?\n",
      "\n",
      "Answer: They are a capitalist\n",
      "\n",
      "LLM Answer: The speaker expresses support for capitalism but emphasizes the importance of competition within capitalism. They state that capitalism without competition is exploitation and drives up prices. They highlight the negative effects of corporations not having to compete, such as increased profits for them and higher prices for consumers.\n",
      "\n",
      "--------------------------------------------------\n",
      "\n",
      "\n",
      "QA number 21 \n",
      "\n",
      "Question: What happens to prices when corporations don't have to compete?\n",
      "\n",
      "Answer: They go up\n",
      "\n",
      "LLM Answer: When corporations don't have to compete, their profits go up, and as a result, prices go up as well. This lack of competition allows corporations to have more control over the market, leading to higher prices for consumers. Additionally, small businesses and family farmers and ranchers may struggle or go under when they cannot compete with larger, non-competitive corporations.\n",
      "\n",
      "--------------------------------------------------\n",
      "\n",
      "\n"
     ]
    }
   ],
   "source": [
    "questions_and_answers_llm = []\n",
    "for i, qa in enumerate(questions_and_answers_GT):\n",
    "    question, answer = qa[\"question\"], qa[\"answer\"]\n",
    "    llm_answer = qa_chain({\"query\": question})[\"result\"]\n",
    "    questions_and_answers_llm.append({\"question\": question, \"result\": llm_answer})\n",
    "    print(f\"QA number {i + 1} \\n\")\n",
    "    print(f\"Question: {question}\\n\")\n",
    "    print(f\"Answer: {answer}\\n\")\n",
    "    print(f\"LLM Answer: {llm_answer}\\n\")\n",
    "    print(\"--------------------------------------------------\\n\\n\")"
   ],
   "metadata": {
    "collapsed": false
   }
  },
  {
   "cell_type": "code",
   "execution_count": 14,
   "outputs": [],
   "source": [
    "template = \"\"\"You are a teacher grading a quiz.\n",
    "You are given a question, the student's answer, and the true answer, and are asked to score the student answer as either Correct or Incorrect.\n",
    "\n",
    "Example Format:\n",
    "QUESTION: question here\n",
    "STUDENT ANSWER: student's answer here\n",
    "TRUE ANSWER: true answer here\n",
    "GRADE: Correct or Incorrect here\n",
    "\n",
    "Grade the student answers based ONLY on their factual accuracy. Ignore differences in punctuation and phrasing between the student answer and true answer. It is OK if the student answer contains more information than the true answer, as long as it does not contain any conflicting statements. If the student answers that there is no specific information provided in the context, then the answer is Incorrect. Begin!\n",
    "\n",
    "QUESTION: {query}\n",
    "STUDENT ANSWER: {result}\n",
    "TRUE ANSWER: {answer}\n",
    "GRADE:\n",
    "\n",
    "Your response should be as follows:\n",
    "\n",
    "GRADE: (Correct or Incorrect)\n",
    "(line break)\n",
    "JUSTIFICATION: (Without mentioning the student/teacher framing of this prompt, explain why the STUDENT ANSWER is Correct or Incorrect. Use one or two sentences maximum. Keep the answer as concise as possible.)\n",
    "\"\"\"\n",
    "\n",
    "GRADE_ANSWER_PROMPT = PromptTemplate(input_variables=[\"query\", \"result\", \"answer\"], template=template)"
   ],
   "metadata": {
    "collapsed": false
   }
  },
  {
   "cell_type": "code",
   "execution_count": 15,
   "outputs": [],
   "source": [
    "from langchain.evaluation import QAEvalChain\n",
    "\n",
    "eval_prompt = GRADE_ANSWER_PROMPT\n",
    "\n",
    "eval_chain = QAEvalChain.from_llm(\n",
    "    llm=gpt35_azure_llm,\n",
    "    prompt=eval_prompt\n",
    ")"
   ],
   "metadata": {
    "collapsed": false
   }
  },
  {
   "cell_type": "code",
   "execution_count": 16,
   "outputs": [],
   "source": [
    "graded_outputs = eval_chain.evaluate(\n",
    "    examples=questions_and_answers_GT,\n",
    "    predictions=questions_and_answers_llm,\n",
    "    question_key=\"question\",\n",
    "    prediction_key=\"result\"\n",
    ")"
   ],
   "metadata": {
    "collapsed": false
   }
  },
  {
   "cell_type": "code",
   "execution_count": 17,
   "outputs": [
    {
     "data": {
      "text/plain": "[{'results': 'GRADE: Correct\\n\\nJUSTIFICATION: The student answer accurately states that the purpose of the chief prosecutor for pandemic fraud is to go after the criminals who stole relief money. The additional information provided by the student does not conflict with the true answer.'},\n {'results': 'GRADE: Incorrect\\n\\nJUSTIFICATION: The student answer is incorrect because the true answer does provide specific information about the projected deficit by the end of this year, stating that it will be less than half of what it was before.'},\n {'results': 'GRADE: Correct\\n\\nJUSTIFICATION: The student answer accurately explains the significance of the president cutting the deficit by more than one trillion dollars, including the positive effects and implications of such a reduction.'},\n {'results': 'GRADE: Correct\\n\\nJUSTIFICATION: The student answer accurately explains that the speaker believes capitalism requires competition and that without competition, capitalism can become exploitative and harm consumers and small businesses.'},\n {'results': 'GRADE: Correct\\n\\nJUSTIFICATION: The student answer accurately identifies the consequences of corporations not having to compete, including increased profits, higher prices for consumers, and the potential struggle or closure of small businesses and family farmers and ranchers.'},\n {'results': 'GRADE: Correct\\n\\nJUSTIFICATION: The student answer accurately identifies ocean carriers raising prices during the pandemic as an example of corporations not having to compete. The additional information provided by the student does not conflict with the true answer.'},\n {'results': 'GRADE: Correct\\n\\nJUSTIFICATION: The student answer accurately states that foreign-owned companies raised prices by as much as 1,000% and made record profits, which aligns with the true answer.'},\n {'results': \"GRADE: Incorrect\\n\\nJUSTIFICATION: The student answer provides additional information about the main focus of the Justice Department's chief prosecutor, including measures related to law enforcement and funding the police. However, the true answer states that the main focus is pandemic fraud, which is not mentioned in the student answer.\"},\n {'results': \"GRADE: Correct\\n\\nJUSTIFICATION: The student accurately identifies the speaker's support for capitalism and their emphasis on the importance of competition within capitalism. They also mention the negative effects of corporations not having to compete.\"},\n {'results': \"GRADE: Correct\\n\\nJUSTIFICATION: The student answer accurately states that prices go up when corporations don't have to compete. Additionally, the student provides additional information about the effects of lack of competition on small businesses and family farmers and ranchers, which does not conflict with the true answer.\"},\n {'results': \"GRADE: Correct\\n\\nJUSTIFICATION: The student answer accurately identifies small businesses, family farmers, and ranchers as those who suffer when corporations don't have to compete. Additionally, the mention of higher prices for consumers is a valid point.\"},\n {'results': 'GRADE: Correct\\n\\nJUSTIFICATION: The student answer accurately states that the purpose of the chief prosecutor for pandemic fraud is to go after the criminals who stole relief money. The additional information provided by the student does not conflict with the true answer.'},\n {'results': 'GRADE: Incorrect\\n\\nJUSTIFICATION: The student answer is incorrect because the true answer does provide specific information about the projected deficit by the end of this year, stating that it will be less than half of what it was before.'},\n {'results': 'GRADE: Correct\\n\\nJUSTIFICATION: The student answer accurately explains the significance of the president cutting the deficit by more than one trillion dollars, including the positive effects and the commitment to fiscal responsibility.'},\n {'results': 'GRADE: Correct\\n\\nJUSTIFICATION: The student answer accurately explains that the speaker believes capitalism requires competition and that without competition, capitalism can become exploitative and harm consumers and small businesses.'},\n {'results': 'GRADE: Correct\\n\\nJUSTIFICATION: The student answer accurately identifies the consequences of corporations not having to compete, including increased profits, higher prices for consumers, and the struggle or closure of small businesses and family farmers and ranchers. The answer also mentions the potential for exploitation and higher costs for consumers, which aligns with the true answer.'},\n {'results': 'GRADE: Correct\\n\\nJUSTIFICATION: The student answer accurately identifies ocean carriers raising prices during the pandemic as an example of corporations not having to compete. The additional information provided by the student does not conflict with the true answer.'},\n {'results': 'GRADE: Correct\\n\\nJUSTIFICATION: The student answer accurately states that foreign-owned companies raised prices by as much as 1,000% and made record profits, which aligns with the true answer.'},\n {'results': \"GRADE: Incorrect\\n\\nJUSTIFICATION: The student answer provides additional information about the main focus of the Justice Department's chief prosecutor, including measures related to law enforcement and funding the police. However, the true answer states that the main focus is pandemic fraud, which is not mentioned in the student answer.\"},\n {'results': \"GRADE: Correct\\n\\nJUSTIFICATION: The student accurately identifies the speaker's support for capitalism and their emphasis on the importance of competition within capitalism. They also mention the negative effects of corporations not having to compete.\"},\n {'results': \"GRADE: Correct\\n\\nJUSTIFICATION: The student answer accurately states that prices go up when corporations don't have to compete. Additionally, the student provides additional information about the effects of lack of competition on small businesses and family farmers and ranchers, which does not conflict with the true answer.\"}]"
     },
     "execution_count": 17,
     "metadata": {},
     "output_type": "execute_result"
    }
   ],
   "source": [
    "graded_outputs"
   ],
   "metadata": {
    "collapsed": false
   }
  },
  {
   "cell_type": "code",
   "execution_count": 18,
   "outputs": [
    {
     "name": "stdout",
     "output_type": "stream",
     "text": [
      "GRADE: Correct\n",
      "\n",
      "JUSTIFICATION: The student answer accurately states that the purpose of the chief prosecutor for pandemic fraud is to go after the criminals who stole relief money. The additional information provided by the student does not conflict with the true answer.\n",
      "--------------------------------------------------\n",
      "\n",
      "\n",
      "GRADE: Incorrect\n",
      "\n",
      "JUSTIFICATION: The student answer is incorrect because the true answer does provide specific information about the projected deficit by the end of this year, stating that it will be less than half of what it was before.\n",
      "--------------------------------------------------\n",
      "\n",
      "\n",
      "GRADE: Correct\n",
      "\n",
      "JUSTIFICATION: The student answer accurately explains the significance of the president cutting the deficit by more than one trillion dollars, including the positive effects and implications of such a reduction.\n",
      "--------------------------------------------------\n",
      "\n",
      "\n",
      "GRADE: Correct\n",
      "\n",
      "JUSTIFICATION: The student answer accurately explains that the speaker believes capitalism requires competition and that without competition, capitalism can become exploitative and harm consumers and small businesses.\n",
      "--------------------------------------------------\n",
      "\n",
      "\n",
      "GRADE: Correct\n",
      "\n",
      "JUSTIFICATION: The student answer accurately identifies the consequences of corporations not having to compete, including increased profits, higher prices for consumers, and the potential struggle or closure of small businesses and family farmers and ranchers.\n",
      "--------------------------------------------------\n",
      "\n",
      "\n",
      "GRADE: Correct\n",
      "\n",
      "JUSTIFICATION: The student answer accurately identifies ocean carriers raising prices during the pandemic as an example of corporations not having to compete. The additional information provided by the student does not conflict with the true answer.\n",
      "--------------------------------------------------\n",
      "\n",
      "\n",
      "GRADE: Correct\n",
      "\n",
      "JUSTIFICATION: The student answer accurately states that foreign-owned companies raised prices by as much as 1,000% and made record profits, which aligns with the true answer.\n",
      "--------------------------------------------------\n",
      "\n",
      "\n",
      "GRADE: Incorrect\n",
      "\n",
      "JUSTIFICATION: The student answer provides additional information about the main focus of the Justice Department's chief prosecutor, including measures related to law enforcement and funding the police. However, the true answer states that the main focus is pandemic fraud, which is not mentioned in the student answer.\n",
      "--------------------------------------------------\n",
      "\n",
      "\n",
      "GRADE: Correct\n",
      "\n",
      "JUSTIFICATION: The student accurately identifies the speaker's support for capitalism and their emphasis on the importance of competition within capitalism. They also mention the negative effects of corporations not having to compete.\n",
      "--------------------------------------------------\n",
      "\n",
      "\n",
      "GRADE: Correct\n",
      "\n",
      "JUSTIFICATION: The student answer accurately states that prices go up when corporations don't have to compete. Additionally, the student provides additional information about the effects of lack of competition on small businesses and family farmers and ranchers, which does not conflict with the true answer.\n",
      "--------------------------------------------------\n",
      "\n",
      "\n",
      "GRADE: Correct\n",
      "\n",
      "JUSTIFICATION: The student answer accurately identifies small businesses, family farmers, and ranchers as those who suffer when corporations don't have to compete. Additionally, the mention of higher prices for consumers is a valid point.\n",
      "--------------------------------------------------\n",
      "\n",
      "\n",
      "GRADE: Correct\n",
      "\n",
      "JUSTIFICATION: The student answer accurately states that the purpose of the chief prosecutor for pandemic fraud is to go after the criminals who stole relief money. The additional information provided by the student does not conflict with the true answer.\n",
      "--------------------------------------------------\n",
      "\n",
      "\n",
      "GRADE: Incorrect\n",
      "\n",
      "JUSTIFICATION: The student answer is incorrect because the true answer does provide specific information about the projected deficit by the end of this year, stating that it will be less than half of what it was before.\n",
      "--------------------------------------------------\n",
      "\n",
      "\n",
      "GRADE: Correct\n",
      "\n",
      "JUSTIFICATION: The student answer accurately explains the significance of the president cutting the deficit by more than one trillion dollars, including the positive effects and the commitment to fiscal responsibility.\n",
      "--------------------------------------------------\n",
      "\n",
      "\n",
      "GRADE: Correct\n",
      "\n",
      "JUSTIFICATION: The student answer accurately explains that the speaker believes capitalism requires competition and that without competition, capitalism can become exploitative and harm consumers and small businesses.\n",
      "--------------------------------------------------\n",
      "\n",
      "\n",
      "GRADE: Correct\n",
      "\n",
      "JUSTIFICATION: The student answer accurately identifies the consequences of corporations not having to compete, including increased profits, higher prices for consumers, and the struggle or closure of small businesses and family farmers and ranchers. The answer also mentions the potential for exploitation and higher costs for consumers, which aligns with the true answer.\n",
      "--------------------------------------------------\n",
      "\n",
      "\n",
      "GRADE: Correct\n",
      "\n",
      "JUSTIFICATION: The student answer accurately identifies ocean carriers raising prices during the pandemic as an example of corporations not having to compete. The additional information provided by the student does not conflict with the true answer.\n",
      "--------------------------------------------------\n",
      "\n",
      "\n",
      "GRADE: Correct\n",
      "\n",
      "JUSTIFICATION: The student answer accurately states that foreign-owned companies raised prices by as much as 1,000% and made record profits, which aligns with the true answer.\n",
      "--------------------------------------------------\n",
      "\n",
      "\n",
      "GRADE: Incorrect\n",
      "\n",
      "JUSTIFICATION: The student answer provides additional information about the main focus of the Justice Department's chief prosecutor, including measures related to law enforcement and funding the police. However, the true answer states that the main focus is pandemic fraud, which is not mentioned in the student answer.\n",
      "--------------------------------------------------\n",
      "\n",
      "\n",
      "GRADE: Correct\n",
      "\n",
      "JUSTIFICATION: The student accurately identifies the speaker's support for capitalism and their emphasis on the importance of competition within capitalism. They also mention the negative effects of corporations not having to compete.\n",
      "--------------------------------------------------\n",
      "\n",
      "\n",
      "GRADE: Correct\n",
      "\n",
      "JUSTIFICATION: The student answer accurately states that prices go up when corporations don't have to compete. Additionally, the student provides additional information about the effects of lack of competition on small businesses and family farmers and ranchers, which does not conflict with the true answer.\n",
      "--------------------------------------------------\n",
      "\n",
      "\n"
     ]
    }
   ],
   "source": [
    "for qa_grade in graded_outputs:\n",
    "    print(f\"{qa_grade['results']}\")\n",
    "    print(\"--------------------------------------------------\\n\\n\")"
   ],
   "metadata": {
    "collapsed": false
   }
  },
  {
   "cell_type": "code",
   "execution_count": 33,
   "outputs": [
    {
     "data": {
      "text/plain": "{'score': 0.12518518518518518}"
     },
     "execution_count": 33,
     "metadata": {},
     "output_type": "execute_result"
    }
   ],
   "source": [
    "from langchain.evaluation import load_evaluator, EvaluatorType\n",
    "from langchain.evaluation import EmbeddingDistance\n",
    "\n",
    "evaluator = load_evaluator(evaluator=EvaluatorType.PAIRWISE_STRING_DISTANCE,\n",
    "                           distance_metric=EmbeddingDistance.EUCLIDEAN,\n",
    "                           embeddings=openai_azure_embeddings,\n",
    "                           llm=gpt35_azure_llm)\n",
    "\n",
    "evaluator.evaluate_string_pairs(\n",
    "    prediction=\"Seattle is very hot in June\", prediction_b=\"Seattle is cool in June.\"\n",
    ")"
   ],
   "metadata": {
    "collapsed": false
   }
  },
  {
   "cell_type": "code",
   "execution_count": 29,
   "outputs": [
    {
     "data": {
      "text/plain": "{'score': 0.548644889956817}"
     },
     "execution_count": 29,
     "metadata": {},
     "output_type": "execute_result"
    }
   ],
   "source": [
    "evaluator = load_evaluator(evaluator=EvaluatorType.EMBEDDING_DISTANCE,\n",
    "                           embeddings=HuggingFaceEmbeddings(),\n",
    "                           distance_metric=EmbeddingDistance.COSINE,\n",
    "                           llm=gpt35_azure_llm)\n",
    "\n",
    "evaluator.evaluate_strings(prediction=\"I shall go\", reference=\"I shan't go\")"
   ],
   "metadata": {
    "collapsed": false
   }
  },
  {
   "cell_type": "markdown",
   "source": [],
   "metadata": {
    "collapsed": false
   }
  }
 ],
 "metadata": {
  "kernelspec": {
   "display_name": "Python 3",
   "language": "python",
   "name": "python3"
  },
  "language_info": {
   "codemirror_mode": {
    "name": "ipython",
    "version": 2
   },
   "file_extension": ".py",
   "mimetype": "text/x-python",
   "name": "python",
   "nbconvert_exporter": "python",
   "pygments_lexer": "ipython2",
   "version": "2.7.6"
  }
 },
 "nbformat": 4,
 "nbformat_minor": 0
}
