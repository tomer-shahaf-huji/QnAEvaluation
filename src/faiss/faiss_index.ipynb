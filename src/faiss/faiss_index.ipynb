{
 "cells": [
  {
   "cell_type": "code",
   "execution_count": 1,
   "outputs": [],
   "source": [
    "import logging\n",
    "\n",
    "from langchain.chat_models import AzureChatOpenAI\n",
    "from langchain.document_loaders import TextLoader\n",
    "from langchain.embeddings import HuggingFaceEmbeddings\n",
    "from langchain.retrievers.multi_query import MultiQueryRetriever\n",
    "from langchain.text_splitter import CharacterTextSplitter\n",
    "from langchain.vectorstores import FAISS"
   ],
   "metadata": {
    "collapsed": false
   }
  },
  {
   "cell_type": "code",
   "execution_count": 2,
   "outputs": [],
   "source": [
    "loader = TextLoader(\"../../state_of_the_union.txt\")"
   ],
   "metadata": {
    "collapsed": false
   }
  },
  {
   "cell_type": "code",
   "execution_count": 3,
   "metadata": {
    "collapsed": true
   },
   "outputs": [],
   "source": [
    "documents = loader.load()\n",
    "text_splitter = CharacterTextSplitter(chunk_size=1000, chunk_overlap=0)\n",
    "docs = text_splitter.split_documents(documents)"
   ]
  },
  {
   "cell_type": "code",
   "execution_count": 4,
   "outputs": [],
   "source": [
    "model_name = \"sentence-transformers/all-mpnet-base-v2\"\n",
    "model_kwargs = {'device': 'cuda'}\n",
    "encode_kwargs = {'normalize_embeddings': False}\n",
    "embeddings = HuggingFaceEmbeddings(\n",
    "    model_name=model_name,\n",
    "    model_kwargs=model_kwargs,\n",
    "    encode_kwargs=encode_kwargs\n",
    ")"
   ],
   "metadata": {
    "collapsed": false
   }
  },
  {
   "cell_type": "code",
   "execution_count": 5,
   "outputs": [],
   "source": [
    "vector_db = FAISS.from_documents(docs, embeddings)"
   ],
   "metadata": {
    "collapsed": false
   }
  },
  {
   "cell_type": "code",
   "execution_count": 6,
   "outputs": [],
   "source": [
    "vector_db.save_local(\"faiss_index\")"
   ],
   "metadata": {
    "collapsed": false
   }
  },
  {
   "cell_type": "code",
   "execution_count": 7,
   "outputs": [
    {
     "data": {
      "text/plain": "'We’re going after the criminals who stole billions in relief money meant for small businesses and millions of Americans.  \\n\\nAnd tonight, I’m announcing that the Justice Department will name a chief prosecutor for pandemic fraud. \\n\\nBy the end of this year, the deficit will be down to less than half what it was before I took office.  \\n\\nThe only president ever to cut the deficit by more than one trillion dollars in a single year. \\n\\nLowering your costs also means demanding more competition. \\n\\nI’m a capitalist, but capitalism without competition isn’t capitalism. \\n\\nIt’s exploitation—and it drives up prices. \\n\\nWhen corporations don’t have to compete, their profits go up, your prices go up, and small businesses and family farmers and ranchers go under. \\n\\nWe see it happening with ocean carriers moving goods in and out of America. \\n\\nDuring the pandemic, these foreign-owned companies raised prices by as much as 1,000% and made record profits.'"
     },
     "execution_count": 7,
     "metadata": {},
     "output_type": "execute_result"
    }
   ],
   "source": [
    "question = \"What did the president say about economics?\"\n",
    "docs = vector_db.similarity_search(question)\n",
    "docs[0].page_content"
   ],
   "metadata": {
    "collapsed": false
   }
  },
  {
   "cell_type": "code",
   "execution_count": 49,
   "outputs": [
    {
     "name": "stderr",
     "output_type": "stream",
     "text": [
      "INFO:langchain.retrievers.multi_query:Generated queries: [\"1. Can you provide any information on the president's statements regarding the field of economics?\", \"2. I'm interested in knowing the president's views and comments on the subject of economics. Could you share any relevant information?\", '3. Could you please share any insights or remarks made by the president in relation to economics?']\n"
     ]
    },
    {
     "data": {
      "text/plain": "6"
     },
     "execution_count": 49,
     "metadata": {},
     "output_type": "execute_result"
    }
   ],
   "source": [
    "logging.basicConfig()\n",
    "logging.getLogger('langchain.retrievers.multi_query').setLevel(logging.INFO)\n",
    "retriever_from_llm = MultiQueryRetriever.from_llm(\n",
    "    retriever=vector_db.as_retriever(),\n",
    "    llm=AzureChatOpenAI(temperature=0,\n",
    "                        openai_api_key=\"02e3dbabaf334ccb959cbeadbd3f99c3\",\n",
    "                        openai_api_base=\"https://llm-x-gpt.openai.azure.com/\",\n",
    "                        deployment_name='LLM-X-GPT35-TURBO',\n",
    "                        openai_api_version=\"2023-03-15-preview\"\n",
    "                        )\n",
    ")\n",
    "\n",
    "unique_docs = retriever_from_llm.get_relevant_documents(query=question)\n",
    "len(unique_docs)"
   ],
   "metadata": {
    "collapsed": false
   }
  },
  {
   "cell_type": "code",
   "execution_count": 55,
   "outputs": [
    {
     "ename": "NameError",
     "evalue": "name 'langchain' is not defined",
     "output_type": "error",
     "traceback": [
      "\u001B[0;31m---------------------------------------------------------------------------\u001B[0m",
      "\u001B[0;31mNameError\u001B[0m                                 Traceback (most recent call last)",
      "Cell \u001B[0;32mIn[55], line 1\u001B[0m\n\u001B[0;32m----> 1\u001B[0m INFO:\u001B[43mlangchain\u001B[49m\u001B[38;5;241m.\u001B[39mretrievers\u001B[38;5;241m.\u001B[39mmulti_query\n",
      "\u001B[0;31mNameError\u001B[0m: name 'langchain' is not defined"
     ]
    }
   ],
   "source": [
    "INFO:langchain.retrievers.multi_query"
   ],
   "metadata": {
    "collapsed": false
   }
  },
  {
   "cell_type": "code",
   "execution_count": 53,
   "outputs": [
    {
     "data": {
      "text/plain": "{'query': 'What did the president say about economics?',\n 'result': \"The president discussed several economic topics in the given context. Here are some key points he made:\\n\\n1. The president announced the appointment of a chief prosecutor for pandemic fraud, indicating a focus on combating the theft of relief money meant for small businesses and Americans.\\n\\n2. He highlighted his achievement of reducing the deficit by more than one trillion dollars in a single year, emphasizing his commitment to fiscal responsibility.\\n\\n3. The president emphasized the importance of competition in capitalism, stating that when corporations don't have to compete, it leads to exploitation, higher prices, and negative impacts on small businesses and farmers.\\n\\n4. He mentioned the issue of inflation and outlined his plan to fight it, which includes cutting the cost of prescription drugs, increasing domestic production, investing in infrastructure, and reducing the deficit.\\n\\n5. The president discussed the need to invest in America, educate Americans, and grow the workforce from the bottom up and the middle out, rather than focusing on top-down economic policies.\\n\\n6. He highlighted the importance of infrastructure, noting that the U.S. currently ranks 13th in the world and emphasizing the significance of the Bipartisan Infrastructure Law in rebuilding America.\\n\\n7. The president contrasted the American Rescue Plan, which he claimed helped working people and created jobs, with the previous administration's tax cut that primarily benefited the top 1% of Americans.\\n\\n8. He criticized the trickle-down theory, stating that it led to weaker economic growth, lower wages, larger deficits, and increased income inequality.\\n\\nOverall, the president's remarks focused on addressing economic challenges, promoting competition, investing in infrastructure, and prioritizing the well-being of working people.\"}"
     },
     "execution_count": 53,
     "metadata": {},
     "output_type": "execute_result"
    }
   ],
   "source": [
    "from langchain.chains import RetrievalQA\n",
    "\n",
    "qa_chain = RetrievalQA.from_chain_type(\n",
    "    llm=AzureChatOpenAI(temperature=0,\n",
    "                        openai_api_key=\"02e3dbabaf334ccb959cbeadbd3f99c3\",\n",
    "                        openai_api_base=\"https://llm-x-gpt.openai.azure.com/\",\n",
    "                        deployment_name='LLM-X-GPT35-TURBO',\n",
    "                        openai_api_version=\"2023-03-15-preview\"\n",
    "                        ),\n",
    "    retriever=vector_db.as_retriever())\n",
    "\n",
    "qa_chain({\"query\": question})"
   ],
   "metadata": {
    "collapsed": false
   }
  },
  {
   "cell_type": "markdown",
   "source": [],
   "metadata": {
    "collapsed": false
   }
  }
 ],
 "metadata": {
  "kernelspec": {
   "display_name": "Python 3",
   "language": "python",
   "name": "python3"
  },
  "language_info": {
   "codemirror_mode": {
    "name": "ipython",
    "version": 2
   },
   "file_extension": ".py",
   "mimetype": "text/x-python",
   "name": "python",
   "nbconvert_exporter": "python",
   "pygments_lexer": "ipython2",
   "version": "2.7.6"
  }
 },
 "nbformat": 4,
 "nbformat_minor": 0
}
