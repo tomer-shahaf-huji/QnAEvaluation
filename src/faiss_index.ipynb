{
 "cells": [
  {
   "cell_type": "code",
   "execution_count": 2,
   "outputs": [],
   "source": [
    "import logging\n",
    "import pandas as pd\n",
    "from typing import List\n",
    "\n",
    "from langchain.chat_models import AzureChatOpenAI\n",
    "from langchain.document_loaders import TextLoader\n",
    "from langchain.embeddings import HuggingFaceEmbeddings\n",
    "from langchain.retrievers.multi_query import MultiQueryRetriever\n",
    "from langchain.text_splitter import CharacterTextSplitter\n",
    "from langchain.vectorstores import FAISS"
   ],
   "metadata": {
    "collapsed": false
   }
  },
  {
   "cell_type": "code",
   "execution_count": 3,
   "outputs": [],
   "source": [
    "loader = TextLoader(\"../state_of_the_union.txt\")\n",
    "documents = loader.load()\n",
    "text_splitter = CharacterTextSplitter(chunk_size=1000, chunk_overlap=0)\n",
    "docs = text_splitter.split_documents(documents)"
   ],
   "metadata": {
    "collapsed": false
   }
  },
  {
   "cell_type": "code",
   "execution_count": 4,
   "outputs": [],
   "source": [
    "model_name = \"sentence-transformers/all-mpnet-base-v2\"\n",
    "model_kwargs = {'device': 'cuda'}\n",
    "encode_kwargs = {'normalize_embeddings': False}\n",
    "\n",
    "hf_embeddings = HuggingFaceEmbeddings(\n",
    "    model_name=model_name,\n",
    "    model_kwargs=model_kwargs,\n",
    "    encode_kwargs=encode_kwargs\n",
    ")"
   ],
   "metadata": {
    "collapsed": false
   }
  },
  {
   "cell_type": "code",
   "execution_count": 5,
   "outputs": [],
   "source": [
    "hf_embeddings_vector_db = FAISS.from_documents(docs, hf_embeddings)\n",
    "hf_embeddings_vector_db.save_local(\"faiss_index\")"
   ],
   "metadata": {
    "collapsed": false
   }
  },
  {
   "cell_type": "code",
   "execution_count": 6,
   "outputs": [
    {
     "data": {
      "text/plain": "'We’re going after the criminals who stole billions in relief money meant for small businesses and millions of Americans.  \\n\\nAnd tonight, I’m announcing that the Justice Department will name a chief prosecutor for pandemic fraud. \\n\\nBy the end of this year, the deficit will be down to less than half what it was before I took office.  \\n\\nThe only president ever to cut the deficit by more than one trillion dollars in a single year. \\n\\nLowering your costs also means demanding more competition. \\n\\nI’m a capitalist, but capitalism without competition isn’t capitalism. \\n\\nIt’s exploitation—and it drives up prices. \\n\\nWhen corporations don’t have to compete, their profits go up, your prices go up, and small businesses and family farmers and ranchers go under. \\n\\nWe see it happening with ocean carriers moving goods in and out of America. \\n\\nDuring the pandemic, these foreign-owned companies raised prices by as much as 1,000% and made record profits.'"
     },
     "execution_count": 6,
     "metadata": {},
     "output_type": "execute_result"
    }
   ],
   "source": [
    "question = \"What did the president say about economics?\"\n",
    "docs = hf_embeddings_vector_db.similarity_search(question)\n",
    "docs[0].page_content"
   ],
   "metadata": {
    "collapsed": false
   }
  },
  {
   "cell_type": "code",
   "execution_count": 7,
   "outputs": [],
   "source": [
    "gpt35_azure_llm = AzureChatOpenAI(\n",
    "    temperature=0,\n",
    "    openai_api_key=\"02e3dbabaf334ccb959cbeadbd3f99c3\",\n",
    "    openai_api_base=\"https://llm-x-gpt.openai.azure.com/\",\n",
    "    deployment_name='LLM-X-GPT35-TURBO',\n",
    "    openai_api_version=\"2023-03-15-preview\"\n",
    ")"
   ],
   "metadata": {
    "collapsed": false
   }
  },
  {
   "cell_type": "code",
   "execution_count": 8,
   "outputs": [
    {
     "name": "stderr",
     "output_type": "stream",
     "text": [
      "/home/watson/.virtualenvs/QnAEvaluation/lib/python3.9/site-packages/langchain/embeddings/openai.py:214: UserWarning: WARNING! deployment_name is not default parameter.\n",
      "                    deployment_name was transferred to model_kwargs.\n",
      "                    Please confirm that deployment_name is what you intended.\n",
      "  warnings.warn(\n"
     ]
    }
   ],
   "source": [
    "from langchain.embeddings.openai import OpenAIEmbeddings\n",
    "\n",
    "openai_azure_embeddings = OpenAIEmbeddings(\n",
    "    openai_api_key=\"02e3dbabaf334ccb959cbeadbd3f99c3\",\n",
    "    openai_api_base=\"https://llm-x-gpt.openai.azure.com/\",\n",
    "    deployment_name='LLM-X-Embedding'\n",
    ")"
   ],
   "metadata": {
    "collapsed": false
   }
  },
  {
   "cell_type": "code",
   "execution_count": 9,
   "outputs": [
    {
     "name": "stderr",
     "output_type": "stream",
     "text": [
      "INFO:langchain.retrievers.multi_query:Generated queries: [\"1. Can you provide any information on the president's statements regarding the field of economics?\", \"2. I'm interested in knowing the president's views and comments on the subject of economics. Could you share any relevant information?\", '3. Could you please share any insights or remarks made by the president in relation to economics?']\n"
     ]
    }
   ],
   "source": [
    "logging.basicConfig()\n",
    "logging.getLogger('langchain.retrievers.multi_query').setLevel(logging.INFO)\n",
    "retriever_from_llm = MultiQueryRetriever.from_llm(\n",
    "    retriever=hf_embeddings_vector_db.as_retriever(),\n",
    "    llm=gpt35_azure_llm\n",
    ")\n",
    "\n",
    "unique_docs = retriever_from_llm.get_relevant_documents(query=question)"
   ],
   "metadata": {
    "collapsed": false
   }
  },
  {
   "cell_type": "code",
   "execution_count": 10,
   "outputs": [
    {
     "data": {
      "text/plain": "{'query': 'What did the president say about Zelensky?',\n 'result': 'The president mentioned President Zelenskyy of Ukraine and praised the fearlessness, courage, and determination of the Ukrainian people.'}"
     },
     "execution_count": 10,
     "metadata": {},
     "output_type": "execute_result"
    }
   ],
   "source": [
    "from langchain.chains import RetrievalQA\n",
    "\n",
    "qa_rag_chain = RetrievalQA.from_chain_type(\n",
    "    llm=gpt35_azure_llm,\n",
    "    retriever=hf_embeddings_vector_db.as_retriever()\n",
    ")\n",
    "\n",
    "question = \"What did the president say about Zelensky?\"\n",
    "qa_rag_chain({\"query\": question})"
   ],
   "metadata": {
    "collapsed": false
   }
  },
  {
   "cell_type": "code",
   "execution_count": 11,
   "outputs": [],
   "source": [
    "from langchain.chains import QAGenerationChain\n",
    "from langchain import PromptTemplate\n",
    "\n",
    "templ = \"\"\"You are a smart assistant designed to help high school teachers come up with reading comprehension questions.\n",
    "Given a piece of text, you must come up with a {k} different question and answer pairs that can be used to test a student's reading comprehension abilities.\n",
    "When coming up with this question/answer pair, each pair must be respond in the following format:\n",
    "\n",
    "{{\n",
    "    \"question\": \"$YOUR_QUESTION_HERE\",\n",
    "    \"answer\": \"$THE_ANSWER_HERE\"\n",
    "}}\n",
    "\n",
    "So in your final answer you should response with a list of {k} pairs in this format:\n",
    "\n",
    "```\n",
    "[{{\n",
    "    \"question\": \"$YOUR_QUESTION_HERE\",\n",
    "    \"answer\": \"$THE_ANSWER_HERE\"\n",
    "}},\n",
    " {{\n",
    "    \"question\": \"$YOUR_QUESTION_HERE\",\n",
    "    \"answer\": \"$THE_ANSWER_HERE\"\n",
    "}},\n",
    " {{\n",
    "    \"question\": \"$YOUR_QUESTION_HERE\",\n",
    "    \"answer\": \"$THE_ANSWER_HERE\"\n",
    "    }}\n",
    "]\n",
    "```\n",
    "\n",
    "Please come up with a list of {k} question/answer pairs, in the specified list of JSONS format, for the following text:\n",
    "----------------\n",
    "{text}\n",
    "\"\"\"\n",
    "\n",
    "multi_qa_prompt = PromptTemplate.from_template(template=templ, partial_variables={\"k\": 5})\n",
    "qa_generation_chain = QAGenerationChain.from_llm(llm=gpt35_azure_llm, prompt=multi_qa_prompt)"
   ],
   "metadata": {
    "collapsed": false
   }
  },
  {
   "cell_type": "code",
   "execution_count": 12,
   "outputs": [
    {
     "data": {
      "text/plain": "[{'question': 'What is the purpose of the chief prosecutor for pandemic fraud?',\n  'answer': 'To go after the criminals who stole relief money meant for small businesses and Americans.'},\n {'question': 'How much will the deficit be reduced to by the end of this year?',\n  'answer': 'Less than half of what it was before the current president took office.'},\n {'question': \"What does the speaker mean by 'capitalism without competition isn't capitalism'?\",\n  'answer': 'The speaker believes that true capitalism requires competition, and without it, it becomes exploitation.'},\n {'question': \"What happens to prices when corporations don't have to compete?\",\n  'answer': 'Prices go up.'},\n {'question': 'What did foreign-owned ocean carriers do during the pandemic?',\n  'answer': 'They raised prices by as much as 1,000% and made record profits.'}]"
     },
     "execution_count": 12,
     "metadata": {},
     "output_type": "execute_result"
    }
   ],
   "source": [
    "qna_GT = qa_generation_chain.run(docs[0].page_content)[0]\n",
    "qna_GT"
   ],
   "metadata": {
    "collapsed": false
   }
  },
  {
   "cell_type": "code",
   "execution_count": 13,
   "outputs": [
    {
     "name": "stdout",
     "output_type": "stream",
     "text": [
      "QA number 1 \n",
      "\n",
      "Question: What is the purpose of the chief prosecutor for pandemic fraud?\n",
      "\n",
      "Answer: To go after the criminals who stole relief money meant for small businesses and Americans.\n",
      "\n",
      "LLM Answer: The purpose of the chief prosecutor for pandemic fraud is to go after the criminals who stole billions in relief money meant for small businesses and millions of Americans. They will be responsible for investigating and prosecuting cases of fraud related to the misuse of funds intended for pandemic relief.\n",
      "\n",
      "--------------------------------------------------\n",
      "\n",
      "\n",
      "QA number 2 \n",
      "\n",
      "Question: How much will the deficit be reduced to by the end of this year?\n",
      "\n",
      "Answer: Less than half of what it was before the current president took office.\n",
      "\n",
      "LLM Answer: The given context does not provide specific information about the projected reduction of the deficit by the end of this year. Therefore, I don't have the information to answer your question.\n",
      "\n",
      "--------------------------------------------------\n",
      "\n",
      "\n",
      "QA number 3 \n",
      "\n",
      "Question: What does the speaker mean by 'capitalism without competition isn't capitalism'?\n",
      "\n",
      "Answer: The speaker believes that true capitalism requires competition, and without it, it becomes exploitation.\n",
      "\n",
      "LLM Answer: The speaker means that true capitalism requires competition. Without competition, capitalism becomes exploitative and leads to higher prices for consumers. The speaker believes that when corporations don't have to compete, they can drive up prices, harm small businesses, and exploit consumers.\n",
      "\n",
      "--------------------------------------------------\n",
      "\n",
      "\n",
      "QA number 4 \n",
      "\n",
      "Question: What happens to prices when corporations don't have to compete?\n",
      "\n",
      "Answer: Prices go up.\n",
      "\n",
      "LLM Answer: When corporations don't have to compete, their profits go up, and as a result, prices go up as well. This lack of competition allows corporations to have more control over the market, leading to higher prices for consumers. Additionally, small businesses and family farmers and ranchers may struggle or go under because they cannot compete with these dominant corporations.\n",
      "\n",
      "--------------------------------------------------\n",
      "\n",
      "\n",
      "QA number 5 \n",
      "\n",
      "Question: What did foreign-owned ocean carriers do during the pandemic?\n",
      "\n",
      "Answer: They raised prices by as much as 1,000% and made record profits.\n",
      "\n",
      "LLM Answer: During the pandemic, foreign-owned ocean carriers raised prices by as much as 1,000% and made record profits.\n",
      "\n",
      "--------------------------------------------------\n",
      "\n",
      "\n"
     ]
    }
   ],
   "source": [
    "questions_and_answers_llm = []\n",
    "for i, qa in enumerate(qna_GT):\n",
    "    question, answer = qa[\"question\"], qa[\"answer\"]\n",
    "    llm_answer = qa_rag_chain({\"query\": question})[\"result\"]\n",
    "    questions_and_answers_llm.append({\"question\": question, \"result\": llm_answer})\n",
    "    print(f\"QA number {i + 1} \\n\")\n",
    "    print(f\"Question: {question}\\n\")\n",
    "    print(f\"Answer: {answer}\\n\")\n",
    "    print(f\"LLM Answer: {llm_answer}\\n\")\n",
    "    print(\"--------------------------------------------------\\n\\n\")"
   ],
   "metadata": {
    "collapsed": false
   }
  },
  {
   "cell_type": "code",
   "execution_count": 14,
   "outputs": [],
   "source": [
    "def get_qa_rag_chain_answers(qa_rag_chain, qna_GT) -> List:\n",
    "    qa_rag_chain_answers = []\n",
    "\n",
    "    for qna in qna_GT:\n",
    "        question, answer = qna[\"question\"], qna[\"answer\"]\n",
    "        qa_rag_chain_answer = qa_rag_chain({\"query\": question})[\"result\"]\n",
    "        qa_rag_chain_answers.append({\"question\": question, \"answer\": answer, \"result\": qa_rag_chain_answer})\n",
    "\n",
    "    return qa_rag_chain_answers"
   ],
   "metadata": {
    "collapsed": false
   }
  },
  {
   "cell_type": "code",
   "execution_count": 20,
   "outputs": [],
   "source": [
    "qa_rag_chain_answers = get_qa_rag_chain_answers(qa_rag_chain, qna_GT)"
   ],
   "metadata": {
    "collapsed": false
   }
  },
  {
   "cell_type": "code",
   "execution_count": 21,
   "outputs": [
    {
     "data": {
      "text/plain": "                                            question  \\\n0  What is the purpose of the chief prosecutor fo...   \n1  How much will the deficit be reduced to by the...   \n2  What does the speaker mean by 'capitalism with...   \n3  What happens to prices when corporations don't...   \n4  What did foreign-owned ocean carriers do durin...   \n\n                                              answer  \\\n0  To go after the criminals who stole relief mon...   \n1  Less than half of what it was before the curre...   \n2  The speaker believes that true capitalism requ...   \n3                                      Prices go up.   \n4  They raised prices by as much as 1,000% and ma...   \n\n                                              result  \n0  The purpose of the chief prosecutor for pandem...  \n1  The given context does not provide specific in...  \n2  The speaker means that true capitalism require...  \n3  When corporations don't have to compete, their...  \n4  During the pandemic, foreign-owned ocean carri...  ",
      "text/html": "<div>\n<style scoped>\n    .dataframe tbody tr th:only-of-type {\n        vertical-align: middle;\n    }\n\n    .dataframe tbody tr th {\n        vertical-align: top;\n    }\n\n    .dataframe thead th {\n        text-align: right;\n    }\n</style>\n<table border=\"1\" class=\"dataframe\">\n  <thead>\n    <tr style=\"text-align: right;\">\n      <th></th>\n      <th>question</th>\n      <th>answer</th>\n      <th>result</th>\n    </tr>\n  </thead>\n  <tbody>\n    <tr>\n      <th>0</th>\n      <td>What is the purpose of the chief prosecutor fo...</td>\n      <td>To go after the criminals who stole relief mon...</td>\n      <td>The purpose of the chief prosecutor for pandem...</td>\n    </tr>\n    <tr>\n      <th>1</th>\n      <td>How much will the deficit be reduced to by the...</td>\n      <td>Less than half of what it was before the curre...</td>\n      <td>The given context does not provide specific in...</td>\n    </tr>\n    <tr>\n      <th>2</th>\n      <td>What does the speaker mean by 'capitalism with...</td>\n      <td>The speaker believes that true capitalism requ...</td>\n      <td>The speaker means that true capitalism require...</td>\n    </tr>\n    <tr>\n      <th>3</th>\n      <td>What happens to prices when corporations don't...</td>\n      <td>Prices go up.</td>\n      <td>When corporations don't have to compete, their...</td>\n    </tr>\n    <tr>\n      <th>4</th>\n      <td>What did foreign-owned ocean carriers do durin...</td>\n      <td>They raised prices by as much as 1,000% and ma...</td>\n      <td>During the pandemic, foreign-owned ocean carri...</td>\n    </tr>\n  </tbody>\n</table>\n</div>"
     },
     "execution_count": 21,
     "metadata": {},
     "output_type": "execute_result"
    }
   ],
   "source": [
    "pd.DataFrame(qa_rag_chain_answers)\n"
   ],
   "metadata": {
    "collapsed": false
   }
  },
  {
   "cell_type": "code",
   "execution_count": 24,
   "outputs": [],
   "source": [
    "from langchain.evaluation import load_evaluator, EvaluatorType\n",
    "from langchain.evaluation import EmbeddingDistance\n",
    "\n",
    "\n",
    "def grade_model_answer(qa_rag_chain_answers: List) -> pd.DataFrame:\n",
    "    labeled_criteria_grades = []\n",
    "    pairwise_cosine_distance_grades = []\n",
    "\n",
    "    labeled_criteria_evaluator = load_evaluator(evaluator=EvaluatorType.LABELED_CRITERIA,\n",
    "                                                criteria=\"correctness\",\n",
    "                                                llm=gpt35_azure_llm)\n",
    "\n",
    "    pairwise_cosine_distance_evaluator = load_evaluator(evaluator=EvaluatorType.PAIRWISE_EMBEDDING_DISTANCE,\n",
    "                                                        distance_metric=EmbeddingDistance.COSINE,\n",
    "                                                        embeddings=hf_embeddings,\n",
    "                                                        llm=gpt35_azure_llm)\n",
    "\n",
    "    for qna in qa_rag_chain_answers:\n",
    "        question, answer = qna[\"question\"], qna[\"answer\"]\n",
    "        qna_rag_chain_answer = qna[\"result\"]\n",
    "\n",
    "        labeled_criteria_grade = \\\n",
    "            labeled_criteria_evaluator.evaluate_strings(input=question,\n",
    "                                                        prediction=qna_rag_chain_answer,\n",
    "                                                        reference=answer)\n",
    "        labeled_criteria_grades.append(labeled_criteria_grade[\"score\"])\n",
    "\n",
    "        pairwise_cosine_distance_grade = \\\n",
    "            pairwise_cosine_distance_evaluator.evaluate_string_pairs(prediction=answer,\n",
    "                                                                     prediction_b=qna_rag_chain_answer)\n",
    "        pairwise_cosine_distance_grades.append(pairwise_cosine_distance_grade[\"score\"])\n",
    "\n",
    "    grades_df = pd.DataFrame(qa_rag_chain_answers)\n",
    "    grades_df[\"labeled_criteria_grades\"] = pairwise_cosine_distance_grades\n",
    "    grades_df[\"pairwise_cosine_distance_grade\"] = pairwise_cosine_distance_grades\n",
    "\n",
    "    return grades_df"
   ],
   "metadata": {
    "collapsed": false
   }
  },
  {
   "cell_type": "code",
   "execution_count": 22,
   "outputs": [],
   "source": [
    "qa_rag_chain_answers = get_qa_rag_chain_answers(qa_rag_chain, qna_GT)"
   ],
   "metadata": {
    "collapsed": false
   }
  },
  {
   "cell_type": "code",
   "execution_count": 25,
   "outputs": [
    {
     "data": {
      "text/plain": "                                            question  \\\n0  What is the purpose of the chief prosecutor fo...   \n1  How much will the deficit be reduced to by the...   \n2  What does the speaker mean by 'capitalism with...   \n3  What happens to prices when corporations don't...   \n4  What did foreign-owned ocean carriers do durin...   \n\n                                              answer  \\\n0  To go after the criminals who stole relief mon...   \n1  Less than half of what it was before the curre...   \n2  The speaker believes that true capitalism requ...   \n3                                      Prices go up.   \n4  They raised prices by as much as 1,000% and ma...   \n\n                                              result  labeled_criteria_grades  \\\n0  The purpose of the chief prosecutor for pandem...                 0.432731   \n1  The given context does not provide specific in...                 0.604303   \n2  The speaker means that true capitalism require...                 0.098474   \n3  When corporations don't have to compete, their...                 0.469043   \n4  During the pandemic, foreign-owned ocean carri...                 0.242672   \n\n   pairwise_cosine_distance_grade  \n0                        0.432731  \n1                        0.604303  \n2                        0.098474  \n3                        0.469043  \n4                        0.242672  ",
      "text/html": "<div>\n<style scoped>\n    .dataframe tbody tr th:only-of-type {\n        vertical-align: middle;\n    }\n\n    .dataframe tbody tr th {\n        vertical-align: top;\n    }\n\n    .dataframe thead th {\n        text-align: right;\n    }\n</style>\n<table border=\"1\" class=\"dataframe\">\n  <thead>\n    <tr style=\"text-align: right;\">\n      <th></th>\n      <th>question</th>\n      <th>answer</th>\n      <th>result</th>\n      <th>labeled_criteria_grades</th>\n      <th>pairwise_cosine_distance_grade</th>\n    </tr>\n  </thead>\n  <tbody>\n    <tr>\n      <th>0</th>\n      <td>What is the purpose of the chief prosecutor fo...</td>\n      <td>To go after the criminals who stole relief mon...</td>\n      <td>The purpose of the chief prosecutor for pandem...</td>\n      <td>0.432731</td>\n      <td>0.432731</td>\n    </tr>\n    <tr>\n      <th>1</th>\n      <td>How much will the deficit be reduced to by the...</td>\n      <td>Less than half of what it was before the curre...</td>\n      <td>The given context does not provide specific in...</td>\n      <td>0.604303</td>\n      <td>0.604303</td>\n    </tr>\n    <tr>\n      <th>2</th>\n      <td>What does the speaker mean by 'capitalism with...</td>\n      <td>The speaker believes that true capitalism requ...</td>\n      <td>The speaker means that true capitalism require...</td>\n      <td>0.098474</td>\n      <td>0.098474</td>\n    </tr>\n    <tr>\n      <th>3</th>\n      <td>What happens to prices when corporations don't...</td>\n      <td>Prices go up.</td>\n      <td>When corporations don't have to compete, their...</td>\n      <td>0.469043</td>\n      <td>0.469043</td>\n    </tr>\n    <tr>\n      <th>4</th>\n      <td>What did foreign-owned ocean carriers do durin...</td>\n      <td>They raised prices by as much as 1,000% and ma...</td>\n      <td>During the pandemic, foreign-owned ocean carri...</td>\n      <td>0.242672</td>\n      <td>0.242672</td>\n    </tr>\n  </tbody>\n</table>\n</div>"
     },
     "execution_count": 25,
     "metadata": {},
     "output_type": "execute_result"
    }
   ],
   "source": [
    "grade_model_answer(qa_rag_chain_answers)"
   ],
   "metadata": {
    "collapsed": false
   }
  },
  {
   "cell_type": "markdown",
   "source": [],
   "metadata": {
    "collapsed": false
   }
  }
 ],
 "metadata": {
  "kernelspec": {
   "display_name": "Python 3",
   "language": "python",
   "name": "python3"
  },
  "language_info": {
   "codemirror_mode": {
    "name": "ipython",
    "version": 2
   },
   "file_extension": ".py",
   "mimetype": "text/x-python",
   "name": "python",
   "nbconvert_exporter": "python",
   "pygments_lexer": "ipython2",
   "version": "2.7.6"
  }
 },
 "nbformat": 4,
 "nbformat_minor": 0
}
