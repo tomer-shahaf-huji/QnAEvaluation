{
 "cells": [
  {
   "cell_type": "code",
   "execution_count": 25,
   "outputs": [],
   "source": [
    "import logging\n",
    "import os\n",
    "from json import JSONDecodeError\n",
    "from typing import List\n",
    "\n",
    "import pandas as pd\n",
    "from langchain import PromptTemplate\n",
    "from langchain.chains import QAGenerationChain\n",
    "from langchain.chat_models import AzureChatOpenAI\n",
    "from langchain.document_loaders import TextLoader\n",
    "from langchain.embeddings import HuggingFaceEmbeddings\n",
    "from langchain.evaluation import EmbeddingDistance\n",
    "from langchain.evaluation import load_evaluator, EvaluatorType\n",
    "from langchain.evaluation.schema import StringEvaluator\n",
    "from langchain.retrievers.multi_query import MultiQueryRetriever\n",
    "from langchain.schema import BaseRetriever\n",
    "from langchain.schema import Document\n",
    "from langchain.vectorstores import FAISS\n",
    "\n",
    "from src.prompt_templates import MULTI_QA_GPT4_PROMPT_TEMPLATE, MULTI_QA_GPT35_PROMPT_TEMPLATE, GRADE_DOCS_PROMPT_TEMPLATE\n",
    "\n",
    "INDEX_OF_FIRST_QNA_IN_RESPONSE = 0"
   ],
   "metadata": {
    "collapsed": false
   }
  },
  {
   "cell_type": "code",
   "execution_count": 2,
   "outputs": [
    {
     "name": "stdout",
     "output_type": "stream",
     "text": [
      "4\n"
     ]
    }
   ],
   "source": [
    "root_dir = \"../linux-kernel\"\n",
    "\n",
    "docs = []\n",
    "for dirpath, dirnames, filenames in os.walk(root_dir):\n",
    "    for file in filenames:\n",
    "        if file.endswith(\".c\") and \"/.venv/\" not in dirpath:\n",
    "            try:\n",
    "                loader = TextLoader(os.path.join(dirpath, file), encoding=\"utf-8\")\n",
    "                docs.extend(loader.load())\n",
    "            except Exception as e:\n",
    "                pass\n",
    "print(f\"{len(docs)}\")"
   ],
   "metadata": {
    "collapsed": false
   }
  },
  {
   "cell_type": "code",
   "execution_count": 5,
   "outputs": [
    {
     "name": "stdout",
     "output_type": "stream",
     "text": [
      "1227\n"
     ]
    }
   ],
   "source": [
    "from langchain.text_splitter import (\n",
    "    RecursiveCharacterTextSplitter,\n",
    "    Language,\n",
    ")\n",
    "\n",
    "RecursiveCharacterTextSplitter.get_separators_for_language(Language.CPP)\n",
    "\n",
    "chunks_cpp_splitter = RecursiveCharacterTextSplitter.from_language(\n",
    "    language=Language.CPP, chunk_size=250, chunk_overlap=50\n",
    ")\n",
    "chunks = chunks_cpp_splitter.split_documents(docs)\n",
    "print(f\"{len(chunks)}\")"
   ],
   "metadata": {
    "collapsed": false
   }
  },
  {
   "cell_type": "code",
   "execution_count": 4,
   "outputs": [],
   "source": [
    "hf_embeddings = HuggingFaceEmbeddings(\n",
    "    model_name=\"sentence-transformers/all-mpnet-base-v2\",\n",
    "    model_kwargs={'device': 'cuda'},\n",
    "    encode_kwargs={'normalize_embeddings': False}\n",
    ")"
   ],
   "metadata": {
    "collapsed": false
   }
  },
  {
   "cell_type": "code",
   "execution_count": 6,
   "outputs": [
    {
     "name": "stderr",
     "output_type": "stream",
     "text": [
      "/home/watson/.virtualenvs/QnAEvaluation/lib/python3.9/site-packages/langchain/embeddings/openai.py:214: UserWarning: WARNING! deployment_name is not default parameter.\n",
      "                    deployment_name was transferred to model_kwargs.\n",
      "                    Please confirm that deployment_name is what you intended.\n",
      "  warnings.warn(\n"
     ]
    }
   ],
   "source": [
    "from langchain.embeddings.openai import OpenAIEmbeddings\n",
    "\n",
    "openai_azure_embeddings = OpenAIEmbeddings(\n",
    "    openai_api_key=\"02e3dbabaf334ccb959cbeadbd3f99c3\",\n",
    "    openai_api_base=\"https://llm-x-gpt.openai.azure.com/\",\n",
    "    deployment_name='LLM-X-Embedding',\n",
    "    openai_api_version=\"2023-03-15-preview\"\n",
    ")"
   ],
   "metadata": {
    "collapsed": false
   }
  },
  {
   "cell_type": "code",
   "execution_count": 7,
   "outputs": [],
   "source": [
    "hf_embeddings_vector_db = FAISS.from_documents(chunks, hf_embeddings)\n",
    "hf_embeddings_vector_db.save_local(\"linux-kernel_embeddings\")"
   ],
   "metadata": {
    "collapsed": false
   }
  },
  {
   "cell_type": "code",
   "execution_count": 8,
   "outputs": [
    {
     "name": "stdout",
     "output_type": "stream",
     "text": [
      "\n",
      "\n",
      "\n",
      "doc 0:\n",
      " *\n",
      " * __get_user_pages walks a process's page tables and takes a reference to\n",
      " * each struct page that each user address corresponds to at a given\n",
      " * instant. That is, it takes the page that would be accessed if a user\n",
      "\n",
      "\n",
      "\n",
      "doc 1:\n",
      " * trying again.\n",
      " *\n",
      " * Typically this is meant to be used by the futex code.\n",
      " *\n",
      " * The main difference with get_user_pages() is that this function will\n",
      " * unconditionally call handle_mm_fault() which will in turn perform all the\n",
      "\n",
      "\n",
      "\n",
      "doc 2:\n",
      " *\n",
      " * get_user_pages_remote walks a process's page tables and takes a reference\n",
      " * to each struct page that each user address corresponds to at a given\n",
      " * instant. That is, it takes the page that would be accessed if a user\n",
      "\n",
      "\n",
      "\n",
      "doc 3:\n",
      " *\n",
      " * get_user_pages_remote is typically used for fewer-copy IO operations,\n",
      " * to get a handle on the memory by some means other than accesses\n",
      " * via the user virtual addresses. The pages may be submitted for\n"
     ]
    }
   ],
   "source": [
    "question = \"What is the purpose of the get_user_page in the linux kernel?\"\n",
    "retrieved_chunks = hf_embeddings_vector_db.similarity_search(question)\n",
    "for i, retrieved_chunk in enumerate(retrieved_chunks):\n",
    "    print(f\"\\n\\n\\ndoc {i}:\\n {retrieved_chunk.page_content}\")"
   ],
   "metadata": {
    "collapsed": false
   }
  },
  {
   "cell_type": "code",
   "execution_count": 9,
   "outputs": [],
   "source": [
    "gpt35_azure_llm = AzureChatOpenAI(\n",
    "    temperature=0,\n",
    "    openai_api_key=\"02e3dbabaf334ccb959cbeadbd3f99c3\",\n",
    "    openai_api_base=\"https://llm-x-gpt.openai.azure.com/\",\n",
    "    deployment_name='LLM-X-GPT35-TURBO',\n",
    "    openai_api_version=\"2023-03-15-preview\"\n",
    ")"
   ],
   "metadata": {
    "collapsed": false
   }
  },
  {
   "cell_type": "code",
   "execution_count": 10,
   "outputs": [],
   "source": [
    "gpt4_azure_llm = AzureChatOpenAI(\n",
    "    temperature=0,\n",
    "    openai_api_key=\"a8d69f68a36b40789df2cc3fdbaacda9\",\n",
    "    openai_api_base=\"https://llmx-gpt-canada-east.openai.azure.com/\",\n",
    "    deployment_name='LLM-X-GPT-4',\n",
    "    openai_api_version=\"2023-03-15-preview\"\n",
    ")"
   ],
   "metadata": {
    "collapsed": false
   }
  },
  {
   "cell_type": "code",
   "execution_count": 11,
   "outputs": [
    {
     "data": {
      "text/plain": "{'query': 'What is the purpose of the get_user_page in the linux kernel?',\n 'result': \"The purpose of the `get_user_pages` function in the Linux kernel is to walk a process's page tables and obtain a reference to each `struct page` that corresponds to a user address at a given moment. This function is typically used by the kernel's futex code and is used to access user pages directly. It ensures that the pages are accessible and can be used for various operations, such as IO operations or handling faults.\"}"
     },
     "execution_count": 11,
     "metadata": {},
     "output_type": "execute_result"
    }
   ],
   "source": [
    "from langchain.chains import RetrievalQA\n",
    "\n",
    "qa_rag_chain = RetrievalQA.from_chain_type(\n",
    "    llm=gpt35_azure_llm,\n",
    "    retriever=hf_embeddings_vector_db.as_retriever()\n",
    ")\n",
    "\n",
    "qa_rag_chain({\"query\": question})"
   ],
   "metadata": {
    "collapsed": false
   }
  },
  {
   "cell_type": "code",
   "execution_count": 12,
   "outputs": [],
   "source": [
    "multi_qa_prompt = PromptTemplate.from_template(template=MULTI_QA_GPT35_PROMPT_TEMPLATE,\n",
    "                                               partial_variables={\"k\": 2})\n",
    "qa_generation_chain = QAGenerationChain.from_llm(llm=gpt35_azure_llm,\n",
    "                                                 prompt=multi_qa_prompt)"
   ],
   "metadata": {
    "collapsed": false
   }
  },
  {
   "cell_type": "code",
   "execution_count": 13,
   "outputs": [
    {
     "name": "stderr",
     "output_type": "stream",
     "text": [
      "INFO:langchain.retrievers.multi_query:Generated queries: ['1. What is the function of the get_user_page in the linux kernel?', '2. How does the get_user_page function serve its purpose in the linux kernel?', '3. Can you explain the role and significance of the get_user_page in the linux kernel?']\n"
     ]
    }
   ],
   "source": [
    "logging.basicConfig()\n",
    "logging.getLogger('langchain.retrievers.multi_query').setLevel(logging.INFO)\n",
    "retriever_from_llm = MultiQueryRetriever.from_llm(\n",
    "    retriever=hf_embeddings_vector_db.as_retriever(),\n",
    "    llm=gpt35_azure_llm\n",
    ")\n",
    "\n",
    "unique_docs = retriever_from_llm.get_relevant_documents(query=question)"
   ],
   "metadata": {
    "collapsed": false
   }
  },
  {
   "cell_type": "code",
   "execution_count": 23,
   "outputs": [],
   "source": [
    "def create_qna_GT_df(splitted_docs: List[Document], num_of_qna_for_doc: int) -> pd.DataFrame:\n",
    "    multi_qa_prompt = PromptTemplate.from_template(template=MULTI_QA_GPT4_PROMPT_TEMPLATE,\n",
    "                                                   partial_variables={\"k\": num_of_qna_for_doc})\n",
    "    qa_generation_chain = QAGenerationChain.from_llm(llm=gpt4_azure_llm,\n",
    "                                                     prompt=multi_qa_prompt)\n",
    "\n",
    "    qna_GT = []\n",
    "    for splitted_doc in splitted_docs:\n",
    "        try:\n",
    "            qna = qa_generation_chain.run(splitted_doc.page_content)[INDEX_OF_FIRST_QNA_IN_RESPONSE]\n",
    "            qna_GT += qna\n",
    "        except JSONDecodeError:\n",
    "            print(\"Failed to generate valid QnA JSON for doc\")\n",
    "\n",
    "    qna_GT_df = pd.DataFrame(qna_GT)\n",
    "    return qna_GT_df"
   ],
   "metadata": {
    "collapsed": false
   }
  },
  {
   "cell_type": "code",
   "execution_count": 42,
   "outputs": [],
   "source": [
    "def get_qna_with_chain_answers_df(qa_rag_chain: RetrievalQA, qna_GT_df: pd.DataFrame) -> pd.DataFrame:\n",
    "    qna_with_chain_answers = qna_GT_df.copy()\n",
    "    qna_with_chain_answers[\"chain_answer\"] = qna_with_chain_answers.apply(\n",
    "        lambda qna: qa_rag_chain({\"query\": qna[\"question\"]})[\"result\"], axis=1)\n",
    "\n",
    "    return qna_with_chain_answers"
   ],
   "metadata": {
    "collapsed": false
   }
  },
  {
   "cell_type": "code",
   "execution_count": 43,
   "outputs": [],
   "source": [
    "def get_evaluator_score(evaluator: StringEvaluator, qna_with_chain_answer: pd.Series) -> float:\n",
    "    grade = evaluator.evaluate_strings(\n",
    "        prediction=qna_with_chain_answer[\"chain_answer\"],\n",
    "        reference=qna_with_chain_answer[\"answer\"],\n",
    "        input=qna_with_chain_answer[\"question\"])\n",
    "\n",
    "    return grade[\"score\"]"
   ],
   "metadata": {
    "collapsed": false
   }
  },
  {
   "cell_type": "code",
   "execution_count": 45,
   "outputs": [],
   "source": [
    "def get_retrieval_score(retriever, qna_with_chain_answer: pd.Series):\n",
    "    GRADE_DOCS_PROMPT = PromptTemplate(input_variables=['result', 'answer', 'query'],\n",
    "                                       template=GRADE_DOCS_PROMPT_TEMPLATE)\n",
    "    retrieval_eval_chain = load_evaluator(\n",
    "        evaluator=EvaluatorType.QA,\n",
    "        llm=gpt35_azure_llm,\n",
    "        prompt=GRADE_DOCS_PROMPT\n",
    "    )\n",
    "\n",
    "    retrieved_docs = retriever.get_relevant_documents(query=qna_with_chain_answer[\"question\"],\n",
    "                                                      search_type=\"similarity_score_threshold\",\n",
    "                                                      search_kwargs={\"k\": 2})\n",
    "\n",
    "    grade = retrieval_eval_chain.evaluate_strings(\n",
    "        prediction=retrieved_docs,\n",
    "        reference=qna_with_chain_answer[\"answer\"],\n",
    "        input=qna_with_chain_answer[\"question\"])\n",
    "\n",
    "    return grade[\"score\"]"
   ],
   "metadata": {
    "collapsed": false
   }
  },
  {
   "cell_type": "code",
   "execution_count": 46,
   "outputs": [],
   "source": [
    "def get_grades_for_chain_qna(qna_with_chain_answers_df: pd.DataFrame,\n",
    "                             retriever: BaseRetriever = None) -> pd.DataFrame:\n",
    "    grades_for_chain_qna = qna_with_chain_answers_df.copy()\n",
    "\n",
    "    labeled_criteria_evaluator = load_evaluator(evaluator=EvaluatorType.LABELED_CRITERIA,\n",
    "                                                criteria=\"correctness\",\n",
    "                                                llm=gpt35_azure_llm)\n",
    "\n",
    "    embedding_distance_evaluator = load_evaluator(evaluator=EvaluatorType.EMBEDDING_DISTANCE,\n",
    "                                                  distance_metric=EmbeddingDistance.COSINE,\n",
    "                                                  embeddings=hf_embeddings,\n",
    "                                                  llm=gpt35_azure_llm)\n",
    "\n",
    "    qa_llm_jugde_evaluator = load_evaluator(evaluator=EvaluatorType.QA,\n",
    "                                            llm=gpt35_azure_llm)\n",
    "\n",
    "    grades_for_chain_qna[\"labeled_criteria_grades\"] = qna_with_chain_answers_df.apply(\n",
    "        lambda qna_with_chain_answer: get_evaluator_score(\n",
    "            evaluator=labeled_criteria_evaluator,\n",
    "            qna_with_chain_answer=qna_with_chain_answer), axis=1)\n",
    "\n",
    "    grades_for_chain_qna[\"embedding_distance_grades\"] = qna_with_chain_answers_df.apply(\n",
    "        lambda qna_with_chain_answer: get_evaluator_score(\n",
    "            evaluator=embedding_distance_evaluator,\n",
    "            qna_with_chain_answer=qna_with_chain_answer), axis=1)\n",
    "\n",
    "    grades_for_chain_qna[\"qa_llm_jugde_grades\"] = qna_with_chain_answers_df.apply(\n",
    "        lambda qna_with_chain_answer: get_evaluator_score(\n",
    "            evaluator=qa_llm_jugde_evaluator,\n",
    "            qna_with_chain_answer=qna_with_chain_answer), axis=1)\n",
    "\n",
    "    if retriever:\n",
    "        grades_for_chain_qna[\"retrieval_score\"] = qna_with_chain_answers_df.apply(\n",
    "            lambda qna_with_chain_answer: get_retrieval_score(\n",
    "                retriever=retriever,\n",
    "                qna_with_chain_answer=qna_with_chain_answer), axis=1)\n",
    "\n",
    "    return grades_for_chain_qna"
   ],
   "metadata": {
    "collapsed": false
   }
  },
  {
   "cell_type": "code",
   "execution_count": 47,
   "outputs": [],
   "source": [
    "def run_evaluation(qa_rag_chain: RetrievalQA, qna_GT_df: pd.DataFrame) -> pd.DataFrame:\n",
    "    qna_with_chain_answers_df = get_qna_with_chain_answers_df(qa_rag_chain, qna_GT_df)\n",
    "    grades_for_chain_qna = \\\n",
    "        get_grades_for_chain_qna(qna_with_chain_answers_df=qna_with_chain_answers_df,\n",
    "                                 retriever=qa_rag_chain.retriever)\n",
    "    return grades_for_chain_qna"
   ],
   "metadata": {
    "collapsed": false
   }
  },
  {
   "cell_type": "code",
   "execution_count": 100,
   "outputs": [
    {
     "data": {
      "text/plain": "[{'question': 'What does the module implemented in the given code do?',\n  'answer': 'The module implements the Address Resolution Protocol ARP (RFC 826), which is used to convert IP addresses into a low-level hardware address like an Ethernet address.'},\n {'question': 'What are some of the fixes and improvements made to the code according to the comments?',\n  'answer': 'Some of the fixes and improvements include removing Ethernet assumptions, fixing errors in the ARP logic, adding AX25 support, adding ARP netmask code, major changes to caching and behaviour, adding Frame Relay ARP support, and converting /proc/net/arp to seq_file among others.'},\n {'question': 'What is the purpose of the \\'#define pr_fmt(fmt) KBUILD_MODNAME \": \" fmt\\' line in the code?',\n  'answer': 'This line is defining a macro for formatting print statements. It prepends the module name (KBUILD_MODNAME) and a colon to the format string for the print statement.'},\n {'question': 'What is the purpose of the arp_hash function in the provided code?',\n  'answer': 'The arp_hash function is used to compute a hash value for the given key and device. This is typically used in the context of a hash table, where the hash value is used to quickly locate the entry corresponding to the given key.'},\n {'question': 'What does the arp_constructor function do in the provided code?',\n  'answer': 'The arp_constructor function is used to initialize a neighbour structure. It sets the type of the neighbour based on the IP address, clones the neighbour parameters from the in_device structure, and sets the output function based on whether the device has header operations.'},\n {'question': 'What is the purpose of the arp_key_eq function in the provided code?',\n  'answer': 'The arp_key_eq function is used to compare the key of a neighbour structure with a given key. It returns true if the keys are equal and false otherwise.'},\n {'question': 'What happens if the device does not have header operations in the given code?',\n  'answer': 'If the device does not have header operations, the nud_state of the neighbor is set to NUD_NOARP, the ops of the neighbor is set to arp_direct_ops, and the output of the neighbor is set to neigh_direct_output.'},\n {'question': 'What is the purpose of the arp_send function in the given code?',\n  'answer': 'The arp_send function is used to create and send an ARP packet. It takes parameters such as type, ptype, destination IP, device, source IP, destination hardware address, source hardware address, and target hardware address.'},\n {'question': 'What does the arp_solicit function do in the given code?',\n  'answer': 'The arp_solicit function is used to send an ARP request. It takes a neighbor and a sk_buff as parameters. It gets the source address, destination hardware address, and the device from the neighbor. It then checks the ARP announce mode and selects an address accordingly. It also checks the number of probes and takes actions based on that.'},\n {'question': 'What does the function arp_ignore do?',\n  'answer': 'The arp_ignore function determines whether to ignore an ARP request based on the configuration of the incoming interface. It returns 0 to reply, 1 to ignore, or checks if the target IP is configured on the incoming interface and is in the same subnet as the source IP.'},\n {'question': 'What is the purpose of the arp_accept function?',\n  'answer': 'The arp_accept function determines whether to create new entries from gratuitous ARP (GARP) based on the configuration of the incoming interface. It returns 0 to not create new entries, 1 to create new entries, or checks if the source IP is in the same subnet as an address configured on the interface that received the GARP message.'},\n {'question': 'What does the arp_filter function do?',\n  'answer': 'The arp_filter function checks if the destination device of the route is the same as the incoming device. If not, it increments the LINUX_MIB_ARPFILTER statistic and sets a flag. The function returns 1 if the route output is an error or the flag is set, otherwise it returns 0.'},\n {'question': \"What does the code do if 'sip' is equal to 'tip'?\",\n  'answer': \"If 'sip' is equal to 'tip', the code returns 0.\"},\n {'question': \"What does the function return if 'IN_DEV_PROXY_ARP_PVLAN(in_dev)' is true?\",\n  'answer': \"If 'IN_DEV_PROXY_ARP_PVLAN(in_dev)' is true, the function returns 1.\"},\n {'question': \"What does the comment 'Create an arp packet. If dest_hw is not set, we create a broadcast' imply?\",\n  'answer': \"The comment implies that the code following it is responsible for creating an ARP packet. If the 'dest_hw' is not set, a broadcast is created instead.\"}]"
     },
     "execution_count": 100,
     "metadata": {},
     "output_type": "execute_result"
    }
   ],
   "source": [
    "qnas_in_doc"
   ],
   "metadata": {
    "collapsed": false
   }
  },
  {
   "cell_type": "code",
   "execution_count": 98,
   "outputs": [
    {
     "data": {
      "text/plain": "[{'question': 'What does the function arp_ignore do?',\n  'answer': 'The arp_ignore function determines whether to ignore an ARP request based on the configuration of the incoming interface. It returns 0 to reply, 1 to ignore, or checks if the target IP is configured on the incoming interface and is in the same subnet as the source IP.'},\n {'question': 'What is the purpose of the arp_accept function?',\n  'answer': 'The arp_accept function determines whether to create new entries from gratuitous ARP (GARP) based on the configuration of the incoming interface. It returns 0 to not create new entries, 1 to create new entries, or checks if the source IP is in the same subnet as an address configured on the interface that received the GARP message.'},\n {'question': 'What does the arp_filter function do?',\n  'answer': 'The arp_filter function checks if the destination device of the route is the same as the incoming device. If not, it increments the LINUX_MIB_ARPFILTER statistic and sets a flag. The function returns 1 if the route output is an error or the flag is set, otherwise it returns 0.'}]"
     },
     "execution_count": 98,
     "metadata": {},
     "output_type": "execute_result"
    }
   ],
   "source": [
    "doc_qna[3]"
   ],
   "metadata": {
    "collapsed": false
   }
  },
  {
   "cell_type": "code",
   "execution_count": 37,
   "outputs": [],
   "source": [
    "qna_GT_df.to_csv(\"6qna_linux.csv\")"
   ],
   "metadata": {
    "collapsed": false
   }
  },
  {
   "cell_type": "code",
   "execution_count": 50,
   "outputs": [
    {
     "name": "stderr",
     "output_type": "stream",
     "text": [
      "/home/watson/.virtualenvs/QnAEvaluation/lib/python3.9/site-packages/langchain/evaluation/schema.py:104: UserWarning: Ignoring input in EmbeddingDistanceEvalChain, as it is not expected.\n",
      "  warn(self._skip_input_warning)\n"
     ]
    },
    {
     "data": {
      "text/plain": "                                            question  \\\n0  What is the purpose of the 'for' loop in the g...   \n1  What does the variable 'fact' represent in the...   \n2             What is the purpose of the given code?   \n3    What is the return type of the 'fact' function?   \n4           What is the purpose of the code snippet?   \n5  What is the value of 'fact' after the code sni...   \n\n                                              answer  \\\n0  The 'for' loop is used to calculate the factor...   \n1  The variable 'fact' stores the factorial of th...   \n2  The purpose of the given code is to calculate ...   \n3   The return type of the 'fact' function is 'int'.   \n4  To calculate and display the factorial of a nu...   \n5    The factorial of the number entered by the user   \n\n                                        chain_answer  labeled_criteria_grades  \\\n0  The purpose of the 'for' loop in the given cod...                      NaN   \n1  In the given code, the variable 'fact' represe...                      1.0   \n2  The purpose of the given code is to input the ...                      NaN   \n3   The return type of the 'fact' function is 'int'.                      1.0   \n4  The purpose of the code snippet is to prompt t...                      NaN   \n5  The value of 'fact' cannot be determined witho...                      1.0   \n\n   embedding_distance_grades  qa_llm_jugde_grades  retrieval_score  \n0               3.103038e-01                    1              NaN  \n1               1.048536e-01                    1              1.0  \n2               6.754299e-01                    0              1.0  \n3              -2.220446e-16                    1              1.0  \n4               7.435595e-01                    0              NaN  \n5               5.335894e-01                    1              1.0  ",
      "text/html": "<div>\n<style scoped>\n    .dataframe tbody tr th:only-of-type {\n        vertical-align: middle;\n    }\n\n    .dataframe tbody tr th {\n        vertical-align: top;\n    }\n\n    .dataframe thead th {\n        text-align: right;\n    }\n</style>\n<table border=\"1\" class=\"dataframe\">\n  <thead>\n    <tr style=\"text-align: right;\">\n      <th></th>\n      <th>question</th>\n      <th>answer</th>\n      <th>chain_answer</th>\n      <th>labeled_criteria_grades</th>\n      <th>embedding_distance_grades</th>\n      <th>qa_llm_jugde_grades</th>\n      <th>retrieval_score</th>\n    </tr>\n  </thead>\n  <tbody>\n    <tr>\n      <th>0</th>\n      <td>What is the purpose of the 'for' loop in the g...</td>\n      <td>The 'for' loop is used to calculate the factor...</td>\n      <td>The purpose of the 'for' loop in the given cod...</td>\n      <td>NaN</td>\n      <td>3.103038e-01</td>\n      <td>1</td>\n      <td>NaN</td>\n    </tr>\n    <tr>\n      <th>1</th>\n      <td>What does the variable 'fact' represent in the...</td>\n      <td>The variable 'fact' stores the factorial of th...</td>\n      <td>In the given code, the variable 'fact' represe...</td>\n      <td>1.0</td>\n      <td>1.048536e-01</td>\n      <td>1</td>\n      <td>1.0</td>\n    </tr>\n    <tr>\n      <th>2</th>\n      <td>What is the purpose of the given code?</td>\n      <td>The purpose of the given code is to calculate ...</td>\n      <td>The purpose of the given code is to input the ...</td>\n      <td>NaN</td>\n      <td>6.754299e-01</td>\n      <td>0</td>\n      <td>1.0</td>\n    </tr>\n    <tr>\n      <th>3</th>\n      <td>What is the return type of the 'fact' function?</td>\n      <td>The return type of the 'fact' function is 'int'.</td>\n      <td>The return type of the 'fact' function is 'int'.</td>\n      <td>1.0</td>\n      <td>-2.220446e-16</td>\n      <td>1</td>\n      <td>1.0</td>\n    </tr>\n    <tr>\n      <th>4</th>\n      <td>What is the purpose of the code snippet?</td>\n      <td>To calculate and display the factorial of a nu...</td>\n      <td>The purpose of the code snippet is to prompt t...</td>\n      <td>NaN</td>\n      <td>7.435595e-01</td>\n      <td>0</td>\n      <td>NaN</td>\n    </tr>\n    <tr>\n      <th>5</th>\n      <td>What is the value of 'fact' after the code sni...</td>\n      <td>The factorial of the number entered by the user</td>\n      <td>The value of 'fact' cannot be determined witho...</td>\n      <td>1.0</td>\n      <td>5.335894e-01</td>\n      <td>1</td>\n      <td>1.0</td>\n    </tr>\n  </tbody>\n</table>\n</div>"
     },
     "execution_count": 50,
     "metadata": {},
     "output_type": "execute_result"
    }
   ],
   "source": [
    "run_evaluation(qa_rag_chain=qa_rag_chain, qna_GT_df=qna_GT_df)"
   ],
   "metadata": {
    "collapsed": false
   }
  },
  {
   "cell_type": "code",
   "execution_count": 17,
   "outputs": [],
   "source": [
    "embedding_distance_evaluator = load_evaluator(evaluator=EvaluatorType.EMBEDDING_DISTANCE,\n",
    "                                              distance_metric=EmbeddingDistance.COSINE,\n",
    "                                              embeddings=hf_embeddings,\n",
    "                                              llm=gpt35_azure_llm)"
   ],
   "metadata": {
    "collapsed": false
   }
  },
  {
   "cell_type": "code",
   "execution_count": 17,
   "outputs": [
    {
     "name": "stdout",
     "output_type": "stream",
     "text": [
      "141\n"
     ]
    }
   ],
   "source": [
    "documents_cpp_splitter = RecursiveCharacterTextSplitter.from_language(\n",
    "    language=Language.CPP, chunk_size=2000, chunk_overlap=100\n",
    ")\n",
    "\n",
    "splitted_documents = documents_cpp_splitter.split_documents(docs)\n",
    "print(len(splitted_documents))"
   ],
   "metadata": {
    "collapsed": false
   }
  },
  {
   "cell_type": "code",
   "execution_count": 26,
   "outputs": [
    {
     "name": "stdout",
     "output_type": "stream",
     "text": [
      "Failed to generate valid QnA JSON for doc\n"
     ]
    }
   ],
   "source": [
    "qna_GT_df = create_qna_GT_df(splitted_docs=splitted_documents[:10], num_of_qna_for_doc=2)"
   ],
   "metadata": {
    "collapsed": false
   }
  },
  {
   "cell_type": "code",
   "execution_count": 27,
   "outputs": [
    {
     "data": {
      "text/plain": "                                             question  \\\n0   What is the purpose of the module implemented ...   \n1   Who made major changes to caching and behaviou...   \n2         Who added FDDI support to the Linux Kernel?   \n3   What did Jesper D. Brouer contribute to the Li...   \n4   What is the purpose of the '#define pr_fmt(fmt...   \n5   What is the purpose of the 'arp_generic_ops' s...   \n6   What is the family type for the arp_hh_ops and...   \n7   What is the value of the 'gc_thresh3' field in...   \n8   What does the function arp_mc_map do in the gi...   \n9   What does the arp_constructor function do in t...   \n10  What happens if the neighbour type is RTN_MULT...   \n11  What does the arp_send_dst function do in the ...   \n12  What does the function arp_ignore do in the gi...   \n13  What is the purpose of the arp_filter function...   \n14  What is the purpose of the function 'arp_fwd_p...   \n15  What is the purpose of the function 'arp_fwd_p...   \n16  What does the function 'arp_create' do in the ...   \n17  What does the 'ar_hrd' field represent in the ...   \n\n                                               answer  \n0   The module implemented in the 'arp.c' file of ...  \n1   Alexey Kuznetsov made major changes to caching...  \n2   Lawrence V. Stefani added FDDI support to the ...  \n3   Jesper D. Brouer contributed Proxy ARP PVLAN R...  \n4   This line is defining a macro that prepends th...  \n5   The 'arp_generic_ops' struct is defining a set...  \n6   The family type for both arp_hh_ops and arp_di...  \n7   The value of the 'gc_thresh3' field in the 'ar...  \n8   The function arp_mc_map maps the multicast add...  \n9   The arp_constructor function constructs a neig...  \n10  If the neighbour type is RTN_MULTICAST, the ne...  \n11  The arp_send_dst function creates and sends an...  \n12  The arp_ignore function determines whether to ...  \n13  The arp_filter function is used to filter out ...  \n14  The function 'arp_fwd_proxy' checks if proxy A...  \n15  The function 'arp_fwd_pvlan' checks for RFC306...  \n16  The 'arp_create' function is used to create an...  \n17  The 'ar_hrd' field in the 'arp' structure repr...  ",
      "text/html": "<div>\n<style scoped>\n    .dataframe tbody tr th:only-of-type {\n        vertical-align: middle;\n    }\n\n    .dataframe tbody tr th {\n        vertical-align: top;\n    }\n\n    .dataframe thead th {\n        text-align: right;\n    }\n</style>\n<table border=\"1\" class=\"dataframe\">\n  <thead>\n    <tr style=\"text-align: right;\">\n      <th></th>\n      <th>question</th>\n      <th>answer</th>\n    </tr>\n  </thead>\n  <tbody>\n    <tr>\n      <th>0</th>\n      <td>What is the purpose of the module implemented ...</td>\n      <td>The module implemented in the 'arp.c' file of ...</td>\n    </tr>\n    <tr>\n      <th>1</th>\n      <td>Who made major changes to caching and behaviou...</td>\n      <td>Alexey Kuznetsov made major changes to caching...</td>\n    </tr>\n    <tr>\n      <th>2</th>\n      <td>Who added FDDI support to the Linux Kernel?</td>\n      <td>Lawrence V. Stefani added FDDI support to the ...</td>\n    </tr>\n    <tr>\n      <th>3</th>\n      <td>What did Jesper D. Brouer contribute to the Li...</td>\n      <td>Jesper D. Brouer contributed Proxy ARP PVLAN R...</td>\n    </tr>\n    <tr>\n      <th>4</th>\n      <td>What is the purpose of the '#define pr_fmt(fmt...</td>\n      <td>This line is defining a macro that prepends th...</td>\n    </tr>\n    <tr>\n      <th>5</th>\n      <td>What is the purpose of the 'arp_generic_ops' s...</td>\n      <td>The 'arp_generic_ops' struct is defining a set...</td>\n    </tr>\n    <tr>\n      <th>6</th>\n      <td>What is the family type for the arp_hh_ops and...</td>\n      <td>The family type for both arp_hh_ops and arp_di...</td>\n    </tr>\n    <tr>\n      <th>7</th>\n      <td>What is the value of the 'gc_thresh3' field in...</td>\n      <td>The value of the 'gc_thresh3' field in the 'ar...</td>\n    </tr>\n    <tr>\n      <th>8</th>\n      <td>What does the function arp_mc_map do in the gi...</td>\n      <td>The function arp_mc_map maps the multicast add...</td>\n    </tr>\n    <tr>\n      <th>9</th>\n      <td>What does the arp_constructor function do in t...</td>\n      <td>The arp_constructor function constructs a neig...</td>\n    </tr>\n    <tr>\n      <th>10</th>\n      <td>What happens if the neighbour type is RTN_MULT...</td>\n      <td>If the neighbour type is RTN_MULTICAST, the ne...</td>\n    </tr>\n    <tr>\n      <th>11</th>\n      <td>What does the arp_send_dst function do in the ...</td>\n      <td>The arp_send_dst function creates and sends an...</td>\n    </tr>\n    <tr>\n      <th>12</th>\n      <td>What does the function arp_ignore do in the gi...</td>\n      <td>The arp_ignore function determines whether to ...</td>\n    </tr>\n    <tr>\n      <th>13</th>\n      <td>What is the purpose of the arp_filter function...</td>\n      <td>The arp_filter function is used to filter out ...</td>\n    </tr>\n    <tr>\n      <th>14</th>\n      <td>What is the purpose of the function 'arp_fwd_p...</td>\n      <td>The function 'arp_fwd_proxy' checks if proxy A...</td>\n    </tr>\n    <tr>\n      <th>15</th>\n      <td>What is the purpose of the function 'arp_fwd_p...</td>\n      <td>The function 'arp_fwd_pvlan' checks for RFC306...</td>\n    </tr>\n    <tr>\n      <th>16</th>\n      <td>What does the function 'arp_create' do in the ...</td>\n      <td>The 'arp_create' function is used to create an...</td>\n    </tr>\n    <tr>\n      <th>17</th>\n      <td>What does the 'ar_hrd' field represent in the ...</td>\n      <td>The 'ar_hrd' field in the 'arp' structure repr...</td>\n    </tr>\n  </tbody>\n</table>\n</div>"
     },
     "execution_count": 27,
     "metadata": {},
     "output_type": "execute_result"
    }
   ],
   "source": [
    "qna_GT_df"
   ],
   "metadata": {
    "collapsed": false
   }
  }
 ],
 "metadata": {
  "kernelspec": {
   "display_name": "Python 3",
   "language": "python",
   "name": "python3"
  },
  "language_info": {
   "codemirror_mode": {
    "name": "ipython",
    "version": 2
   },
   "file_extension": ".py",
   "mimetype": "text/x-python",
   "name": "python",
   "nbconvert_exporter": "python",
   "pygments_lexer": "ipython2",
   "version": "2.7.6"
  }
 },
 "nbformat": 4,
 "nbformat_minor": 0
}
