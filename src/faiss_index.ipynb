{
 "cells": [
  {
   "cell_type": "code",
   "execution_count": 1,
   "outputs": [],
   "source": [
    "import logging\n",
    "from typing import List\n",
    "import os\n",
    "\n",
    "import pandas as pd\n",
    "from langchain.chat_models import AzureChatOpenAI\n",
    "from langchain.document_loaders import TextLoader\n",
    "from langchain.embeddings import HuggingFaceEmbeddings\n",
    "from langchain.evaluation import EmbeddingDistance\n",
    "from langchain.evaluation import load_evaluator, EvaluatorType\n",
    "from langchain.evaluation.schema import StringEvaluator\n",
    "from langchain.retrievers.multi_query import MultiQueryRetriever\n",
    "from langchain.schema import Document\n",
    "from langchain.text_splitter import CharacterTextSplitter\n",
    "from langchain.vectorstores import FAISS\n",
    "from langchain.chains import QAGenerationChain\n",
    "from langchain import PromptTemplate\n",
    "from langchain.schema import BaseRetriever"
   ],
   "metadata": {
    "collapsed": false
   }
  },
  {
   "cell_type": "code",
   "execution_count": 3,
   "outputs": [],
   "source": [
    "loader = TextLoader(\"../state_of_the_union.txt\")\n",
    "documents = loader.load()\n",
    "text_splitter = CharacterTextSplitter(chunk_size=1000, chunk_overlap=0)\n",
    "docs = text_splitter.split_documents(documents)"
   ],
   "metadata": {
    "collapsed": false
   }
  },
  {
   "cell_type": "code",
   "execution_count": 13,
   "outputs": [
    {
     "name": "stdout",
     "output_type": "stream",
     "text": [
      "41\n"
     ]
    }
   ],
   "source": [
    "root_dir = \"../c-programs-master\"\n",
    "\n",
    "docs = []\n",
    "for dirpath, dirnames, filenames in os.walk(root_dir):\n",
    "    for file in filenames:\n",
    "        if file.endswith(\".c\") and \"/.venv/\" not in dirpath:\n",
    "            try:\n",
    "                loader = TextLoader(os.path.join(dirpath, file), encoding=\"utf-8\")\n",
    "                docs.extend(loader.load())\n",
    "            except Exception as e:\n",
    "                pass\n",
    "print(f\"{len(docs)}\")"
   ],
   "metadata": {
    "collapsed": false
   }
  },
  {
   "cell_type": "code",
   "execution_count": 17,
   "outputs": [
    {
     "name": "stdout",
     "output_type": "stream",
     "text": [
      "133\n"
     ]
    }
   ],
   "source": [
    "from langchain.text_splitter import (\n",
    "    RecursiveCharacterTextSplitter,\n",
    "    Language,\n",
    ")\n",
    "RecursiveCharacterTextSplitter.get_separators_for_language(Language.CPP)\n",
    "\n",
    "cpp_splitter = RecursiveCharacterTextSplitter.from_language(\n",
    "    language=Language.CPP, chunk_size=200, chunk_overlap=50\n",
    ")\n",
    "texts = cpp_splitter.split_documents(docs)\n",
    "print(f\"{len(texts)}\")"
   ],
   "metadata": {
    "collapsed": false
   }
  },
  {
   "cell_type": "code",
   "execution_count": 18,
   "outputs": [
    {
     "data": {
      "text/plain": "[Document(page_content='// WAP to calculate factorial using recursion fucntion\\n#include<stdio.h>\\nint fact(int);', metadata={'source': '../c-programs-master/recursion/factorial.c'}),\n Document(page_content='void main()\\n{\\n\\tint n, f;\\n\\tprintf(\"\\\\nEnter a number:\\\\n\");\\n\\tscanf(\"%d\", &n);\\n\\tf = fact(n);\\n\\tprintf(\"\\\\nfactorial of %d is %d\", n, f);\\n}', metadata={'source': '../c-programs-master/recursion/factorial.c'}),\n Document(page_content='int fact(int n)\\n{\\n\\tif(n <=1)\\n\\t{\\n\\t\\treturn(1);\\n\\t}\\n\\telse{\\n\\t\\treturn(n*fact(n-1));\\n\\t}\\n}', metadata={'source': '../c-programs-master/recursion/factorial.c'}),\n Document(page_content='// WAP to display all primes numbers from 1 to 100;\\n#include<stdio.h>', metadata={'source': '../c-programs-master/random part-I/prime-no-1-100.c'}),\n Document(page_content='void main()\\n{\\n\\tint n, i, j;\\n\\tfor(n = 1; n<= 100; n++){\\n\\t\\ti=0;\\n\\t\\tfor(j= 1; j<=n; j++){\\n\\t\\t\\tif(n%j==0){\\n\\t\\t\\t\\ti++;\\n\\t\\t\\t}\\t\\t\\n\\t\\t}\\n\\t\\tif(i == 2){\\n\\t\\t\\tprintf(\"\\\\n%d\", n);\\n\\t\\t}\\n\\t}\\n}', metadata={'source': '../c-programs-master/random part-I/prime-no-1-100.c'}),\n Document(page_content='// WAP to check the given number is palindrome or not\\n#include<stdio.h>', metadata={'source': '../c-programs-master/random part-I/palindrome.c'}),\n Document(page_content='void main()\\n{\\n\\tint n, temp, sum=0, d;\\n\\tprintf(\"\\\\nEnter a number:\\\\n\");\\n\\tscanf(\"%d\", &n);\\n\\ttemp=n;\\n\\twhile(n!=0){\\n\\t\\td=n%10;\\n\\t\\tsum = sum * 10 + d;\\n\\t\\tn = n /10;\\n\\t}\\n\\tif(temp == sum){', metadata={'source': '../c-programs-master/random part-I/palindrome.c'}),\n Document(page_content='n = n /10;\\n\\t}\\n\\tif(temp == sum){\\n\\t\\tprintf(\"\\\\n The number is Palindrome\");\\n\\t}\\n\\telse{\\n\\t\\tprintf(\"\\\\nThe number is not Palindrome\");\\n\\t}\\n\\tgetch();\\n}', metadata={'source': '../c-programs-master/random part-I/palindrome.c'}),\n Document(page_content='// WAP to display the following Fibonacci series :\\n// 1 1 2 3 5 ...... to nth term\\n#include<stdio.h>', metadata={'source': '../c-programs-master/random part-I/fibonacci.c'}),\n Document(page_content='void main()\\n{\\n\\tint i, a=0, b=1, c=1, n;\\n\\tprintf(\"\\\\nEnter the number of terms to be displayed:\\\\n\");\\n\\tscanf(\"%d\", &n);\\n\\tfor(i = 1; i <= n; i++){\\n\\t\\tprintf(\"%d\\\\t\", c);\\n\\t\\tc = a+b;\\n\\t\\ta = b;\\n\\t\\tb = c;\\n\\t}', metadata={'source': '../c-programs-master/random part-I/fibonacci.c'}),\n Document(page_content='c = a+b;\\n\\t\\ta = b;\\n\\t\\tb = c;\\n\\t}\\n\\tgetch();\\n}', metadata={'source': '../c-programs-master/random part-I/fibonacci.c'}),\n Document(page_content='// WAP to check whether the given number is prime or composite.\\n#include<stdio.h>', metadata={'source': '../c-programs-master/random part-I/prime-or-composite.c'}),\n Document(page_content='void main()\\n{\\n\\tint n, i;\\n\\tprintf(\"\\\\nEnter number to check prime:\\\\n\");\\n\\tscanf(\"%d\", &n);\\n\\tfor(i = 2; i <=n ; i++){\\n\\t\\tif(n % i == 0)\\n\\t\\tbreak;\\n\\t}\\n\\tif(i == n){\\n\\t\\tprintf(\"The given number is prime.\");\\n\\t}', metadata={'source': '../c-programs-master/random part-I/prime-or-composite.c'}),\n Document(page_content='printf(\"The given number is prime.\");\\n\\t}\\n\\telse {\\n\\t\\tprintf(\"The given number is composite.\");\\n\\t}\\n\\tgetch();\\n}', metadata={'source': '../c-programs-master/random part-I/prime-or-composite.c'}),\n Document(page_content='// WAP to calculate and display sum of the digits present in the given number\\n#include<stdio.h>', metadata={'source': '../c-programs-master/random part-I/sum-of-individuals.c'}),\n Document(page_content='void main()\\n{\\n\\tint n, r, sum=0;\\n\\tprintf(\"\\\\nEnter a number:\\\\n\");\\n\\tscanf(\"%d\", &n);\\n\\tdo\\n\\t{\\n\\t\\tr = n % 10;\\n\\t\\tsum = sum + r;\\n\\t\\tn = n / 10;\\n\\t} while( n!=0);\\n\\tprintf(\"\\\\nSum of the digits = %d\", sum);', metadata={'source': '../c-programs-master/random part-I/sum-of-individuals.c'}),\n Document(page_content='printf(\"\\\\nSum of the digits = %d\", sum);\\n\\tgetch();\\n}', metadata={'source': '../c-programs-master/random part-I/sum-of-individuals.c'}),\n Document(page_content='// WAP to find the sum of all digits when a user enter a 3 digit number\\n#include<stdio.h>\\n#include<conio.h>', metadata={'source': '../c-programs-master/assignments/assignment-I/sum-individaul-digit.c'}),\n Document(page_content='void main()\\n{\\n\\tint n, m, a, b, s = 0;\\n\\tprintf(\"Enter any 3 digit number:\\\\n\");\\n\\tscanf(\"%d\", &n);\\n\\tm = n;\\n\\ta = n % 10;\\n\\tn = n / 10;\\n\\tb = n % 10;\\n\\tn = n / 10;\\n\\ts = a + b + n;', metadata={'source': '../c-programs-master/assignments/assignment-I/sum-individaul-digit.c'}),\n Document(page_content='b = n % 10;\\n\\tn = n / 10;\\n\\ts = a + b + n;\\n\\tprintf(\"The sum of digit of %d id %d\", m, s);\\n\\tgetch();\\n}', metadata={'source': '../c-programs-master/assignments/assignment-I/sum-individaul-digit.c'}),\n Document(page_content='// WAP to enter Fahrenheit temperatur and display its equivalent Celcuis temperatur\\n#include<stdio.h>\\n#include<conio.h>', metadata={'source': '../c-programs-master/assignments/assignment-I/fahrenheit-to-celcius.c'}),\n Document(page_content='void main()\\n{\\n\\tfloat fah, cel;\\n\\tprintf(\"\\\\nEnter temperature in Fahrenheit:\\\\n\");\\n\\tscanf(\"%f\", &fah);\\n\\tcel = (fah - 32) * (float)5/9;\\n\\tprintf(\"Temperature in Celcuis id %f\\\\n\", cel);\\n\\tgetch();\\n}', metadata={'source': '../c-programs-master/assignments/assignment-I/fahrenheit-to-celcius.c'}),\n Document(page_content='// WAP to find the equivalent minutes and seconds when the user enters time in seconds\\n#include<stdio.h>\\n#include<conio.h>', metadata={'source': '../c-programs-master/assignments/assignment-I/time-sec.c'}),\n Document(page_content='void main()\\n{\\n\\tint time, min, sec;\\n\\tprintf(\"Enter time in seconds:\\\\n\");\\n\\tscanf(\"%d\", &time);\\n\\tmin = time / 60;\\n\\tsec = time % 60;\\n\\tprintf(\"Equivalent min = %d and sec = %d\", min, sec);\\n\\tgetch();\\n}', metadata={'source': '../c-programs-master/assignments/assignment-I/time-sec.c'}),\n Document(page_content=\"// WAP to calculate Ram's gross salary is entered through keyboard. His dearness allowance is 40% of basic salary and house rent allowance is 20% of the basic salary.\\n#include<stdio.h>\", metadata={'source': '../c-programs-master/assignments/assignment-I/gross-salary.c'}),\n Document(page_content='#include<stdio.h>\\n#include<conio.h>', metadata={'source': '../c-programs-master/assignments/assignment-I/gross-salary.c'}),\n Document(page_content='void main()\\n{\\n\\tfloat salary, grossSalary, totalAllowance;\\n\\tprintf(\"\\\\nEnter Salary\\\\n\");\\n\\tscanf(\"%f\", &salary);\\n\\ttotalAllowance = ((float)40/100 * salary) + ((float)20/100 * salary);', metadata={'source': '../c-programs-master/assignments/assignment-I/gross-salary.c'}),\n Document(page_content='grossSalary = salary + totalAllowance;\\n\\tprintf(\"The gross Salary is %f\", grossSalary);\\n\\tgetch();\\n}', metadata={'source': '../c-programs-master/assignments/assignment-I/gross-salary.c'}),\n Document(page_content='// WAP to find the area and perimeter of the rectangle\\n#include<stdio.h>\\n#include<conio.h>', metadata={'source': '../c-programs-master/assignments/assignment-I/area-perimeter-of-rectangle.c'}),\n Document(page_content='void main()\\n{\\n\\tfloat length, breadth, area, perimeter;\\n\\tprintf(\"Enter length and breadth:\\\\n\");\\n\\tscanf(\"%f%f\", &length, &breadth);\\n\\tarea = length * breadth;\\n\\tperimeter = 2 * (length + breadth);', metadata={'source': '../c-programs-master/assignments/assignment-I/area-perimeter-of-rectangle.c'}),\n Document(page_content='perimeter = 2 * (length + breadth);\\n\\tprintf(\"Area of rectangle is %f and perimeter is %f\", area, perimeter);\\n\\tgetch();\\n}', metadata={'source': '../c-programs-master/assignments/assignment-I/area-perimeter-of-rectangle.c'}),\n Document(page_content='// WAP to find the simple interest\\n#include<stdio.h>\\n#include<conio.h>', metadata={'source': '../c-programs-master/assignments/assignment-I/simple-interest.c'}),\n Document(page_content='void main()\\n{\\n\\tfloat p, t, r, si;\\n\\tprintf(\"\\\\nEnter Principle:\\\\n\");\\n\\tscanf(\"%f\", &p);\\n\\tprintf(\"\\\\nEnter Rate:\\\\n\");\\n\\tscanf(\"%f\", &r);\\n\\tprintf(\"\\\\nEnter Time:\\\\n\");\\n\\tscanf(\"%f\", &t);', metadata={'source': '../c-programs-master/assignments/assignment-I/simple-interest.c'}),\n Document(page_content='printf(\"\\\\nEnter Time:\\\\n\");\\n\\tscanf(\"%f\", &t);\\n\\tsi = (p * t * r) / 100;\\n\\tprintf(\"Simple Interest is %f\\\\n\", si);\\n\\tgetch();\\n}', metadata={'source': '../c-programs-master/assignments/assignment-I/simple-interest.c'}),\n Document(page_content='// WAP to exchange the values of two numbers the user entered\\n#include<stdio.h>\\n#include<conio.h>', metadata={'source': '../c-programs-master/assignments/assignment-I/swap-value.c'}),\n Document(page_content='void main()\\n{\\n\\tint a, b, temp;\\n\\tprintf(\"Enter the value of a and b\\\\n\");\\n\\tscanf(\"%d%d\", &a, &b);\\n\\ta = temp;\\n\\tb = a;\\n\\ttemp = b;\\n\\tprintf(\"The value of a and b after swap is a = %d and b = %d\", a, b);', metadata={'source': '../c-programs-master/assignments/assignment-I/swap-value.c'}),\n Document(page_content='getch();\\n}', metadata={'source': '../c-programs-master/assignments/assignment-I/swap-value.c'}),\n Document(page_content='// WAP to input data in two dimensional array for example 3X3 matrix and display in matrix form.\\n#include<stdio.h>', metadata={'source': '../c-programs-master/multi dimensional array/3X3matrix.c'}),\n Document(page_content='void main()\\n{\\n\\tint i, j, a[3][3];\\n\\tfor(i = 0; i < 3; i++){\\n\\t\\tfor(j = 0; j<3; j++){\\n\\t\\t\\tprintf(\"\\\\nEnter the matrix elements:\");\\n\\t\\t\\tscanf(\"%d\", &a[i][j]);\\n\\t\\t}\\n\\t}', metadata={'source': '../c-programs-master/multi dimensional array/3X3matrix.c'}),\n Document(page_content='scanf(\"%d\", &a[i][j]);\\n\\t\\t}\\n\\t}\\n\\tprintf(\"\\\\nThe 3X3 matrix elements are: \\\\n\");\\n\\tfor(i = 0; i< 3; i++){\\n\\t\\tfor(j=0; j<3; j++){\\n\\t\\t\\tprintf(\"%d\\\\t\", a[i][j]);\\n\\t\\t}\\n\\t\\tprintf(\"\\\\n\");\\n\\t}\\n\\tgetch();\\n}', metadata={'source': '../c-programs-master/multi dimensional array/3X3matrix.c'}),\n Document(page_content='// WAP to input 2X3 matrix and display in transpose form that is in 3X2 matrix\\n#include<stdio.h>', metadata={'source': '../c-programs-master/multi dimensional array/transpose.c'}),\n Document(page_content='void main()\\n{\\n\\tint i, j, a[2][3];\\n\\tfor(i = 0; i<2; i++){\\n\\t\\tfor(j=0; j < 3; j++){\\n\\t\\t\\tprintf(\"\\\\nENter the matrix elements:\\\\n\");\\n\\t\\t\\tscanf(\"%d\", &a[i][j]);\\n\\t\\t}\\n\\t\\t\\n\\t}', metadata={'source': '../c-programs-master/multi dimensional array/transpose.c'}),\n Document(page_content='scanf(\"%d\", &a[i][j]);\\n\\t\\t}\\n\\t\\t\\n\\t}\\n\\tprintf(\"\\\\nThe matrix elements after transpose are:\\\\n\");\\n\\tfor(i = 0; i<3; i++){\\n\\t\\tfor(j=0; j<2; j++){\\n\\t\\t\\tprintf(\"%d\\\\t\", a[j][i]);\\n\\t\\t}\\n\\t \\tprintf(\"\\\\n\");\\n\\t}\\n\\tgetch();', metadata={'source': '../c-programs-master/multi dimensional array/transpose.c'}),\n Document(page_content='}\\n\\t \\tprintf(\"\\\\n\");\\n\\t}\\n\\tgetch();\\n}', metadata={'source': '../c-programs-master/multi dimensional array/transpose.c'}),\n Document(page_content='#include<stdio.h>', metadata={'source': '../c-programs-master/function/sum.c'}),\n Document(page_content='int main(){\\n    int a,b,c;\\n\\n    printf(\"Enter two numbers a and b for sum\\\\n\");\\n    scanf(\"%d%d\",&a,&b);\\n\\n    // calling funciton adder\\n    c = adder(a,b);\\n\\n    printf(\"Sum is %d\",c);\\n\\n    return 0;\\n}', metadata={'source': '../c-programs-master/function/sum.c'}),\n Document(page_content='printf(\"Sum is %d\",c);\\n\\n    return 0;\\n}', metadata={'source': '../c-programs-master/function/sum.c'}),\n Document(page_content='int adder(int a, int b){\\n    int sum;\\n    sum = a + b;\\n    return sum;\\n}', metadata={'source': '../c-programs-master/function/sum.c'}),\n Document(page_content='// WAP to check whether the entered number is positive, negative, or zero using function\\n#include<stdio.h>\\nvoid posit(int);', metadata={'source': '../c-programs-master/function/check-positive-negative-zero.c'}),\n Document(page_content='void posit(int);\\nvoid main()\\n{\\n\\tint n;\\n\\tprintf(\"\\\\nEnter a number\");\\n\\tscanf(\"%d\", &n);\\n\\tposit(n);\\n}', metadata={'source': '../c-programs-master/function/check-positive-negative-zero.c'}),\n Document(page_content='void posit(int n)\\n{\\n\\tif(n > 0){\\n\\t\\tprintf(\"\\\\n%d is positive number\", n);\\n\\t\\t\\n\\t}\\n\\telse if(n<0){\\n\\t\\tprintf(\"\\\\n%d is negative number\", n);\\n\\t\\t\\n\\t}\\n\\telse{\\n\\t\\tprintf(\"\\\\n%d is zero\", n);\\n\\t}\\n}', metadata={'source': '../c-programs-master/function/check-positive-negative-zero.c'}),\n Document(page_content='// WAP  to print the greatest number between two numbers using function\\n#include<stdio.h>\\nint great(int, int);', metadata={'source': '../c-programs-master/function/greatest-number.c'}),\n Document(page_content='void main()\\n{\\n\\tint a, b, c;\\n\\tprintf(\"\\\\nEnter two numbers:\\\\n\");\\n\\tscanf(\"%d%d\", &a, &b);\\n\\tc = great(a, b);\\n\\tprintf(\"\\\\nGreatest number = %d\", c);\\n}', metadata={'source': '../c-programs-master/function/greatest-number.c'}),\n Document(page_content='int great(int a, int b){\\n\\tif(a > b){\\n\\t\\treturn (a);\\n\\t}\\n\\telse {\\n\\t\\treturn (b);\\n\\t}\\n}', metadata={'source': '../c-programs-master/function/greatest-number.c'}),\n Document(page_content=\"// WAP to input 'n' numbers and search the number whether it is in the list or not.\\n#include<stdio.h>\", metadata={'source': '../c-programs-master/array/search-num-in-the-list.c'}),\n Document(page_content='void main()\\n{\\n\\tint i, n, num[100], x;\\n\\tprintf(\"\\\\nEnter the size of array not more than 100:\\\\n\");\\n\\tscanf(\"%d\", &n);\\n\\tfor(i= 0; i < n; i++){\\n\\t\\tprintf(\"Enter array elements:\\\\n\");\\n\\t\\tscanf(\"%d\", num[i]);', metadata={'source': '../c-programs-master/array/search-num-in-the-list.c'}),\n Document(page_content='scanf(\"%d\", num[i]);\\n\\t}\\n\\tprintf(\"Enter a number to be search:\\\\n\");\\n\\tscanf(\"%d\", &x);\\n\\tfor(i =0; i<n; i++){\\n\\t\\tif(x == num[i]){\\n\\t\\t\\tprintf(\"The number is in the list.\");\\n\\t\\t\\tbreak;\\n\\t\\t}\\n\\t\\tif(x == i){', metadata={'source': '../c-programs-master/array/search-num-in-the-list.c'}),\n Document(page_content='break;\\n\\t\\t}\\n\\t\\tif(x == i){\\n\\t\\t\\tprintf(\"the number is not in the list.\");\\n\\t\\t}\\n\\t}\\n\\tgetch();\\n}', metadata={'source': '../c-programs-master/array/search-num-in-the-list.c'}),\n Document(page_content='// WAP to input 5 numbers with constant values initialization in array to display the sum\\n#include<stdio.h>', metadata={'source': '../c-programs-master/array/1-array-sum.c'}),\n Document(page_content='void main()\\n{\\n\\tint i, sum=0;\\n\\tint num[5]={5, 10, 15, 20, 25};\\n\\tprintf(\"\\\\n The 5 numbers in array is: \\\\n\");\\n\\tfor(i = 0; i < 5; i++){\\n\\t\\tprintf(\"%d\\\\n\", num[i]);\\n\\t\\tsum = sum + num[i];\\n\\t}', metadata={'source': '../c-programs-master/array/1-array-sum.c'}),\n Document(page_content='sum = sum + num[i];\\n\\t}\\n\\tprintf(\"\\\\nSum of 5 numbers is: %d\", sum);\\n\\tgetch();\\n}', metadata={'source': '../c-programs-master/array/1-array-sum.c'}),\n Document(page_content='// Program that accepts marks of 10 student in C programming , display in ascending order, also display topper and loser marks\\n#include <stdio.h>', metadata={'source': '../c-programs-master/array/bubbleSort.c'}),\n Document(page_content='int main(){\\n    int i, j, arr[10];\\n    int temp;\\n    // Taking user\\'s input\\n    printf(\"Enter the Marks obtained by 10 students in BCA:\\\\n\");\\n    for(i=0;i<10;i++){\\n        scanf(\"%d\",&arr[i]);\\n    }', metadata={'source': '../c-programs-master/array/bubbleSort.c'}),\n Document(page_content='scanf(\"%d\",&arr[i]);\\n    }\\n    // Arranging in ascending order\\n    for(i=0;i<9;i++){\\n        for(j=i+1;j>10;j++){\\n            if(arr[i]<arr[j]){\\n                temp = arr[i];', metadata={'source': '../c-programs-master/array/bubbleSort.c'}),\n Document(page_content='temp = arr[i];\\n                arr[i] = arr[j];\\n                arr[j] = temp;\\n            }\\n        }\\n    }\\n    // Printing marks in ascending order', metadata={'source': '../c-programs-master/array/bubbleSort.c'}),\n Document(page_content='}\\n    // Printing marks in ascending order\\n    printf(\"The sorted marks in Ascending orders are\\\\n\");\\n    for(i=0;i<10;i++){\\n        printf(\"%d\\\\t\\\\n\",arr[i]);\\n    }', metadata={'source': '../c-programs-master/array/bubbleSort.c'}),\n Document(page_content='printf(\"%d\\\\t\\\\n\",arr[i]);\\n    }\\n    // Printing Topper and loser marks\\n    printf(\"Topper Marks:%d\\\\n\",arr[9]);\\n    printf(\"Loser Marks:%d\\\\n\",arr[0]);\\n}', metadata={'source': '../c-programs-master/array/bubbleSort.c'}),\n Document(page_content='<<<<<<< HEAD\\n// WAP to input the age of 2 students and count the number of students having age between 20 to 25.\\n#include<stdio.h>', metadata={'source': '../c-programs-master/array/count-age-of-students.c'}),\n Document(page_content='void main()\\n{\\n\\tint i , age[10], c = 0;\\n\\tfor(i = 0; i < 20; i++){\\n\\t\\tprintf(\"Enter age of students:\");\\n\\t\\tscanf(\"%d\", age[i]);\\n\\t}\\n\\tfor(i = 0; i < 20; i++){\\n\\t\\tif(age[i] >= 20 && age[i]<= 25){\\n\\t\\t\\tc++;\\n\\t\\t}', metadata={'source': '../c-programs-master/array/count-age-of-students.c'}),\n Document(page_content='if(age[i] >= 20 && age[i]<= 25){\\n\\t\\t\\tc++;\\n\\t\\t}\\n\\t}\\n\\tprintf(\"total number of studnet having age bwtweon 20 -25 is: %d\", c);\\n\\tgetch();\\n}\\n=======', metadata={'source': '../c-programs-master/array/count-age-of-students.c'}),\n Document(page_content='getch();\\n}\\n=======\\n// WAP to input the age of 20 students and count the number of students having age between 20 to 25.\\n#include<stdio.h>', metadata={'source': '../c-programs-master/array/count-age-of-students.c'}),\n Document(page_content='void main()\\n{\\n\\tint i , age[20], c = 0;\\n\\tfor(i = 0; i < 20; i++){\\n\\t\\tprintf(\"Enter age of students:\");\\n\\t\\tscanf(\"%d\", age[i]);\\n\\t}\\n\\tfor(i = 0; i < 20; i++){\\n\\t\\tif(age[i] >= 20 && age[i]<= 25){\\n\\t\\t\\tc++;\\n\\t\\t}', metadata={'source': '../c-programs-master/array/count-age-of-students.c'}),\n Document(page_content='if(age[i] >= 20 && age[i]<= 25){\\n\\t\\t\\tc++;\\n\\t\\t}\\n\\t}\\n\\tprintf(\"total number of studnet having age bwtweon 20 -25 is: %d\", c);\\n\\tgetch();\\n}\\n>>>>>>> e3a297402d71179ab88cebfd5aaf5d6215360042', metadata={'source': '../c-programs-master/array/count-age-of-students.c'}),\n Document(page_content=\"// WAP to input 'n' numbers and sort them in ascending order.\\n#include<stdio.h>\", metadata={'source': '../c-programs-master/array/ascending-order.c'}),\n Document(page_content='int main()\\n{\\n\\tint i,j, n, num[100], t;\\n\\tprintf(\"\\\\nEnter the size of array not more than 100:\\\\n\");\\n\\tscanf(\"%d\", &n);\\n\\tfor(i = 0; i < n; i++){\\n\\t\\tprintf(\"enter array elements:\\\\n\");', metadata={'source': '../c-programs-master/array/ascending-order.c'}),\n Document(page_content='printf(\"enter array elements:\\\\n\");\\n\\t\\tscanf(\"%d\", &num[i]);\\n\\t}\\n\\tfor(i = 0; i< n-1; i++){\\n\\t\\tfor(j= i+1; j <n; j++){\\n\\t\\t\\tif(num[i] > num[j]){\\n\\t\\t\\t\\tt = num[i];\\n\\t\\t\\t\\tnum[i] = num[j];\\n\\t\\t\\t\\tnum[j] = t;\\n\\t\\t\\t}', metadata={'source': '../c-programs-master/array/ascending-order.c'}),\n Document(page_content='num[i] = num[j];\\n\\t\\t\\t\\tnum[j] = t;\\n\\t\\t\\t}\\n\\t\\t}\\n\\t}\\n\\tprintf(\"\\\\nNumbers in ascending order are:\\\\n\");\\n\\tfor(i = 0; i < n; i++){\\n\\t\\tprintf(\"\\\\n%d\", num[i]);\\n\\t}\\n\\treturn 0;\\n}', metadata={'source': '../c-programs-master/array/ascending-order.c'}),\n Document(page_content=\"// WAP to find the largest number amoung 'n' numbers\\n#include<stdio.h>\", metadata={'source': '../c-programs-master/array/largest-num-amount-n.c'}),\n Document(page_content='void main()\\n{\\n\\tint i, n, num[100], max;\\n\\tprintf(\"\\\\nEnter the size of array not more than 100:\\\\n\");\\n\\tscanf(\"%d\", &n);\\n\\tfor(i = 0; i < n; i++){\\n\\t\\tprintf(\"Enter array elements:\\\\n\");', metadata={'source': '../c-programs-master/array/largest-num-amount-n.c'}),\n Document(page_content='printf(\"Enter array elements:\\\\n\");\\n\\t\\tscanf(\"%d\", &num[i]);\\n\\t}\\n\\tmax=num[0];\\n\\tfor(i = 1; i < n; i++){\\n\\t\\tif(num[i] > max){\\n\\t\\t\\tmax = num[i];\\n\\t\\t}\\n\\t}\\n\\tprintf(\"\\\\n Largest number in array is : %d\", max);', metadata={'source': '../c-programs-master/array/largest-num-amount-n.c'}),\n Document(page_content='getch();\\n}', metadata={'source': '../c-programs-master/array/largest-num-amount-n.c'}),\n Document(page_content='// WAP that reads marks of five subjects and calculates total marks & percentage. Also awards the division on the basis of following criteria.\\n// PERCENTAGE ===> DIVISION\\n// p > =75   ===> Distinction', metadata={'source': '../c-programs-master/control structure/Students-Result.c'}),\n Document(page_content='// p > =75   ===> Distinction\\n// p >= 60 and < 75  ===> FIRST DISTINCTION\\n// p >= 45 and <60 ===> Second  Divistion\\n// p >= 35 and < 45 ===> Third Division\\n// Otherwise ===> FAILED', metadata={'source': '../c-programs-master/control structure/Students-Result.c'}),\n Document(page_content='#include<stdio.h>', metadata={'source': '../c-programs-master/control structure/Students-Result.c'}),\n Document(page_content='void main()\\n{\\n\\tint eng, nep, comp, sci, maths, total;\\n\\tfloat per;\\n\\tprintf(\"\\\\n Enter marks of English:\\\\n\");\\n\\tscanf(\"%d\", &eng);\\n\\tprintf(\"Enter marks of Nepali:\\\\n\");\\n\\tscanf(\"%d\", &nep);', metadata={'source': '../c-programs-master/control structure/Students-Result.c'}),\n Document(page_content='scanf(\"%d\", &nep);\\n\\tprintf(\"Enter marks of Computer Science:\\\\n\");\\n\\tscanf(\"%d\", &comp);\\n\\tprintf(\"Enter marks of Science:\\\\n\");\\n\\tscanf(\"%d\", &sci);\\n\\tprintf(\"Enter marks of Maths:\\\\n\");', metadata={'source': '../c-programs-master/control structure/Students-Result.c'}),\n Document(page_content='printf(\"Enter marks of Maths:\\\\n\");\\n\\tscanf(\"%d\", &maths);\\n\\ttotal = eng + nep + comp + sci + maths;\\n\\tper = (float)total/5;\\n\\tprintf(\"Total Obtained Marks = %d \\\\n Percentage = %f \\\\n\", total, per);', metadata={'source': '../c-programs-master/control structure/Students-Result.c'}),\n Document(page_content='if(eng >= 35 && nep >= 35 && comp >= 35 && sci >= 35 && maths >= 35){\\n\\t\\tif(per >= 75){\\n\\t\\t\\tprintf(\"Distinction\");\\n\\t\\t}\\n\\t\\telse if(per >= 60){\\n\\t\\t\\tprintf(\"First Division\");\\n\\t\\t}\\n\\t\\telse if(per >= 45){', metadata={'source': '../c-programs-master/control structure/Students-Result.c'}),\n Document(page_content='}\\n\\t\\telse if(per >= 45){\\n\\t\\t\\tprintf(\"second Division\");\\n\\t\\t}\\n\\t\\telse{\\n\\t\\t\\tprintf(\"Third Divistion\");\\n\\t\\t}\\n\\t}\\n\\telse {\\n\\t\\tprintf(\"You are failed. Sorry :(\");\\n\\t}\\n\\tgetch();\\n}', metadata={'source': '../c-programs-master/control structure/Students-Result.c'}),\n Document(page_content='// WAP to prompt the user to enter any integer from 1 - 7 and displays the corresponding day of the week\\n#include<stdio.h>\\n#include<conio.h>', metadata={'source': '../c-programs-master/control structure/switch-2-days.c'}),\n Document(page_content='void main()\\n{\\n\\tint a;\\n\\tprintf(\"\\\\nEnter any number from 1 - 7 o display days\\\\n\");\\n\\tscanf(\"%d\", &a);\\n\\tswitch(a){\\n\\t\\tcase 1: \\n\\t\\t \\tprintf(\"Sunday\");\\n\\t\\t \\tbreak;\\n\\t\\tcase 2: \\n\\t\\t \\tprintf(\"Monday\");\\n\\t\\t \\tbreak;', metadata={'source': '../c-programs-master/control structure/switch-2-days.c'}),\n Document(page_content='case 2: \\n\\t\\t \\tprintf(\"Monday\");\\n\\t\\t \\tbreak;\\n\\t\\tcase 3: \\n\\t\\t \\tprintf(\"Tuesday\");\\n\\t\\t \\tbreak;\\n\\t\\tcase 4: \\n\\t\\t \\tprintf(\"Wednesday\");\\n\\t\\t \\tbreak;\\n\\t\\tcase 5: \\n\\t\\t \\tprintf(\"Thursday\");\\n\\t\\t \\tbreak;\\n\\t\\tcase 6:', metadata={'source': '../c-programs-master/control structure/switch-2-days.c'}),\n Document(page_content='printf(\"Thursday\");\\n\\t\\t \\tbreak;\\n\\t\\tcase 6: \\n\\t\\t \\tprintf(\"Friday\");\\n\\t\\t \\tbreak;\\n\\t\\tcase 7: \\n\\t\\t \\tprintf(\"Saturday\");\\n\\t\\t \\tbreak;\\n\\t\\tdefault:\\n\\t\\t\\tprintf(\"Sorry:( \\\\n Only from 1 to 7\");\\n\\t\\t\\tbreak;\\n\\t}', metadata={'source': '../c-programs-master/control structure/switch-2-days.c'}),\n Document(page_content='break;\\n\\t}\\n\\tgetch();\\n}', metadata={'source': '../c-programs-master/control structure/switch-2-days.c'}),\n Document(page_content='#include<stdio.h>\\n#include<conio.h>', metadata={'source': '../c-programs-master/control structure/profit-loss.c'}),\n Document(page_content='void main(){\\n\\n    // varibale decleration for selling price (SP) and cost price (CP)\\n    float CP, SP , loss , profit;', metadata={'source': '../c-programs-master/control structure/profit-loss.c'}),\n Document(page_content='// taking input from user\\n    printf(\"Enter the cost and selling price\");\\n    scanf(\"%f%f\",&CP,&SP);', metadata={'source': '../c-programs-master/control structure/profit-loss.c'}),\n Document(page_content='// if statement will check whether the CP or SP is greater\\n    // and then conditions will be applied accordingly', metadata={'source': '../c-programs-master/control structure/profit-loss.c'}),\n Document(page_content='if(CP > SP){\\n        loss = CP - SP;\\n        printf(\"The loss is %f\", loss);\\n    }\\n    else{\\n        profit = SP - CP;\\n        printf(\"The profit is %f\", profit);\\n    }\\n}', metadata={'source': '../c-programs-master/control structure/profit-loss.c'}),\n Document(page_content='// WAP to find the largest number among three numbers given by the user.\\n#include<stdio.h>', metadata={'source': '../c-programs-master/control structure/2-largest-amoung-three.c'}),\n Document(page_content='void main()\\n{\\n\\tint a, b, c;\\n\\tprintf(\"\\\\n Enter any three numbers\\\\n\");\\n\\tscanf(\"%d%d%d\", &a, &b, &c);\\n\\tif(a > b && a > c){\\n\\t\\tprintf(\"%d is the largest number.\", a);\\n\\t}\\n\\telse if(b > c){', metadata={'source': '../c-programs-master/control structure/2-largest-amoung-three.c'}),\n Document(page_content='}\\n\\telse if(b > c){\\n\\t\\tprintf(\"%d is the largest number.\", b);\\n\\t}\\n\\telse {\\n\\t\\tprintf(\"%d is the largest number.\", c);\\n\\t}\\n\\tgetch();\\n}', metadata={'source': '../c-programs-master/control structure/2-largest-amoung-three.c'}),\n Document(page_content='// WAP which reads any two numbers and displays the largest one.\\n#include<stdio.h>', metadata={'source': '../c-programs-master/control structure/1-largest-two-numbers.c'}),\n Document(page_content='void main()\\n{\\n\\tint a, b;\\n\\tprintf(\"Enter two numbers:\\\\n\");\\n\\tscanf(\"%d%d\", &a, &b);\\n\\tif(a > b){\\n\\t\\tprintf(\"\\\\n%d is larger than %d\", a, b);\\n\\t}\\n\\telse {\\n\\t\\tprintf(\"\\\\n%d is larger than %d\", b, a);\\n\\t}', metadata={'source': '../c-programs-master/control structure/1-largest-two-numbers.c'}),\n Document(page_content='printf(\"\\\\n%d is larger than %d\", b, a);\\n\\t}\\n\\tgetch();\\n}', metadata={'source': '../c-programs-master/control structure/1-largest-two-numbers.c'}),\n Document(page_content='// WAP which reads any two integer values from user and calculates sum, differenc and product using switch statement\\n#include<stdio.h>', metadata={'source': '../c-programs-master/control structure/switch-1-calculator.c'}),\n Document(page_content='void main()\\n{\\n\\tint a, b, c, ch;\\n\\tprintf(\"Enter two numbers:\\\\n\");\\n\\tscanf(\"%d%d\", &a, &b);\\n\\tprintf(\"1. Sum\\\\n\");\\n\\tprintf(\"2. Difference\\\\n\");\\n\\tprintf(\"3. Product\\\\n\");', metadata={'source': '../c-programs-master/control structure/switch-1-calculator.c'}),\n Document(page_content='printf(\"3. Product\\\\n\");\\n\\tprintf(\"Enter your choice (1-3)\\\\n\");\\n\\tscanf(\"%d\", &ch);\\n\\tswitch(ch){\\n\\t\\tcase 1:\\n\\t\\t\\tc = a + b;\\n\\t\\t\\tprintf(\"Sum of two numbers = %d\\\\n\", c);\\n\\t\\t\\tbreak;\\n\\t\\tcase 2:\\n\\t\\t\\tc = a - b;', metadata={'source': '../c-programs-master/control structure/switch-1-calculator.c'}),\n Document(page_content='break;\\n\\t\\tcase 2:\\n\\t\\t\\tc = a - b;\\n\\t\\t\\tprintf(\"Difference of two numbers = %d\\\\n\", c);\\t\\n\\t\\t\\tbreak;\\n\\t\\tcase 3: \\n\\t\\t\\tc = a * b;\\n\\t\\t\\tprintf(\"Product of two numbers = %d\\\\n\", c);\\n\\t\\t\\tbreak;\\n\\t\\tdefault:', metadata={'source': '../c-programs-master/control structure/switch-1-calculator.c'}),\n Document(page_content='break;\\n\\t\\tdefault:\\n\\t\\t\\tprintf(\"Wrong Choice !!! Please enter from 1 / 2 / 3 only.\");\\n\\t\\t\\tbreak;\\n\\t}\\n\\tgetch();\\n}', metadata={'source': '../c-programs-master/control structure/switch-1-calculator.c'}),\n Document(page_content='/*\\n        *\\n      * * *\\n    * * * * *\\n  * * * * * * *\\n* * * * * * * * *\\n\\n*/\\n\\n#include <stdio.h>', metadata={'source': '../c-programs-master/loops/nested numbers/loop6.c'}),\n Document(page_content='int main() {\\n   int i, space, rows, k = 0;\\n   printf(\"Enter the number of rows: \");\\n   scanf(\"%d\", &rows);\\n   for (i = 1; i <= rows; ++i, k = 0) {\\n      for (space = 1; space <= rows - i; ++space) {', metadata={'source': '../c-programs-master/loops/nested numbers/loop6.c'}),\n Document(page_content='printf(\"  \");\\n      }\\n      while (k != 2 * i - 1) {\\n         printf(\"* \");\\n         ++k;\\n      }\\n      printf(\"\\\\n\");\\n   }\\n   return 0;\\n}', metadata={'source': '../c-programs-master/loops/nested numbers/loop6.c'}),\n Document(page_content='// WAP to display multiplication table of 6\\n#include<stdio.h>\\nvoid main()\\n{\\n\\tint i = 1, p;\\n\\tdo\\n\\t{\\n\\t\\tp = 6 * i;\\n\\t\\tprintf(\"\\\\n6 * %d = %d\", i, p);\\n\\t\\ti++;\\n\\t}while(i <= 10);\\n\\tgetch();\\n}', metadata={'source': '../c-programs-master/loops/do while loop/2-do-while-loop.c'}),\n Document(page_content='// WAP to calculate and display factorial of 5\\n#include<stdio.h>\\nmain()\\n{\\n\\tint i, n, fact=1;\\n\\tprintf(\"Enter a number for factorial:\\\\n\");\\n\\tscanf(\"%d\", &n);\\n\\tfor(i = 1; i <= n; i++){\\n\\t\\tfact = fact * i;', metadata={'source': '../c-programs-master/loops/for loop/4-factorial.c'}),\n Document(page_content='for(i = 1; i <= n; i++){\\n\\t\\tfact = fact * i;\\t\\n\\t}\\n\\tprintf(\"Factorial of %d is = %d\", n, fact);\\n\\tgetch();\\n}', metadata={'source': '../c-programs-master/loops/for loop/4-factorial.c'}),\n Document(page_content='// WAP to calculate and display the value of y raised to power x (z = y^x)\\n#include<stdio.h>', metadata={'source': '../c-programs-master/loops/for loop/3-for-loop.c'}),\n Document(page_content='void main()\\n{\\n\\tint i, x, y, z = 1;\\n\\tprintf(\"\\\\nEnter the value for x and y:\\\\n\");\\n\\tscanf(\"%d%d\", &x, &y);\\n\\tfor(i = 1; i <= x; i++){\\n\\t\\tz = z * y;\\n\\t}\\n\\tprintf(\"%d raise to power %d = %d\", y, x, z);', metadata={'source': '../c-programs-master/loops/for loop/3-for-loop.c'}),\n Document(page_content='}\\n\\tprintf(\"%d raise to power %d = %d\", y, x, z);\\n\\tgetch();\\n}', metadata={'source': '../c-programs-master/loops/for loop/3-for-loop.c'}),\n Document(page_content='// WAP to calculate and display sum of the numbers from 1 to 10;\\n#include<stdio.h>', metadata={'source': '../c-programs-master/loops/while loop/1-while-loop.c'}),\n Document(page_content='void main()\\n{\\n\\tint i = 1, sum = 0;\\n\\twhile(i <= 10)\\n\\t{\\n\\t\\tsum += i;\\n\\t\\ti++;\\n\\t}\\n\\tprintf(\"sum of numbers from 1 to 10 = %d\", sum);\\n\\tgetch();\\n}', metadata={'source': '../c-programs-master/loops/while loop/1-while-loop.c'}),\n Document(page_content='// WAP to calculate area of a circle\\n#include<stdio.h>', metadata={'source': '../c-programs-master/basics input outputs/6-area-of-circle.c'}),\n Document(page_content='void main()\\n{\\n\\tfloat r, a;\\n\\tprintf(\"Enter radius\\\\n\");\\n\\tscanf(\"%f\", &r);\\n\\ta = 3.14 * r * r;\\n\\tprintf(\"area = %.2f\", a); //upto two digits\\n\\tgetch();\\n}', metadata={'source': '../c-programs-master/basics input outputs/6-area-of-circle.c'}),\n Document(page_content='// WAP to input two numbers and print remainder and quotient\\n#include<stdio.h>', metadata={'source': '../c-programs-master/basics input outputs/4-remainder-quotient.c'}),\n Document(page_content='void main()\\n{\\n\\tint a, b, c, d;   // second number divides a first number\\n\\tprintf(\"Enter two numbers\");\\n\\tscanf(\"%d%d\", &a, &b);\\n\\tc = a/b;\\n\\td = a%b;\\n\\tprintf(\"quotient = %d\", c);', metadata={'source': '../c-programs-master/basics input outputs/4-remainder-quotient.c'}),\n Document(page_content='c = a/b;\\n\\td = a%b;\\n\\tprintf(\"quotient = %d\", c);\\n\\tprintf(\"Remainder = %d\", d);\\n\\tgetch();\\n}', metadata={'source': '../c-programs-master/basics input outputs/4-remainder-quotient.c'}),\n Document(page_content='// WAP ro enter full name and print it on screen.\\n#include<stdio.h>\\nvoid main()\\n{\\n\\tchar name[100];\\n\\tputs(\"Enter your full name\");\\n\\tgets(name);\\n\\tputs(\"Your Name is:\");\\n\\tputs(name);\\n}', metadata={'source': '../c-programs-master/basics input outputs/3.c'}),\n Document(page_content='// WAP to find a sum of two input numbers\\n#include<stdio.h>', metadata={'source': '../c-programs-master/basics input outputs/1-sum.c'}),\n Document(page_content='void main()\\n{\\n\\tint a, b, c;\\n\\tprintf(\"\\\\nEnter first number\");\\n\\tscanf(\"%d\", &a);\\n\\tprintf(\"\\\\nEnter second number\");\\n\\tscanf(\"%d\", &b);\\n\\tc = a + b;\\n\\tprintf(\"Sum is %d\", c);\\n\\tgetch();\\n}', metadata={'source': '../c-programs-master/basics input outputs/1-sum.c'}),\n Document(page_content='// WAP to find square of a number\\n#include<stdio.h>\\nvoid main()\\n{\\n\\tint a, b;\\n\\tprintf(\"\\\\nEnter a number\");\\n\\tscanf(\"%d\", &a);\\n\\tb = a * a;\\n\\tprintf(\"Square = %d\", b);\\n\\tgetch();\\n}', metadata={'source': '../c-programs-master/basics input outputs/2-sqaure.c'}),\n Document(page_content='// WAP to input seconds and convert it into hour , minutes, and seconds\\n#include<stdio.h>', metadata={'source': '../c-programs-master/basics input outputs/5-convert-hr-min-sec.c'}),\n Document(page_content='void main()\\n{\\n\\tint s, h, r, d, m, a;\\n\\tprintf(\"Enter seconds\");\\n\\tscanf(\"%d\", &s);\\n\\th=s/3600; //for hour\\n\\tr= s%3600;\\n\\tm = r/60;  // for minutes\\n\\td = r%60; // for seconds', metadata={'source': '../c-programs-master/basics input outputs/5-convert-hr-min-sec.c'}),\n Document(page_content='d = r%60; // for seconds\\n\\tprintf(\"hour = %d, minutes - %d, seconds = %d\", h, m, d);\\n\\tgetch();\\n}', metadata={'source': '../c-programs-master/basics input outputs/5-convert-hr-min-sec.c'})]"
     },
     "execution_count": 18,
     "metadata": {},
     "output_type": "execute_result"
    }
   ],
   "source": [
    "texts"
   ],
   "metadata": {
    "collapsed": false
   }
  },
  {
   "cell_type": "code",
   "execution_count": 20,
   "outputs": [],
   "source": [
    "model_name = \"sentence-transformers/all-mpnet-base-v2\"\n",
    "model_kwargs = {'device': 'cuda'}\n",
    "encode_kwargs = {'normalize_embeddings': False}\n",
    "\n",
    "hf_embeddings = HuggingFaceEmbeddings(\n",
    "    model_name=model_name,\n",
    "    model_kwargs=model_kwargs,\n",
    "    encode_kwargs=encode_kwargs\n",
    ")"
   ],
   "metadata": {
    "collapsed": false
   }
  },
  {
   "cell_type": "code",
   "execution_count": 21,
   "outputs": [],
   "source": [
    "hf_embeddings_vector_db = FAISS.from_documents(texts, hf_embeddings)\n",
    "hf_embeddings_vector_db.save_local(\"faiss_index\")"
   ],
   "metadata": {
    "collapsed": false
   }
  },
  {
   "cell_type": "code",
   "execution_count": 23,
   "outputs": [
    {
     "name": "stdout",
     "output_type": "stream",
     "text": [
      "\n",
      "\n",
      "\n",
      "doc 0:\n",
      " for(i = 1; i <= n; i++){\n",
      "\t\tfact = fact * i;\t\n",
      "\t}\n",
      "\tprintf(\"Factorial of %d is = %d\", n, fact);\n",
      "\tgetch();\n",
      "}\n",
      "\n",
      "\n",
      "\n",
      "doc 1:\n",
      " // WAP to calculate factorial using recursion fucntion\n",
      "#include<stdio.h>\n",
      "int fact(int);\n",
      "\n",
      "\n",
      "\n",
      "doc 2:\n",
      " // WAP to calculate and display factorial of 5\n",
      "#include<stdio.h>\n",
      "main()\n",
      "{\n",
      "\tint i, n, fact=1;\n",
      "\tprintf(\"Enter a number for factorial:\\n\");\n",
      "\tscanf(\"%d\", &n);\n",
      "\tfor(i = 1; i <= n; i++){\n",
      "\t\tfact = fact * i;\n",
      "\n",
      "\n",
      "\n",
      "doc 3:\n",
      " void main()\n",
      "{\n",
      "\tint n, f;\n",
      "\tprintf(\"\\nEnter a number:\\n\");\n",
      "\tscanf(\"%d\", &n);\n",
      "\tf = fact(n);\n",
      "\tprintf(\"\\nfactorial of %d is %d\", n, f);\n",
      "}\n"
     ]
    }
   ],
   "source": [
    "question = \"Where does factorial is being calculated?\"\n",
    "docs = hf_embeddings_vector_db.similarity_search(question)\n",
    "for i, doc in enumerate(docs):\n",
    "    print(f\"\\n\\n\\ndoc {i}:\\n {doc.page_content}\")"
   ],
   "metadata": {
    "collapsed": false
   }
  },
  {
   "cell_type": "code",
   "execution_count": 7,
   "outputs": [],
   "source": [
    "gpt35_azure_llm = AzureChatOpenAI(\n",
    "    temperature=0,\n",
    "    openai_api_key=\"02e3dbabaf334ccb959cbeadbd3f99c3\",\n",
    "    openai_api_base=\"https://llm-x-gpt.openai.azure.com/\",\n",
    "    deployment_name='LLM-X-GPT35-TURBO',\n",
    "    openai_api_version=\"2023-03-15-preview\"\n",
    ")"
   ],
   "metadata": {
    "collapsed": false
   }
  },
  {
   "cell_type": "code",
   "execution_count": 8,
   "outputs": [],
   "source": [
    "gpt4_azure_llm = AzureChatOpenAI(\n",
    "    temperature=0,\n",
    "    openai_api_key=\"a8d69f68a36b40789df2cc3fdbaacda9\",\n",
    "    openai_api_base=\"https://llmx-gpt-canada-east.openai.azure.com/\",\n",
    "    deployment_name='LLM-X-GPT-4',\n",
    "    openai_api_version=\"2023-03-15-preview\"\n",
    ")"
   ],
   "metadata": {
    "collapsed": false
   }
  },
  {
   "cell_type": "code",
   "execution_count": 9,
   "outputs": [
    {
     "name": "stderr",
     "output_type": "stream",
     "text": [
      "/home/watson/.virtualenvs/QnAEvaluation/lib/python3.9/site-packages/langchain/embeddings/openai.py:214: UserWarning: WARNING! deployment_name is not default parameter.\n",
      "                    deployment_name was transferred to model_kwargs.\n",
      "                    Please confirm that deployment_name is what you intended.\n",
      "  warnings.warn(\n"
     ]
    }
   ],
   "source": [
    "from langchain.embeddings.openai import OpenAIEmbeddings\n",
    "\n",
    "openai_azure_embeddings = OpenAIEmbeddings(\n",
    "    openai_api_key=\"02e3dbabaf334ccb959cbeadbd3f99c3\",\n",
    "    openai_api_base=\"https://llm-x-gpt.openai.azure.com/\",\n",
    "    deployment_name='LLM-X-Embedding'\n",
    ")"
   ],
   "metadata": {
    "collapsed": false
   }
  },
  {
   "cell_type": "code",
   "execution_count": 10,
   "outputs": [
    {
     "name": "stderr",
     "output_type": "stream",
     "text": [
      "INFO:langchain.retrievers.multi_query:Generated queries: [\"1. Can you provide any information on the president's statements regarding the field of economics?\", \"2. I'm interested in knowing the president's views and comments on the subject of economics. Could you share any relevant information?\", '3. Could you please share any insights or remarks made by the president in relation to economics?']\n"
     ]
    }
   ],
   "source": [
    "logging.basicConfig()\n",
    "logging.getLogger('langchain.retrievers.multi_query').setLevel(logging.INFO)\n",
    "retriever_from_llm = MultiQueryRetriever.from_llm(\n",
    "    retriever=hf_embeddings_vector_db.as_retriever(),\n",
    "    llm=gpt35_azure_llm\n",
    ")\n",
    "\n",
    "unique_docs = retriever_from_llm.get_relevant_documents(query=question)"
   ],
   "metadata": {
    "collapsed": false
   }
  },
  {
   "cell_type": "code",
   "execution_count": 11,
   "outputs": [
    {
     "data": {
      "text/plain": "{'query': 'What did the president say about Zelensky?',\n 'result': 'The president mentioned President Zelenskyy of Ukraine and praised the fearlessness, courage, and determination of the Ukrainian people.'}"
     },
     "execution_count": 11,
     "metadata": {},
     "output_type": "execute_result"
    }
   ],
   "source": [
    "from langchain.chains import RetrievalQA\n",
    "\n",
    "qa_rag_chain = RetrievalQA.from_chain_type(\n",
    "    llm=gpt35_azure_llm,\n",
    "    retriever=hf_embeddings_vector_db.as_retriever()\n",
    ")\n",
    "\n",
    "question = \"What did the president say about Zelensky?\"\n",
    "qa_rag_chain({\"query\": question})"
   ],
   "metadata": {
    "collapsed": false
   }
  },
  {
   "cell_type": "code",
   "execution_count": 12,
   "outputs": [],
   "source": [
    "templ = \"\"\"You are a smart assistant designed to help high school teachers come up with reading comprehension questions.\n",
    "Given a piece of text, you must come up with a {k} different question and answer pairs that can be used to test a student's reading comprehension abilities.\n",
    "When coming up with this question/answer pair, each pair must be respond in the following format:\n",
    "\n",
    "{{\n",
    "    \"question\": \"$YOUR_QUESTION_HERE\",\n",
    "    \"answer\": \"$THE_ANSWER_HERE\"\n",
    "}}\n",
    "\n",
    "So in your final answer you should response with a list of {k} pairs in this format:\n",
    "\n",
    "```\n",
    "[{{\n",
    "    \"question\": \"$YOUR_QUESTION_HERE\",\n",
    "    \"answer\": \"$THE_ANSWER_HERE\"\n",
    "}},\n",
    " {{\n",
    "    \"question\": \"$YOUR_QUESTION_HERE\",\n",
    "    \"answer\": \"$THE_ANSWER_HERE\"\n",
    "}},\n",
    " {{\n",
    "    \"question\": \"$YOUR_QUESTION_HERE\",\n",
    "    \"answer\": \"$THE_ANSWER_HERE\"\n",
    "    }}\n",
    "]\n",
    "```\n",
    "\n",
    "Please come up with a list of {k} question/answer pairs, in the specified list of JSONS format, for the following text:\n",
    "----------------\n",
    "{text}\n",
    "\"\"\"\n",
    "\n",
    "multi_qa_prompt_gpt35 = PromptTemplate.from_template(template=templ, partial_variables={\"k\": 5})\n",
    "qa_generation_chain_gpt35 = QAGenerationChain.from_llm(llm=gpt35_azure_llm, prompt=multi_qa_prompt_gpt35)"
   ],
   "metadata": {
    "collapsed": false
   }
  },
  {
   "cell_type": "code",
   "execution_count": 13,
   "outputs": [],
   "source": [
    "multi_qa_prompt_template = \"\"\"You are a smart assistant designed to help high school teachers come up with reading comprehension questions.\n",
    "Given a piece of text, you must come up with a {k} different question and answer pairs that can be used to test a student's reading comprehension abilities.\n",
    "When coming up with this question/answer pair, each pair must be respond in the following format:\n",
    "\n",
    "{{\n",
    "    \"question\": \"$YOUR_QUESTION_HERE\",\n",
    "    \"answer\": \"$THE_ANSWER_HERE\"\n",
    "}}\n",
    "Please come up with a list of {k} question/answer pairs, in the specified list of dict, for the following text:\n",
    "----------------\n",
    "{text}\n",
    "\"\"\""
   ],
   "metadata": {
    "collapsed": false
   }
  },
  {
   "cell_type": "code",
   "execution_count": 14,
   "outputs": [],
   "source": [
    "def create_qna_GT_df(docs: List[Document], num_of_qna_for_doc: int) -> pd.DataFrame:\n",
    "    multi_qa_prompt = PromptTemplate.from_template(template=multi_qa_prompt_template,\n",
    "                                                   partial_variables={\"k\": num_of_qna_for_doc})\n",
    "    qa_generation_chain = QAGenerationChain.from_llm(llm=gpt35_azure_llm, prompt=multi_qa_prompt_gpt35)\n",
    "\n",
    "    qna_GT = []\n",
    "    for doc in docs:\n",
    "        doc_qna = qa_generation_chain.run(doc.page_content)[0]\n",
    "        qna_GT += doc_qna\n",
    "\n",
    "    qna_GT_df = pd.DataFrame(qna_GT)\n",
    "    return qna_GT_df"
   ],
   "metadata": {
    "collapsed": false
   }
  },
  {
   "cell_type": "code",
   "execution_count": 15,
   "outputs": [],
   "source": [
    "def get_qna_with_chain_answers_df(qa_rag_chain: RetrievalQA, qna_GT_df: pd.DataFrame) -> pd.DataFrame:\n",
    "    qna_with_chain_answers = qna_GT_df.copy()\n",
    "    qna_with_chain_answers[\"chain_answer\"] = qna_with_chain_answers.apply(\n",
    "        lambda qna: qa_rag_chain({\"query\": qna[\"question\"]})[\"result\"], axis=1)\n",
    "\n",
    "    return qna_with_chain_answers"
   ],
   "metadata": {
    "collapsed": false
   }
  },
  {
   "cell_type": "code",
   "execution_count": 16,
   "outputs": [],
   "source": [
    "def get_evaluator_score(evaluator: StringEvaluator, qna_with_chain_answer: pd.Series) -> float:\n",
    "    grade = evaluator.evaluate_strings(\n",
    "        prediction=qna_with_chain_answer[\"chain_answer\"],\n",
    "        reference=qna_with_chain_answer[\"answer\"],\n",
    "        input=qna_with_chain_answer[\"question\"])\n",
    "\n",
    "    return grade[\"score\"]"
   ],
   "metadata": {
    "collapsed": false
   }
  },
  {
   "cell_type": "code",
   "execution_count": 17,
   "outputs": [],
   "source": [
    "grade_docs_prompt_template = \"\"\"\n",
    "    You are a grader trying to determine if a set of retrieved documents will help a student answer a question. \\n\n",
    "\n",
    "    Here is the question: \\n\n",
    "    {query}\n",
    "\n",
    "    Here are the documents retrieved to answer question: \\n\n",
    "    {result}\n",
    "\n",
    "    Here is the correct answer to the question: \\n\n",
    "    {answer}\n",
    "\n",
    "    Criteria:\n",
    "      relevance: Do all of the documents contain information that will help the student arrive that the correct answer to the question?\"\n",
    "\n",
    "    Your response should be as follows:\n",
    "\n",
    "    GRADE: (Correct or Incorrect, depending if all of the documents retrieved meet the criterion)\n",
    "    (line break)\n",
    "    JUSTIFICATION: (Write out in a step by step manner your reasoning about the criterion to be sure that your conclusion is correct. Use three sentences maximum. Keep the answer as concise as possible.)\n",
    "    \"\"\"\n",
    "\n",
    "GRADE_DOCS_PROMPT = PromptTemplate(input_variables=['result', 'answer', 'query'],\n",
    "                                   template=grade_docs_prompt_template)\n",
    "\n",
    "def get_retrieval_score(retriever, qna_with_chain_answer: pd.Series):\n",
    "\n",
    "    retrieval_eval_chain = load_evaluator(\n",
    "    evaluator=EvaluatorType.QA,\n",
    "    llm=gpt35_azure_llm,\n",
    "    prompt=GRADE_DOCS_PROMPT\n",
    "    )\n",
    "\n",
    "    retrieved_docs = retriever.get_relevant_documents(query=qna_with_chain_answer[\"question\"],\n",
    "                                                      search_type=\"similarity_score_threshold\",\n",
    "                                                      search_kwargs={\"k\": 2})\n",
    "\n",
    "    grade = retrieval_eval_chain.evaluate_strings(\n",
    "        prediction=retrieved_docs,\n",
    "        reference=qna_with_chain_answer[\"answer\"],\n",
    "        input=qna_with_chain_answer[\"question\"])\n",
    "\n",
    "    return grade[\"score\"]"
   ],
   "metadata": {
    "collapsed": false
   }
  },
  {
   "cell_type": "code",
   "execution_count": 18,
   "outputs": [],
   "source": [
    "def get_grades_for_chain_qna(qna_with_chain_answers_df: pd.DataFrame,\n",
    "                             retriever: BaseRetriever = None) -> pd.DataFrame:\n",
    "    grades_for_chain_qna = qna_with_chain_answers_df.copy()\n",
    "\n",
    "    labeled_criteria_evaluator = load_evaluator(evaluator=EvaluatorType.LABELED_CRITERIA,\n",
    "                                                criteria=\"correctness\",\n",
    "                                                llm=gpt35_azure_llm)\n",
    "\n",
    "    embedding_distance_evaluator = load_evaluator(evaluator=EvaluatorType.EMBEDDING_DISTANCE,\n",
    "                                                  distance_metric=EmbeddingDistance.COSINE,\n",
    "                                                  embeddings=hf_embeddings,\n",
    "                                                  llm=gpt35_azure_llm)\n",
    "\n",
    "    qa_llm_jugde_evaluator = load_evaluator(evaluator=EvaluatorType.QA,\n",
    "                                            llm=gpt35_azure_llm)\n",
    "\n",
    "    grades_for_chain_qna[\"labeled_criteria_grades\"] = qna_with_chain_answers_df.apply(\n",
    "        lambda qna_with_chain_answer: get_evaluator_score(\n",
    "            evaluator=labeled_criteria_evaluator,\n",
    "            qna_with_chain_answer=qna_with_chain_answer), axis=1)\n",
    "\n",
    "    grades_for_chain_qna[\"embedding_distance_grades\"] = qna_with_chain_answers_df.apply(\n",
    "        lambda qna_with_chain_answer: get_evaluator_score(\n",
    "            evaluator=embedding_distance_evaluator,\n",
    "            qna_with_chain_answer=qna_with_chain_answer), axis=1)\n",
    "\n",
    "    grades_for_chain_qna[\"qa_llm_jugde_grades\"] = qna_with_chain_answers_df.apply(\n",
    "        lambda qna_with_chain_answer: get_evaluator_score(\n",
    "            evaluator=qa_llm_jugde_evaluator,\n",
    "            qna_with_chain_answer=qna_with_chain_answer), axis=1)\n",
    "\n",
    "    if retriever:\n",
    "        grades_for_chain_qna[\"retrieval_score\"] = qna_with_chain_answers_df.apply(\n",
    "            lambda qna_with_chain_answer: get_retrieval_score(\n",
    "                retriever=retriever,\n",
    "                qna_with_chain_answer=qna_with_chain_answer), axis=1)\n",
    "\n",
    "\n",
    "    return grades_for_chain_qna"
   ],
   "metadata": {
    "collapsed": false
   }
  },
  {
   "cell_type": "code",
   "execution_count": 19,
   "outputs": [],
   "source": [
    "def run_evaluation(qa_rag_chain: RetrievalQA, qna_GT_df: pd.DataFrame) -> pd.DataFrame:\n",
    "    qna_with_chain_answers_df = get_qna_with_chain_answers_df(qa_rag_chain, qna_GT_df)\n",
    "    grades_for_chain_qna = get_grades_for_chain_qna(qna_with_chain_answers_df=qna_with_chain_answers_df,\n",
    "                                                    retriever=qa_rag_chain.retriever)\n",
    "    return grades_for_chain_qna"
   ],
   "metadata": {
    "collapsed": false
   }
  },
  {
   "cell_type": "code",
   "execution_count": 20,
   "outputs": [],
   "source": [
    "qna_GT_df = create_qna_GT_df(docs=docs, num_of_qna_for_doc=2)"
   ],
   "metadata": {
    "collapsed": false
   }
  },
  {
   "cell_type": "code",
   "execution_count": 21,
   "outputs": [
    {
     "name": "stderr",
     "output_type": "stream",
     "text": [
      "/home/watson/.virtualenvs/QnAEvaluation/lib/python3.9/site-packages/langchain/evaluation/schema.py:104: UserWarning: Ignoring input in EmbeddingDistanceEvalChain, as it is not expected.\n",
      "  warn(self._skip_input_warning)\n"
     ]
    },
    {
     "data": {
      "text/plain": "                                             question  \\\n0   What is the purpose of the chief prosecutor fo...   \n1   How much will the deficit be reduced to by the...   \n2   What does the speaker mean by 'capitalism with...   \n3   What happens to prices when corporations don't...   \n4   What did foreign-owned ocean carriers do durin...   \n5       What is the author's plan to fight inflation?   \n6          What do economists call the author's plan?   \n7                 What does the author call his plan?   \n8   According to the author, how will his plan low...   \n9                     Who supports the author's plan?   \n10  What were Vice President Harris and the speake...   \n11  What are the three main components of their ec...   \n12  How does the speaker propose to build the econ...   \n13  Why is it important for America to fix its inf...   \n14         What is the Bipartisan Infrastructure Law?   \n15  What is the main difference between the $2 Tri...   \n16  What impact did the American Rescue Plan have ...   \n17  What was the growth rate of the economy last y...   \n18  What were the negative effects of the trickle-...   \n19  How long has the economy not worked for the wo...   \n\n                                               answer  \\\n0   To go after the criminals who stole relief mon...   \n1   Less than half of what it was before the curre...   \n2   The speaker believes that true capitalism requ...   \n3                                       Prices go up.   \n4   They raised prices by as much as 1,000% and ma...   \n5   Lowering costs, making more cars and semicondu...   \n6   Increasing the productive capacity of the econ...   \n7                          Building a better America.   \n8          By cutting the cost of prescription drugs.   \n9            Top business leaders and most Americans.   \n10  They were running for office with a new econom...   \n11  Invest in America, Educate Americans, and Grow...   \n12  From the bottom up and the middle out, not fro...   \n13  To be able to compete for the jobs of the 21st...   \n14  It is the most sweeping investment to rebuild ...   \n15  The $2 Trillion tax cut benefitted the top 1% ...   \n16  The American Rescue Plan created over 6.5 Mill...   \n17  The economy grew at a rate of 5.7% last year, ...   \n18  The trickle-down theory led to weaker economic...   \n19  The economy hasn't worked for the working peop...   \n\n                                         chain_answer  \\\n0   The purpose of the chief prosecutor for pandem...   \n1   The given context does not provide specific in...   \n2   The speaker means that true capitalism require...   \n3   When corporations don't have to compete, their...   \n4   During the pandemic, foreign-owned ocean carri...   \n5   The author's plan to fight inflation includes ...   \n6   Economists call the author's plan \"increasing ...   \n7   The author calls his plan \"building a better A...   \n8   The author's plan to fight inflation and lower...   \n9   The author mentions that 17 Nobel laureates in...   \n10  Vice President Harris and the speaker were run...   \n11  The three main components of their economic vi...   \n12  The speaker proposes to build the economy by i...   \n13  It is important for America to fix its infrast...   \n14  The Bipartisan Infrastructure Law refers to a ...   \n15  The main difference between the $2 Trillion ta...   \n16  The American Rescue Plan had a significant imp...   \n17  The growth rate of the economy last year was 5...   \n18  The negative effects of the trickle-down theor...   \n19  The passage does not provide a specific timefr...   \n\n    labeled_criteria_grades  embedding_distance_grades  qa_llm_jugde_grades  \\\n0                       1.0                   0.432731                    1   \n1                       1.0                   0.604303                    1   \n2                       1.0                   0.098474                    1   \n3                       1.0                   0.463104                    1   \n4                       NaN                   0.242672                    1   \n5                       0.0                   0.462797                    1   \n6                       1.0                   0.281416                    1   \n7                       1.0                   0.380859                    1   \n8                       0.0                   0.455638                    1   \n9                       1.0                   0.487066                    1   \n10                      1.0                   0.444613                    1   \n11                      1.0                   0.305551                    1   \n12                      1.0                   0.903514                    1   \n13                      0.0                   0.619745                    1   \n14                      1.0                   0.520730                    1   \n15                      1.0                   0.198405                    1   \n16                      1.0                   0.107426                    1   \n17                      1.0                   0.186777                    1   \n18                      1.0                   0.187546                    1   \n19                      NaN                   0.369540                    1   \n\n    retrieval_score  \n0               NaN  \n1               NaN  \n2               NaN  \n3               NaN  \n4               NaN  \n5               NaN  \n6               1.0  \n7               NaN  \n8               NaN  \n9               NaN  \n10              NaN  \n11              NaN  \n12              1.0  \n13              NaN  \n14              1.0  \n15              NaN  \n16              NaN  \n17              NaN  \n18              1.0  \n19              NaN  ",
      "text/html": "<div>\n<style scoped>\n    .dataframe tbody tr th:only-of-type {\n        vertical-align: middle;\n    }\n\n    .dataframe tbody tr th {\n        vertical-align: top;\n    }\n\n    .dataframe thead th {\n        text-align: right;\n    }\n</style>\n<table border=\"1\" class=\"dataframe\">\n  <thead>\n    <tr style=\"text-align: right;\">\n      <th></th>\n      <th>question</th>\n      <th>answer</th>\n      <th>chain_answer</th>\n      <th>labeled_criteria_grades</th>\n      <th>embedding_distance_grades</th>\n      <th>qa_llm_jugde_grades</th>\n      <th>retrieval_score</th>\n    </tr>\n  </thead>\n  <tbody>\n    <tr>\n      <th>0</th>\n      <td>What is the purpose of the chief prosecutor fo...</td>\n      <td>To go after the criminals who stole relief mon...</td>\n      <td>The purpose of the chief prosecutor for pandem...</td>\n      <td>1.0</td>\n      <td>0.432731</td>\n      <td>1</td>\n      <td>NaN</td>\n    </tr>\n    <tr>\n      <th>1</th>\n      <td>How much will the deficit be reduced to by the...</td>\n      <td>Less than half of what it was before the curre...</td>\n      <td>The given context does not provide specific in...</td>\n      <td>1.0</td>\n      <td>0.604303</td>\n      <td>1</td>\n      <td>NaN</td>\n    </tr>\n    <tr>\n      <th>2</th>\n      <td>What does the speaker mean by 'capitalism with...</td>\n      <td>The speaker believes that true capitalism requ...</td>\n      <td>The speaker means that true capitalism require...</td>\n      <td>1.0</td>\n      <td>0.098474</td>\n      <td>1</td>\n      <td>NaN</td>\n    </tr>\n    <tr>\n      <th>3</th>\n      <td>What happens to prices when corporations don't...</td>\n      <td>Prices go up.</td>\n      <td>When corporations don't have to compete, their...</td>\n      <td>1.0</td>\n      <td>0.463104</td>\n      <td>1</td>\n      <td>NaN</td>\n    </tr>\n    <tr>\n      <th>4</th>\n      <td>What did foreign-owned ocean carriers do durin...</td>\n      <td>They raised prices by as much as 1,000% and ma...</td>\n      <td>During the pandemic, foreign-owned ocean carri...</td>\n      <td>NaN</td>\n      <td>0.242672</td>\n      <td>1</td>\n      <td>NaN</td>\n    </tr>\n    <tr>\n      <th>5</th>\n      <td>What is the author's plan to fight inflation?</td>\n      <td>Lowering costs, making more cars and semicondu...</td>\n      <td>The author's plan to fight inflation includes ...</td>\n      <td>0.0</td>\n      <td>0.462797</td>\n      <td>1</td>\n      <td>NaN</td>\n    </tr>\n    <tr>\n      <th>6</th>\n      <td>What do economists call the author's plan?</td>\n      <td>Increasing the productive capacity of the econ...</td>\n      <td>Economists call the author's plan \"increasing ...</td>\n      <td>1.0</td>\n      <td>0.281416</td>\n      <td>1</td>\n      <td>1.0</td>\n    </tr>\n    <tr>\n      <th>7</th>\n      <td>What does the author call his plan?</td>\n      <td>Building a better America.</td>\n      <td>The author calls his plan \"building a better A...</td>\n      <td>1.0</td>\n      <td>0.380859</td>\n      <td>1</td>\n      <td>NaN</td>\n    </tr>\n    <tr>\n      <th>8</th>\n      <td>According to the author, how will his plan low...</td>\n      <td>By cutting the cost of prescription drugs.</td>\n      <td>The author's plan to fight inflation and lower...</td>\n      <td>0.0</td>\n      <td>0.455638</td>\n      <td>1</td>\n      <td>NaN</td>\n    </tr>\n    <tr>\n      <th>9</th>\n      <td>Who supports the author's plan?</td>\n      <td>Top business leaders and most Americans.</td>\n      <td>The author mentions that 17 Nobel laureates in...</td>\n      <td>1.0</td>\n      <td>0.487066</td>\n      <td>1</td>\n      <td>NaN</td>\n    </tr>\n    <tr>\n      <th>10</th>\n      <td>What were Vice President Harris and the speake...</td>\n      <td>They were running for office with a new econom...</td>\n      <td>Vice President Harris and the speaker were run...</td>\n      <td>1.0</td>\n      <td>0.444613</td>\n      <td>1</td>\n      <td>NaN</td>\n    </tr>\n    <tr>\n      <th>11</th>\n      <td>What are the three main components of their ec...</td>\n      <td>Invest in America, Educate Americans, and Grow...</td>\n      <td>The three main components of their economic vi...</td>\n      <td>1.0</td>\n      <td>0.305551</td>\n      <td>1</td>\n      <td>NaN</td>\n    </tr>\n    <tr>\n      <th>12</th>\n      <td>How does the speaker propose to build the econ...</td>\n      <td>From the bottom up and the middle out, not fro...</td>\n      <td>The speaker proposes to build the economy by i...</td>\n      <td>1.0</td>\n      <td>0.903514</td>\n      <td>1</td>\n      <td>1.0</td>\n    </tr>\n    <tr>\n      <th>13</th>\n      <td>Why is it important for America to fix its inf...</td>\n      <td>To be able to compete for the jobs of the 21st...</td>\n      <td>It is important for America to fix its infrast...</td>\n      <td>0.0</td>\n      <td>0.619745</td>\n      <td>1</td>\n      <td>NaN</td>\n    </tr>\n    <tr>\n      <th>14</th>\n      <td>What is the Bipartisan Infrastructure Law?</td>\n      <td>It is the most sweeping investment to rebuild ...</td>\n      <td>The Bipartisan Infrastructure Law refers to a ...</td>\n      <td>1.0</td>\n      <td>0.520730</td>\n      <td>1</td>\n      <td>1.0</td>\n    </tr>\n    <tr>\n      <th>15</th>\n      <td>What is the main difference between the $2 Tri...</td>\n      <td>The $2 Trillion tax cut benefitted the top 1% ...</td>\n      <td>The main difference between the $2 Trillion ta...</td>\n      <td>1.0</td>\n      <td>0.198405</td>\n      <td>1</td>\n      <td>NaN</td>\n    </tr>\n    <tr>\n      <th>16</th>\n      <td>What impact did the American Rescue Plan have ...</td>\n      <td>The American Rescue Plan created over 6.5 Mill...</td>\n      <td>The American Rescue Plan had a significant imp...</td>\n      <td>1.0</td>\n      <td>0.107426</td>\n      <td>1</td>\n      <td>NaN</td>\n    </tr>\n    <tr>\n      <th>17</th>\n      <td>What was the growth rate of the economy last y...</td>\n      <td>The economy grew at a rate of 5.7% last year, ...</td>\n      <td>The growth rate of the economy last year was 5...</td>\n      <td>1.0</td>\n      <td>0.186777</td>\n      <td>1</td>\n      <td>NaN</td>\n    </tr>\n    <tr>\n      <th>18</th>\n      <td>What were the negative effects of the trickle-...</td>\n      <td>The trickle-down theory led to weaker economic...</td>\n      <td>The negative effects of the trickle-down theor...</td>\n      <td>1.0</td>\n      <td>0.187546</td>\n      <td>1</td>\n      <td>1.0</td>\n    </tr>\n    <tr>\n      <th>19</th>\n      <td>How long has the economy not worked for the wo...</td>\n      <td>The economy hasn't worked for the working peop...</td>\n      <td>The passage does not provide a specific timefr...</td>\n      <td>NaN</td>\n      <td>0.369540</td>\n      <td>1</td>\n      <td>NaN</td>\n    </tr>\n  </tbody>\n</table>\n</div>"
     },
     "execution_count": 21,
     "metadata": {},
     "output_type": "execute_result"
    }
   ],
   "source": [
    "run_evaluation(qa_rag_chain=qa_rag_chain, qna_GT_df=qna_GT_df)"
   ],
   "metadata": {
    "collapsed": false
   }
  },
  {
   "cell_type": "code",
   "execution_count": 1,
   "outputs": [
    {
     "ename": "NameError",
     "evalue": "name 'get_retrieval_score' is not defined",
     "output_type": "error",
     "traceback": [
      "\u001B[0;31m---------------------------------------------------------------------------\u001B[0m",
      "\u001B[0;31mNameError\u001B[0m                                 Traceback (most recent call last)",
      "Cell \u001B[0;32mIn[1], line 6\u001B[0m\n\u001B[1;32m      2\u001B[0m answer \u001B[38;5;241m=\u001B[39m  \u001B[38;5;124m\"\u001B[39m\u001B[38;5;124mThe president said, \u001B[39m\u001B[38;5;124m'\u001B[39m\u001B[38;5;124mI’m a capitalist, but capitalism without competition isn’t capitalism. It’s exploitation—and it drives up prices. When corporations don’t have to compete, their profits go up, your prices go up, and small businesses and family farmers and ranchers go under.\u001B[39m\u001B[38;5;124m\"\u001B[39m\n\u001B[1;32m      4\u001B[0m qna_with_chain_answer \u001B[38;5;241m=\u001B[39m {\u001B[38;5;124m\"\u001B[39m\u001B[38;5;124mquestion\u001B[39m\u001B[38;5;124m\"\u001B[39m: question, \u001B[38;5;124m\"\u001B[39m\u001B[38;5;124manswer\u001B[39m\u001B[38;5;124m\"\u001B[39m: answer}\n\u001B[0;32m----> 6\u001B[0m \u001B[43mget_retrieval_score\u001B[49m(retriever \u001B[38;5;241m=\u001B[39m qa_rag_chain\u001B[38;5;241m.\u001B[39mretriever,\n\u001B[1;32m      7\u001B[0m                     qna_with_chain_answer \u001B[38;5;241m=\u001B[39m qna_with_chain_answer)\n",
      "\u001B[0;31mNameError\u001B[0m: name 'get_retrieval_score' is not defined"
     ]
    }
   ],
   "source": [
    "question = \"What did the president say about capitalism?\"\n",
    "answer =  \"The president said, 'I’m a capitalist, but capitalism without competition isn’t capitalism. It’s exploitation—and it drives up prices. When corporations don’t have to compete, their profits go up, your prices go up, and small businesses and family farmers and ranchers go under.\"\n",
    "\n",
    "qna_with_chain_answer = {\"question\": question, \"answer\": answer}\n",
    "\n",
    "get_retrieval_score(retriever = qa_rag_chain.retriever,\n",
    "                    qna_with_chain_answer = qna_with_chain_answer)"
   ],
   "metadata": {
    "collapsed": false
   }
  },
  {
   "cell_type": "markdown",
   "source": [],
   "metadata": {
    "collapsed": false
   }
  }
 ],
 "metadata": {
  "kernelspec": {
   "display_name": "Python 3",
   "language": "python",
   "name": "python3"
  },
  "language_info": {
   "codemirror_mode": {
    "name": "ipython",
    "version": 2
   },
   "file_extension": ".py",
   "mimetype": "text/x-python",
   "name": "python",
   "nbconvert_exporter": "python",
   "pygments_lexer": "ipython2",
   "version": "2.7.6"
  }
 },
 "nbformat": 4,
 "nbformat_minor": 0
}
