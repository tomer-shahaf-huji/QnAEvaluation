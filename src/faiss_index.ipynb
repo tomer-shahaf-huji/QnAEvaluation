{
 "cells": [
  {
   "cell_type": "code",
   "execution_count": 12,
   "outputs": [],
   "source": [
    "import logging\n",
    "from typing import List\n",
    "\n",
    "import pandas as pd\n",
    "from langchain.chat_models import AzureChatOpenAI\n",
    "from langchain.document_loaders import TextLoader\n",
    "from langchain.embeddings import HuggingFaceEmbeddings\n",
    "from langchain.evaluation import EmbeddingDistance\n",
    "from langchain.evaluation import load_evaluator, EvaluatorType\n",
    "from langchain.evaluation.schema import StringEvaluator\n",
    "from langchain.retrievers.multi_query import MultiQueryRetriever\n",
    "from langchain.schema import Document\n",
    "from langchain.text_splitter import CharacterTextSplitter\n",
    "from langchain.vectorstores import FAISS\n",
    "from langchain.chains import QAGenerationChain\n",
    "from langchain import PromptTemplate"
   ],
   "metadata": {
    "collapsed": false
   }
  },
  {
   "cell_type": "code",
   "execution_count": 5,
   "outputs": [],
   "source": [
    "loader = TextLoader(\"../state_of_the_union.txt\")\n",
    "documents = loader.load()\n",
    "text_splitter = CharacterTextSplitter(chunk_size=1000, chunk_overlap=0)\n",
    "docs = text_splitter.split_documents(documents)"
   ],
   "metadata": {
    "collapsed": false
   }
  },
  {
   "cell_type": "code",
   "execution_count": 3,
   "outputs": [],
   "source": [
    "model_name = \"sentence-transformers/all-mpnet-base-v2\"\n",
    "model_kwargs = {'device': 'cuda'}\n",
    "encode_kwargs = {'normalize_embeddings': False}\n",
    "\n",
    "hf_embeddings = HuggingFaceEmbeddings(\n",
    "    model_name=model_name,\n",
    "    model_kwargs=model_kwargs,\n",
    "    encode_kwargs=encode_kwargs\n",
    ")"
   ],
   "metadata": {
    "collapsed": false
   }
  },
  {
   "cell_type": "code",
   "execution_count": 6,
   "outputs": [],
   "source": [
    "hf_embeddings_vector_db = FAISS.from_documents(docs, hf_embeddings)\n",
    "hf_embeddings_vector_db.save_local(\"faiss_index\")"
   ],
   "metadata": {
    "collapsed": false
   }
  },
  {
   "cell_type": "code",
   "execution_count": 7,
   "outputs": [
    {
     "data": {
      "text/plain": "'We’re going after the criminals who stole billions in relief money meant for small businesses and millions of Americans.  \\n\\nAnd tonight, I’m announcing that the Justice Department will name a chief prosecutor for pandemic fraud. \\n\\nBy the end of this year, the deficit will be down to less than half what it was before I took office.  \\n\\nThe only president ever to cut the deficit by more than one trillion dollars in a single year. \\n\\nLowering your costs also means demanding more competition. \\n\\nI’m a capitalist, but capitalism without competition isn’t capitalism. \\n\\nIt’s exploitation—and it drives up prices. \\n\\nWhen corporations don’t have to compete, their profits go up, your prices go up, and small businesses and family farmers and ranchers go under. \\n\\nWe see it happening with ocean carriers moving goods in and out of America. \\n\\nDuring the pandemic, these foreign-owned companies raised prices by as much as 1,000% and made record profits.'"
     },
     "execution_count": 7,
     "metadata": {},
     "output_type": "execute_result"
    }
   ],
   "source": [
    "question = \"What did the president say about economics?\"\n",
    "docs = hf_embeddings_vector_db.similarity_search(question)\n",
    "docs[0].page_content"
   ],
   "metadata": {
    "collapsed": false
   }
  },
  {
   "cell_type": "code",
   "execution_count": 8,
   "outputs": [],
   "source": [
    "gpt35_azure_llm = AzureChatOpenAI(\n",
    "    temperature=0,\n",
    "    openai_api_key=\"02e3dbabaf334ccb959cbeadbd3f99c3\",\n",
    "    openai_api_base=\"https://llm-x-gpt.openai.azure.com/\",\n",
    "    deployment_name='LLM-X-GPT35-TURBO',\n",
    "    openai_api_version=\"2023-03-15-preview\"\n",
    ")"
   ],
   "metadata": {
    "collapsed": false
   }
  },
  {
   "cell_type": "code",
   "execution_count": 9,
   "outputs": [],
   "source": [
    "gpt4_azure_llm = AzureChatOpenAI(\n",
    "    temperature=0,\n",
    "    openai_api_key=\"a8d69f68a36b40789df2cc3fdbaacda9\",\n",
    "    openai_api_base=\"https://llmx-gpt-canada-east.openai.azure.com/\",\n",
    "    deployment_name='LLM-X-GPT-4',\n",
    "    openai_api_version=\"2023-03-15-preview\"\n",
    ")"
   ],
   "metadata": {
    "collapsed": false
   }
  },
  {
   "cell_type": "code",
   "execution_count": 10,
   "outputs": [
    {
     "name": "stderr",
     "output_type": "stream",
     "text": [
      "/home/watson/.virtualenvs/QnAEvaluation/lib/python3.9/site-packages/langchain/embeddings/openai.py:214: UserWarning: WARNING! deployment_name is not default parameter.\n",
      "                    deployment_name was transferred to model_kwargs.\n",
      "                    Please confirm that deployment_name is what you intended.\n",
      "  warnings.warn(\n"
     ]
    }
   ],
   "source": [
    "from langchain.embeddings.openai import OpenAIEmbeddings\n",
    "\n",
    "openai_azure_embeddings = OpenAIEmbeddings(\n",
    "    openai_api_key=\"02e3dbabaf334ccb959cbeadbd3f99c3\",\n",
    "    openai_api_base=\"https://llm-x-gpt.openai.azure.com/\",\n",
    "    deployment_name='LLM-X-Embedding'\n",
    ")"
   ],
   "metadata": {
    "collapsed": false
   }
  },
  {
   "cell_type": "code",
   "execution_count": 11,
   "outputs": [
    {
     "name": "stderr",
     "output_type": "stream",
     "text": [
      "INFO:langchain.retrievers.multi_query:Generated queries: [\"1. Can you provide any information on the president's statements regarding the field of economics?\", \"2. I'm interested in knowing the president's views and comments on the subject of economics. Could you share any relevant information?\", '3. Could you please share any insights or remarks made by the president in relation to economics?']\n"
     ]
    }
   ],
   "source": [
    "logging.basicConfig()\n",
    "logging.getLogger('langchain.retrievers.multi_query').setLevel(logging.INFO)\n",
    "retriever_from_llm = MultiQueryRetriever.from_llm(\n",
    "    retriever=hf_embeddings_vector_db.as_retriever(),\n",
    "    llm=gpt35_azure_llm\n",
    ")\n",
    "\n",
    "unique_docs = retriever_from_llm.get_relevant_documents(query=question)"
   ],
   "metadata": {
    "collapsed": false
   }
  },
  {
   "cell_type": "code",
   "execution_count": 38,
   "outputs": [
    {
     "data": {
      "text/plain": "{'query': 'What did the president say about Zelensky?',\n 'result': 'The president mentioned President Zelenskyy of Ukraine and praised the fearlessness, courage, and determination of the Ukrainian people.'}"
     },
     "execution_count": 38,
     "metadata": {},
     "output_type": "execute_result"
    }
   ],
   "source": [
    "from langchain.chains import RetrievalQA\n",
    "\n",
    "qa_rag_chain = RetrievalQA.from_chain_type(\n",
    "    llm=gpt35_azure_llm,\n",
    "    retriever=hf_embeddings_vector_db.as_retriever()\n",
    ")\n",
    "\n",
    "question = \"What did the president say about Zelensky?\"\n",
    "qa_rag_chain({\"query\": question})"
   ],
   "metadata": {
    "collapsed": false
   }
  },
  {
   "cell_type": "code",
   "execution_count": 13,
   "outputs": [],
   "source": [
    "templ = \"\"\"You are a smart assistant designed to help high school teachers come up with reading comprehension questions.\n",
    "Given a piece of text, you must come up with a {k} different question and answer pairs that can be used to test a student's reading comprehension abilities.\n",
    "When coming up with this question/answer pair, each pair must be respond in the following format:\n",
    "\n",
    "{{\n",
    "    \"question\": \"$YOUR_QUESTION_HERE\",\n",
    "    \"answer\": \"$THE_ANSWER_HERE\"\n",
    "}}\n",
    "\n",
    "So in your final answer you should response with a list of {k} pairs in this format:\n",
    "\n",
    "```\n",
    "[{{\n",
    "    \"question\": \"$YOUR_QUESTION_HERE\",\n",
    "    \"answer\": \"$THE_ANSWER_HERE\"\n",
    "}},\n",
    " {{\n",
    "    \"question\": \"$YOUR_QUESTION_HERE\",\n",
    "    \"answer\": \"$THE_ANSWER_HERE\"\n",
    "}},\n",
    " {{\n",
    "    \"question\": \"$YOUR_QUESTION_HERE\",\n",
    "    \"answer\": \"$THE_ANSWER_HERE\"\n",
    "    }}\n",
    "]\n",
    "```\n",
    "\n",
    "Please come up with a list of {k} question/answer pairs, in the specified list of JSONS format, for the following text:\n",
    "----------------\n",
    "{text}\n",
    "\"\"\"\n",
    "\n",
    "multi_qa_prompt_gpt35 = PromptTemplate.from_template(template=templ, partial_variables={\"k\": 5})\n",
    "qa_generation_chain_gpt35 = QAGenerationChain.from_llm(llm=gpt35_azure_llm, prompt=multi_qa_prompt_gpt35)"
   ],
   "metadata": {
    "collapsed": false
   }
  },
  {
   "cell_type": "code",
   "execution_count": 14,
   "outputs": [],
   "source": [
    "multi_qa_prompt_template = \"\"\"You are a smart assistant designed to help high school teachers come up with reading comprehension questions.\n",
    "Given a piece of text, you must come up with a {k} different question and answer pairs that can be used to test a student's reading comprehension abilities.\n",
    "When coming up with this question/answer pair, each pair must be respond in the following format:\n",
    "\n",
    "{{\n",
    "    \"question\": \"$YOUR_QUESTION_HERE\",\n",
    "    \"answer\": \"$THE_ANSWER_HERE\"\n",
    "}}\n",
    "Please come up with a list of {k} question/answer pairs, in the specified list of dict, for the following text:\n",
    "----------------\n",
    "{text}\n",
    "\"\"\""
   ],
   "metadata": {
    "collapsed": false
   }
  },
  {
   "cell_type": "code",
   "execution_count": 14,
   "outputs": [],
   "source": [
    "def create_qna_GT_df(docs: List[Document], num_of_qna_for_doc: int) -> pd.DataFrame:\n",
    "    multi_qa_prompt = PromptTemplate.from_template(template=multi_qa_prompt_template,\n",
    "                                                   partial_variables={\"k\": num_of_qna_for_doc})\n",
    "    qa_generation_chain = QAGenerationChain.from_llm(llm=gpt35_azure_llm, prompt=multi_qa_prompt_gpt35)\n",
    "\n",
    "    qna_GT = []\n",
    "    for doc in docs:\n",
    "        doc_qna = qa_generation_chain.run(doc.page_content)[0]\n",
    "        qna_GT += doc_qna\n",
    "\n",
    "    qna_GT_df = pd.DataFrame(qna_GT)\n",
    "    return qna_GT_df"
   ],
   "metadata": {
    "collapsed": false
   }
  },
  {
   "cell_type": "code",
   "execution_count": 15,
   "outputs": [],
   "source": [
    "def get_qna_with_chain_answers_df(qa_rag_chain: RetrievalQA, qna_GT_df: pd.DataFrame) -> pd.DataFrame:\n",
    "    qna_with_chain_answers = qna_GT_df.copy()\n",
    "    qna_with_chain_answers[\"chain_answer\"] = qna_with_chain_answers.apply(\n",
    "        lambda qna: qa_rag_chain({\"query\": qna[\"question\"]})[\"result\"], axis=1)\n",
    "\n",
    "    return qna_with_chain_answers"
   ],
   "metadata": {
    "collapsed": false
   }
  },
  {
   "cell_type": "code",
   "execution_count": 16,
   "outputs": [],
   "source": [
    "def get_evaluator_score(evaluator: StringEvaluator, qna_with_chain_answer: pd.Series) -> float:\n",
    "    grade = evaluator.evaluate_strings(\n",
    "        prediction=qna_with_chain_answer[\"chain_answer\"],\n",
    "        reference=qna_with_chain_answer[\"answer\"],\n",
    "        input=qna_with_chain_answer[\"question\"])\n",
    "\n",
    "    return grade[\"score\"]"
   ],
   "metadata": {
    "collapsed": false
   }
  },
  {
   "cell_type": "code",
   "execution_count": 17,
   "outputs": [],
   "source": [
    "def get_grades_for_chain_qna(qna_with_chain_answers_df: pd.DataFrame) -> pd.DataFrame:\n",
    "    grades_for_chain_qna = qna_with_chain_answers_df.copy()\n",
    "\n",
    "    labeled_criteria_evaluator = load_evaluator(evaluator=EvaluatorType.LABELED_CRITERIA,\n",
    "                                                criteria=\"correctness\",\n",
    "                                                llm=gpt35_azure_llm)\n",
    "\n",
    "    embedding_distance_evaluator = load_evaluator(evaluator=EvaluatorType.EMBEDDING_DISTANCE,\n",
    "                                                  distance_metric=EmbeddingDistance.COSINE,\n",
    "                                                  embeddings=hf_embeddings,\n",
    "                                                  llm=gpt35_azure_llm)\n",
    "\n",
    "    qa_llm__jugde_evaluator = load_evaluator(evaluator=EvaluatorType.QA,\n",
    "                                             llm=gpt35_azure_llm)\n",
    "\n",
    "    grades_for_chain_qna[\"labeled_criteria_grades\"] = qna_with_chain_answers_df.apply(\n",
    "        lambda qna_with_chain_answer: get_evaluator_score(\n",
    "            evaluator=labeled_criteria_evaluator,\n",
    "            qna_with_chain_answer=qna_with_chain_answer), axis=1)\n",
    "\n",
    "    grades_for_chain_qna[\"embedding_distance_grades\"] = qna_with_chain_answers_df.apply(\n",
    "        lambda qna_with_chain_answer: get_evaluator_score(\n",
    "            evaluator=embedding_distance_evaluator,\n",
    "            qna_with_chain_answer=qna_with_chain_answer), axis=1)\n",
    "\n",
    "    grades_for_chain_qna[\"qa_llm_jugde_grades\"] = qna_with_chain_answers_df.apply(\n",
    "        lambda qna_with_chain_answer: get_evaluator_score(\n",
    "            evaluator=qa_llm__jugde_evaluator,\n",
    "            qna_with_chain_answer=qna_with_chain_answer), axis=1)\n",
    "\n",
    "    return grades_for_chain_qna"
   ],
   "metadata": {
    "collapsed": false
   }
  },
  {
   "cell_type": "code",
   "execution_count": 18,
   "outputs": [],
   "source": [
    "def run_evaluation(qa_rag_chain: RetrievalQA, qna_GT_df: pd.DataFrame) -> pd.DataFrame:\n",
    "    qna_with_chain_answers_df = get_qna_with_chain_answers_df(qa_rag_chain, qna_GT_df)\n",
    "    grades_for_chain_qna = get_grades_for_chain_qna(qna_with_chain_answers_df)\n",
    "    return grades_for_chain_qna"
   ],
   "metadata": {
    "collapsed": false
   }
  },
  {
   "cell_type": "code",
   "execution_count": 19,
   "outputs": [
    {
     "name": "stderr",
     "output_type": "stream",
     "text": [
      "/home/watson/.virtualenvs/QnAEvaluation/lib/python3.9/site-packages/langchain/evaluation/schema.py:104: UserWarning: Ignoring input in EmbeddingDistanceEvalChain, as it is not expected.\n",
      "  warn(self._skip_input_warning)\n"
     ]
    },
    {
     "data": {
      "text/plain": "                                             question  \\\n0   What is the purpose of the chief prosecutor fo...   \n1   How much will the deficit be reduced to by the...   \n2   What does the speaker mean by 'capitalism with...   \n3   What happens to prices when corporations don't...   \n4   What did foreign-owned ocean carriers do durin...   \n5       What is the author's plan to fight inflation?   \n6          What do economists call the author's plan?   \n7                 What does the author call his plan?   \n8   According to the author, how will his plan low...   \n9                     Who supports the author's plan?   \n10  What were Vice President Harris and the speake...   \n11  What are the three main components of their ec...   \n12  How does the speaker propose to build the econ...   \n13  Why is it important for America to fix its inf...   \n14  What is the significance of the Bipartisan Inf...   \n15  What is the main difference between the $2 Tri...   \n16  What impact did the American Rescue Plan have ...   \n17  What was the growth rate of the economy last y...   \n18  What were the negative effects of the trickle-...   \n19  How long has the economy not worked for the wo...   \n\n                                               answer  \\\n0   To go after the criminals who stole relief mon...   \n1   Less than half of what it was before the curre...   \n2   The speaker believes that true capitalism requ...   \n3                                       Prices go up.   \n4   They raised prices by as much as 1,000% and ma...   \n5   Lowering costs, making more cars and semicondu...   \n6   Increasing the productive capacity of the econ...   \n7                          Building a better America.   \n8          By cutting the cost of prescription drugs.   \n9            Top business leaders and most Americans.   \n10  They were running for office with a new econom...   \n11  Invest in America, Educate Americans, and Grow...   \n12  From the bottom up and the middle out, not fro...   \n13  To be able to compete for the jobs of the 21st...   \n14  It is the most sweeping investment to rebuild ...   \n15  The $2 Trillion tax cut benefitted the top 1% ...   \n16  The American Rescue Plan created over 6.5 Mill...   \n17  The economy grew at a rate of 5.7% last year, ...   \n18  The trickle-down theory led to weaker economic...   \n19  The economy hasn't worked for the working peop...   \n\n                                         chain_answer  \\\n0   The purpose of the chief prosecutor for pandem...   \n1   The given context does not provide specific in...   \n2   The speaker means that true capitalism require...   \n3   When corporations don't have to compete, their...   \n4   During the pandemic, foreign-owned ocean carri...   \n5   The author's plan to fight inflation includes ...   \n6   Economists call the author's plan \"increasing ...   \n7   The author calls his plan \"building a better A...   \n8   The author's plan to fight inflation and lower...   \n9   The author mentions that 17 Nobel laureates in...   \n10  Vice President Harris and the speaker were run...   \n11  The three main components of their economic vi...   \n12  The speaker proposes to build the economy by i...   \n13  It is important for America to fix its infrast...   \n14  The Bipartisan Infrastructure Law is significa...   \n15  The main difference between the $2 Trillion ta...   \n16  The American Rescue Plan had a significant imp...   \n17  The growth rate of the economy last year was 5...   \n18  The negative effects of the trickle-down theor...   \n19  The passage does not provide a specific timefr...   \n\n    labeled_criteria_grades  embedding_distance_grades  qa_llm_jugde_grades  \n0                       1.0                   0.432731                    1  \n1                       1.0                   0.604303                    1  \n2                       1.0                   0.098474                    1  \n3                       1.0                   0.469043                    1  \n4                       1.0                   0.242672                    1  \n5                       0.0                   0.462797                    1  \n6                       1.0                   0.281416                    1  \n7                       1.0                   0.380859                    1  \n8                       1.0                   0.404212                    1  \n9                       1.0                   0.487066                    1  \n10                      1.0                   0.444613                    1  \n11                      1.0                   0.305551                    1  \n12                      1.0                   0.903514                    1  \n13                      0.0                   0.619745                    1  \n14                      0.0                   0.487520                    1  \n15                      1.0                   0.198405                    1  \n16                      1.0                   0.107426                    1  \n17                      1.0                   0.186777                    1  \n18                      1.0                   0.187546                    1  \n19                      NaN                   0.369540                    1  ",
      "text/html": "<div>\n<style scoped>\n    .dataframe tbody tr th:only-of-type {\n        vertical-align: middle;\n    }\n\n    .dataframe tbody tr th {\n        vertical-align: top;\n    }\n\n    .dataframe thead th {\n        text-align: right;\n    }\n</style>\n<table border=\"1\" class=\"dataframe\">\n  <thead>\n    <tr style=\"text-align: right;\">\n      <th></th>\n      <th>question</th>\n      <th>answer</th>\n      <th>chain_answer</th>\n      <th>labeled_criteria_grades</th>\n      <th>embedding_distance_grades</th>\n      <th>qa_llm_jugde_grades</th>\n    </tr>\n  </thead>\n  <tbody>\n    <tr>\n      <th>0</th>\n      <td>What is the purpose of the chief prosecutor fo...</td>\n      <td>To go after the criminals who stole relief mon...</td>\n      <td>The purpose of the chief prosecutor for pandem...</td>\n      <td>1.0</td>\n      <td>0.432731</td>\n      <td>1</td>\n    </tr>\n    <tr>\n      <th>1</th>\n      <td>How much will the deficit be reduced to by the...</td>\n      <td>Less than half of what it was before the curre...</td>\n      <td>The given context does not provide specific in...</td>\n      <td>1.0</td>\n      <td>0.604303</td>\n      <td>1</td>\n    </tr>\n    <tr>\n      <th>2</th>\n      <td>What does the speaker mean by 'capitalism with...</td>\n      <td>The speaker believes that true capitalism requ...</td>\n      <td>The speaker means that true capitalism require...</td>\n      <td>1.0</td>\n      <td>0.098474</td>\n      <td>1</td>\n    </tr>\n    <tr>\n      <th>3</th>\n      <td>What happens to prices when corporations don't...</td>\n      <td>Prices go up.</td>\n      <td>When corporations don't have to compete, their...</td>\n      <td>1.0</td>\n      <td>0.469043</td>\n      <td>1</td>\n    </tr>\n    <tr>\n      <th>4</th>\n      <td>What did foreign-owned ocean carriers do durin...</td>\n      <td>They raised prices by as much as 1,000% and ma...</td>\n      <td>During the pandemic, foreign-owned ocean carri...</td>\n      <td>1.0</td>\n      <td>0.242672</td>\n      <td>1</td>\n    </tr>\n    <tr>\n      <th>5</th>\n      <td>What is the author's plan to fight inflation?</td>\n      <td>Lowering costs, making more cars and semicondu...</td>\n      <td>The author's plan to fight inflation includes ...</td>\n      <td>0.0</td>\n      <td>0.462797</td>\n      <td>1</td>\n    </tr>\n    <tr>\n      <th>6</th>\n      <td>What do economists call the author's plan?</td>\n      <td>Increasing the productive capacity of the econ...</td>\n      <td>Economists call the author's plan \"increasing ...</td>\n      <td>1.0</td>\n      <td>0.281416</td>\n      <td>1</td>\n    </tr>\n    <tr>\n      <th>7</th>\n      <td>What does the author call his plan?</td>\n      <td>Building a better America.</td>\n      <td>The author calls his plan \"building a better A...</td>\n      <td>1.0</td>\n      <td>0.380859</td>\n      <td>1</td>\n    </tr>\n    <tr>\n      <th>8</th>\n      <td>According to the author, how will his plan low...</td>\n      <td>By cutting the cost of prescription drugs.</td>\n      <td>The author's plan to fight inflation and lower...</td>\n      <td>1.0</td>\n      <td>0.404212</td>\n      <td>1</td>\n    </tr>\n    <tr>\n      <th>9</th>\n      <td>Who supports the author's plan?</td>\n      <td>Top business leaders and most Americans.</td>\n      <td>The author mentions that 17 Nobel laureates in...</td>\n      <td>1.0</td>\n      <td>0.487066</td>\n      <td>1</td>\n    </tr>\n    <tr>\n      <th>10</th>\n      <td>What were Vice President Harris and the speake...</td>\n      <td>They were running for office with a new econom...</td>\n      <td>Vice President Harris and the speaker were run...</td>\n      <td>1.0</td>\n      <td>0.444613</td>\n      <td>1</td>\n    </tr>\n    <tr>\n      <th>11</th>\n      <td>What are the three main components of their ec...</td>\n      <td>Invest in America, Educate Americans, and Grow...</td>\n      <td>The three main components of their economic vi...</td>\n      <td>1.0</td>\n      <td>0.305551</td>\n      <td>1</td>\n    </tr>\n    <tr>\n      <th>12</th>\n      <td>How does the speaker propose to build the econ...</td>\n      <td>From the bottom up and the middle out, not fro...</td>\n      <td>The speaker proposes to build the economy by i...</td>\n      <td>1.0</td>\n      <td>0.903514</td>\n      <td>1</td>\n    </tr>\n    <tr>\n      <th>13</th>\n      <td>Why is it important for America to fix its inf...</td>\n      <td>To be able to compete for the jobs of the 21st...</td>\n      <td>It is important for America to fix its infrast...</td>\n      <td>0.0</td>\n      <td>0.619745</td>\n      <td>1</td>\n    </tr>\n    <tr>\n      <th>14</th>\n      <td>What is the significance of the Bipartisan Inf...</td>\n      <td>It is the most sweeping investment to rebuild ...</td>\n      <td>The Bipartisan Infrastructure Law is significa...</td>\n      <td>0.0</td>\n      <td>0.487520</td>\n      <td>1</td>\n    </tr>\n    <tr>\n      <th>15</th>\n      <td>What is the main difference between the $2 Tri...</td>\n      <td>The $2 Trillion tax cut benefitted the top 1% ...</td>\n      <td>The main difference between the $2 Trillion ta...</td>\n      <td>1.0</td>\n      <td>0.198405</td>\n      <td>1</td>\n    </tr>\n    <tr>\n      <th>16</th>\n      <td>What impact did the American Rescue Plan have ...</td>\n      <td>The American Rescue Plan created over 6.5 Mill...</td>\n      <td>The American Rescue Plan had a significant imp...</td>\n      <td>1.0</td>\n      <td>0.107426</td>\n      <td>1</td>\n    </tr>\n    <tr>\n      <th>17</th>\n      <td>What was the growth rate of the economy last y...</td>\n      <td>The economy grew at a rate of 5.7% last year, ...</td>\n      <td>The growth rate of the economy last year was 5...</td>\n      <td>1.0</td>\n      <td>0.186777</td>\n      <td>1</td>\n    </tr>\n    <tr>\n      <th>18</th>\n      <td>What were the negative effects of the trickle-...</td>\n      <td>The trickle-down theory led to weaker economic...</td>\n      <td>The negative effects of the trickle-down theor...</td>\n      <td>1.0</td>\n      <td>0.187546</td>\n      <td>1</td>\n    </tr>\n    <tr>\n      <th>19</th>\n      <td>How long has the economy not worked for the wo...</td>\n      <td>The economy hasn't worked for the working peop...</td>\n      <td>The passage does not provide a specific timefr...</td>\n      <td>NaN</td>\n      <td>0.369540</td>\n      <td>1</td>\n    </tr>\n  </tbody>\n</table>\n</div>"
     },
     "execution_count": 19,
     "metadata": {},
     "output_type": "execute_result"
    }
   ],
   "source": [
    "qna_GT_df = create_qna_GT_df(docs=docs, num_of_qna_for_doc=2)\n",
    "run_evaluation(qa_rag_chain=qa_rag_chain, qna_GT_df=qna_GT_df)"
   ],
   "metadata": {
    "collapsed": false
   }
  },
  {
   "cell_type": "code",
   "execution_count": 15,
   "outputs": [],
   "source": [
    "grade_docs_prompt_template = \"\"\"\n",
    "    You are a grader trying to determine if a set of retrieved documents will help a student answer a question. \\n\n",
    "\n",
    "    Here is the question: \\n\n",
    "    {query}\n",
    "\n",
    "    Here are the documents retrieved to answer question: \\n\n",
    "    {result}\n",
    "\n",
    "    Here is the correct answer to the question: \\n\n",
    "    {answer}\n",
    "\n",
    "    Criteria:\n",
    "      relevance: Do all of the documents contain information that will help the student arrive that the correct answer to the question?\"\n",
    "\n",
    "    Your response should be as follows:\n",
    "\n",
    "    GRADE: (Correct or Incorrect, depending if all of the documents retrieved meet the criterion)\n",
    "    (line break)\n",
    "    JUSTIFICATION: (Write out in a step by step manner your reasoning about the criterion to be sure that your conclusion is correct. Use three sentences maximum. Keep the answer as concise as possible.)\n",
    "    \"\"\"\n",
    "\n",
    "GRADE_DOCS_PROMPT = PromptTemplate(input_variables=['result', 'answer', 'query'],\n",
    "                                   template=grade_docs_prompt_template)"
   ],
   "metadata": {
    "collapsed": false
   }
  },
  {
   "cell_type": "code",
   "execution_count": 42,
   "outputs": [],
   "source": [
    "question = \"What did the president say about capitalism?\"\n",
    "answer =  \"The president said, 'I’m a capitalist, but capitalism without competition isn’t capitalism. It’s exploitation—and it drives up prices. When corporations don’t have to compete, their profits go up, your prices go up, and small businesses and family farmers and ranchers go under.\""
   ],
   "metadata": {
    "collapsed": false
   }
  },
  {
   "cell_type": "code",
   "execution_count": 55,
   "outputs": [],
   "source": [
    "hf_retriever = hf_embeddings_vector_db.as_retriever()\n",
    "retrieved_docs = hf_retriever.get_relevant_documents(query=question,\n",
    "                                                     search_kwargs={\"k\": 2})\n",
    "\n",
    "l = qa_rag_chain.retriever.get_relevant_documents(query=question,\n",
    "                                                  search_type=\"similarity_score_threshold\",\n",
    "                                                  search_kwargs={\"k\": 2})"
   ],
   "metadata": {
    "collapsed": false
   }
  },
  {
   "cell_type": "code",
   "execution_count": 56,
   "outputs": [],
   "source": [
    "eval_chain = load_evaluator(\n",
    "    evaluator=EvaluatorType.QA,\n",
    "    llm=gpt35_azure_llm,\n",
    "    prompt=GRADE_DOCS_PROMPT\n",
    ")"
   ],
   "metadata": {
    "collapsed": false
   }
  },
  {
   "cell_type": "code",
   "execution_count": 57,
   "outputs": [],
   "source": [
    "graded_outputs = eval_chain.evaluate_strings(\n",
    "        prediction=l[0].page_content,\n",
    "        reference=answer,\n",
    "        input=question\n",
    ")"
   ],
   "metadata": {
    "collapsed": false
   }
  },
  {
   "cell_type": "code",
   "execution_count": 58,
   "outputs": [
    {
     "data": {
      "text/plain": "{'reasoning': 'GRADE: Correct',\n 'value': 'JUSTIFICATION: All of the documents retrieved contain information that directly addresses the question about what the president said about capitalism. The documents include statements from the president explicitly discussing capitalism, competition, exploitation, and the impact on prices, small businesses, and farmers. Therefore, all of the documents are relevant and will help the student arrive at the correct answer.',\n 'score': 1}"
     },
     "execution_count": 58,
     "metadata": {},
     "output_type": "execute_result"
    }
   ],
   "source": [
    "graded_outputs"
   ],
   "metadata": {
    "collapsed": false
   }
  },
  {
   "cell_type": "markdown",
   "source": [],
   "metadata": {
    "collapsed": false
   }
  }
 ],
 "metadata": {
  "kernelspec": {
   "display_name": "Python 3",
   "language": "python",
   "name": "python3"
  },
  "language_info": {
   "codemirror_mode": {
    "name": "ipython",
    "version": 2
   },
   "file_extension": ".py",
   "mimetype": "text/x-python",
   "name": "python",
   "nbconvert_exporter": "python",
   "pygments_lexer": "ipython2",
   "version": "2.7.6"
  }
 },
 "nbformat": 4,
 "nbformat_minor": 0
}
