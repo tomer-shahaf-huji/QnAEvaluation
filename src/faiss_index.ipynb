{
 "cells": [
  {
   "cell_type": "code",
   "execution_count": 5,
   "outputs": [],
   "source": [
    "import json\n",
    "import logging\n",
    "from typing import List\n",
    "\n",
    "from langchain.chat_models import AzureChatOpenAI\n",
    "from langchain.document_loaders import TextLoader\n",
    "from langchain.embeddings import HuggingFaceEmbeddings\n",
    "from langchain.retrievers.multi_query import MultiQueryRetriever\n",
    "from langchain.text_splitter import CharacterTextSplitter\n",
    "from langchain.vectorstores import FAISS"
   ],
   "metadata": {
    "collapsed": false
   }
  },
  {
   "cell_type": "code",
   "execution_count": 6,
   "outputs": [],
   "source": [
    "loader = TextLoader(\"../state_of_the_union.txt\")\n",
    "documents = loader.load()\n",
    "text_splitter = CharacterTextSplitter(chunk_size=1000, chunk_overlap=0)\n",
    "docs = text_splitter.split_documents(documents)"
   ],
   "metadata": {
    "collapsed": false
   }
  },
  {
   "cell_type": "code",
   "execution_count": 7,
   "outputs": [],
   "source": [
    "model_name = \"sentence-transformers/all-mpnet-base-v2\"\n",
    "model_kwargs = {'device': 'cuda'}\n",
    "encode_kwargs = {'normalize_embeddings': False}\n",
    "\n",
    "hf_embeddings = HuggingFaceEmbeddings(\n",
    "    model_name=model_name,\n",
    "    model_kwargs=model_kwargs,\n",
    "    encode_kwargs=encode_kwargs\n",
    ")"
   ],
   "metadata": {
    "collapsed": false
   }
  },
  {
   "cell_type": "code",
   "execution_count": 8,
   "outputs": [],
   "source": [
    "hf_embeddings_vector_db = FAISS.from_documents(docs, hf_embeddings)\n",
    "hf_embeddings_vector_db.save_local(\"faiss_index\")"
   ],
   "metadata": {
    "collapsed": false
   }
  },
  {
   "cell_type": "code",
   "execution_count": 9,
   "outputs": [
    {
     "data": {
      "text/plain": "'We’re going after the criminals who stole billions in relief money meant for small businesses and millions of Americans.  \\n\\nAnd tonight, I’m announcing that the Justice Department will name a chief prosecutor for pandemic fraud. \\n\\nBy the end of this year, the deficit will be down to less than half what it was before I took office.  \\n\\nThe only president ever to cut the deficit by more than one trillion dollars in a single year. \\n\\nLowering your costs also means demanding more competition. \\n\\nI’m a capitalist, but capitalism without competition isn’t capitalism. \\n\\nIt’s exploitation—and it drives up prices. \\n\\nWhen corporations don’t have to compete, their profits go up, your prices go up, and small businesses and family farmers and ranchers go under. \\n\\nWe see it happening with ocean carriers moving goods in and out of America. \\n\\nDuring the pandemic, these foreign-owned companies raised prices by as much as 1,000% and made record profits.'"
     },
     "execution_count": 9,
     "metadata": {},
     "output_type": "execute_result"
    }
   ],
   "source": [
    "question = \"What did the president say about economics?\"\n",
    "docs = hf_embeddings_vector_db.similarity_search(question)\n",
    "docs[0].page_content"
   ],
   "metadata": {
    "collapsed": false
   }
  },
  {
   "cell_type": "code",
   "execution_count": 10,
   "outputs": [],
   "source": [
    "gpt35_azure_llm = AzureChatOpenAI(\n",
    "    temperature=0,\n",
    "    openai_api_key=\"02e3dbabaf334ccb959cbeadbd3f99c3\",\n",
    "    openai_api_base=\"https://llm-x-gpt.openai.azure.com/\",\n",
    "    deployment_name='LLM-X-GPT35-TURBO',\n",
    "    openai_api_version=\"2023-03-15-preview\"\n",
    ")"
   ],
   "metadata": {
    "collapsed": false
   }
  },
  {
   "cell_type": "code",
   "execution_count": 67,
   "outputs": [],
   "source": [
    "from langchain.embeddings.openai import OpenAIEmbeddings\n",
    "\n",
    "openai_azure_embeddings = OpenAIEmbeddings(\n",
    "    openai_api_key=\"02e3dbabaf334ccb959cbeadbd3f99c3\",\n",
    "    openai_api_base=\"https://llm-x-gpt.openai.azure.com/\",\n",
    "    deployment_name='LLM-X-Embedding'\n",
    ")"
   ],
   "metadata": {
    "collapsed": false
   }
  },
  {
   "cell_type": "code",
   "execution_count": 12,
   "outputs": [
    {
     "name": "stderr",
     "output_type": "stream",
     "text": [
      "INFO:langchain.retrievers.multi_query:Generated queries: [\"1. Can you provide any information on the president's statements regarding the field of economics?\", \"2. I'm interested in knowing the president's views and comments on the subject of economics. Could you share any relevant information?\", '3. Could you please share any insights or remarks made by the president in relation to economics?']\n"
     ]
    }
   ],
   "source": [
    "logging.basicConfig()\n",
    "logging.getLogger('langchain.retrievers.multi_query').setLevel(logging.INFO)\n",
    "retriever_from_llm = MultiQueryRetriever.from_llm(\n",
    "    retriever=hf_embeddings_vector_db.as_retriever(),\n",
    "    llm=gpt35_azure_llm\n",
    ")\n",
    "\n",
    "unique_docs = retriever_from_llm.get_relevant_documents(query=question)"
   ],
   "metadata": {
    "collapsed": false
   }
  },
  {
   "cell_type": "code",
   "execution_count": 13,
   "outputs": [
    {
     "data": {
      "text/plain": "{'query': 'What did the president say about Zelensky?',\n 'result': 'The president mentioned President Zelenskyy of Ukraine and praised the fearlessness, courage, and determination of the Ukrainian people.'}"
     },
     "execution_count": 13,
     "metadata": {},
     "output_type": "execute_result"
    }
   ],
   "source": [
    "from langchain.chains import RetrievalQA\n",
    "\n",
    "qa_rag_chain = RetrievalQA.from_chain_type(\n",
    "    llm=gpt35_azure_llm,\n",
    "    retriever=hf_embeddings_vector_db.as_retriever()\n",
    ")\n",
    "\n",
    "question = \"What did the president say about Zelensky?\"\n",
    "qa_rag_chain({\"query\": question})"
   ],
   "metadata": {
    "collapsed": false
   }
  },
  {
   "cell_type": "code",
   "execution_count": 14,
   "outputs": [],
   "source": [
    "from langchain.chains import QAGenerationChain\n",
    "from langchain import PromptTemplate\n",
    "\n",
    "templ = \"\"\"You are a smart assistant designed to help high school teachers come up with reading comprehension questions.\n",
    "Given a piece of text, you must come up with a {k} different question and answer pairs that can be used to test a student's reading comprehension abilities.\n",
    "When coming up with this question/answer pair, each pair must be respond in the following format:\n",
    "\n",
    "{{\n",
    "    \"question\": \"$YOUR_QUESTION_HERE\",\n",
    "    \"answer\": \"$THE_ANSWER_HERE\"\n",
    "}}\n",
    "\n",
    "So in your final answer you should response with a list of {k} pairs in this format:\n",
    "\n",
    "```\n",
    "[{{\n",
    "    \"question\": \"$YOUR_QUESTION_HERE\",\n",
    "    \"answer\": \"$THE_ANSWER_HERE\"\n",
    "}},\n",
    " {{\n",
    "    \"question\": \"$YOUR_QUESTION_HERE\",\n",
    "    \"answer\": \"$THE_ANSWER_HERE\"\n",
    "}},\n",
    " {{\n",
    "    \"question\": \"$YOUR_QUESTION_HERE\",\n",
    "    \"answer\": \"$THE_ANSWER_HERE\"\n",
    "    }}\n",
    "]\n",
    "```\n",
    "\n",
    "Please come up with a list of {k} question/answer pairs, in the specified list of JSONS format, for the following text:\n",
    "----------------\n",
    "{text}\n",
    "\"\"\"\n",
    "\n",
    "multi_qa_prompt = PromptTemplate.from_template(template=templ, partial_variables={\"k\": 5})\n",
    "qa_generation_chain = QAGenerationChain.from_llm(llm=gpt35_azure_llm, prompt=multi_qa_prompt)"
   ],
   "metadata": {
    "collapsed": false
   }
  },
  {
   "cell_type": "code",
   "execution_count": 15,
   "outputs": [
    {
     "data": {
      "text/plain": "[{'question': 'What is the purpose of the chief prosecutor for pandemic fraud?',\n  'answer': 'To go after the criminals who stole relief money meant for small businesses and Americans.'},\n {'question': 'How much will the deficit be reduced to by the end of this year?',\n  'answer': 'Less than half of what it was before the current president took office.'},\n {'question': \"What does the speaker mean by 'capitalism without competition isn't capitalism'?\",\n  'answer': 'The speaker believes that true capitalism requires competition, and without it, it becomes exploitation.'},\n {'question': \"What happens to prices when corporations don't have to compete?\",\n  'answer': 'Prices go up.'},\n {'question': 'What did foreign-owned ocean carriers do during the pandemic?',\n  'answer': 'They raised prices by as much as 1,000% and made record profits.'}]"
     },
     "execution_count": 15,
     "metadata": {},
     "output_type": "execute_result"
    }
   ],
   "source": [
    "qna_GT = qa_generation_chain.run(docs[0].page_content)[0]\n",
    "qna_GT"
   ],
   "metadata": {
    "collapsed": false
   }
  },
  {
   "cell_type": "code",
   "execution_count": 16,
   "outputs": [
    {
     "name": "stdout",
     "output_type": "stream",
     "text": [
      "QA number 1 \n",
      "\n",
      "Question: What is the purpose of the chief prosecutor for pandemic fraud?\n",
      "\n",
      "Answer: To go after the criminals who stole relief money meant for small businesses and Americans.\n",
      "\n",
      "LLM Answer: The purpose of the chief prosecutor for pandemic fraud is to go after the criminals who stole billions in relief money meant for small businesses and millions of Americans. They will be responsible for investigating and prosecuting cases of fraud related to the misuse of funds intended for pandemic relief.\n",
      "\n",
      "--------------------------------------------------\n",
      "\n",
      "\n",
      "QA number 2 \n",
      "\n",
      "Question: How much will the deficit be reduced to by the end of this year?\n",
      "\n",
      "Answer: Less than half of what it was before the current president took office.\n",
      "\n",
      "LLM Answer: The given context does not provide specific information about the projected reduction of the deficit by the end of this year. Therefore, I don't have the information to answer your question.\n",
      "\n",
      "--------------------------------------------------\n",
      "\n",
      "\n",
      "QA number 3 \n",
      "\n",
      "Question: What does the speaker mean by 'capitalism without competition isn't capitalism'?\n",
      "\n",
      "Answer: The speaker believes that true capitalism requires competition, and without it, it becomes exploitation.\n",
      "\n",
      "LLM Answer: The speaker means that true capitalism requires competition. Without competition, capitalism becomes exploitative and leads to higher prices for consumers. The speaker believes that when corporations don't have to compete, they can drive up prices, harm small businesses, and exploit consumers.\n",
      "\n",
      "--------------------------------------------------\n",
      "\n",
      "\n",
      "QA number 4 \n",
      "\n",
      "Question: What happens to prices when corporations don't have to compete?\n",
      "\n",
      "Answer: Prices go up.\n",
      "\n",
      "LLM Answer: When corporations don't have to compete, their profits go up, and as a result, prices go up as well. This lack of competition allows corporations to have more control over the market, leading to higher prices for consumers. Additionally, small businesses and family farmers and ranchers may struggle or go under because they cannot compete with these dominant corporations.\n",
      "\n",
      "--------------------------------------------------\n",
      "\n",
      "\n",
      "QA number 5 \n",
      "\n",
      "Question: What did foreign-owned ocean carriers do during the pandemic?\n",
      "\n",
      "Answer: They raised prices by as much as 1,000% and made record profits.\n",
      "\n",
      "LLM Answer: During the pandemic, foreign-owned ocean carriers raised prices by as much as 1,000% and made record profits.\n",
      "\n",
      "--------------------------------------------------\n",
      "\n",
      "\n"
     ]
    }
   ],
   "source": [
    "questions_and_answers_llm = []\n",
    "for i, qa in enumerate(qna_GT):\n",
    "    question, answer = qa[\"question\"], qa[\"answer\"]\n",
    "    llm_answer = qa_rag_chain({\"query\": question})[\"result\"]\n",
    "    questions_and_answers_llm.append({\"question\": question, \"result\": llm_answer})\n",
    "    print(f\"QA number {i + 1} \\n\")\n",
    "    print(f\"Question: {question}\\n\")\n",
    "    print(f\"Answer: {answer}\\n\")\n",
    "    print(f\"LLM Answer: {llm_answer}\\n\")\n",
    "    print(\"--------------------------------------------------\\n\\n\")"
   ],
   "metadata": {
    "collapsed": false
   }
  },
  {
   "cell_type": "code",
   "execution_count": 18,
   "outputs": [],
   "source": [
    "from langchain.evaluation import QAEvalChain\n",
    "\n",
    "eval_prompt = GRADE_ANSWER_PROMPT\n",
    "\n",
    "eval_chain = QAEvalChain.from_llm(\n",
    "    llm=gpt35_azure_llm,\n",
    "    prompt=eval_prompt\n",
    ")"
   ],
   "metadata": {
    "collapsed": false
   }
  },
  {
   "cell_type": "code",
   "execution_count": 19,
   "outputs": [
    {
     "data": {
      "text/plain": "[{'results': \"GRADE: Correct\\n\\nJUSTIFICATION: The student answer accurately states that the purpose of the chief prosecutor for pandemic fraud is to go after the criminals who stole relief money meant for small businesses and Americans. The student's answer also includes additional information about investigating and prosecuting cases of fraud related to the misuse of funds intended for pandemic relief, which does not conflict with the true answer.\"},\n {'results': 'GRADE: Incorrect\\n\\nJUSTIFICATION: The student answer states that there is no specific information provided in the context about the projected reduction of the deficit by the end of this year. However, the true answer does provide specific information, stating that the deficit will be reduced to less than half of what it was before the current president took office.'},\n {'results': 'GRADE: Correct\\n\\nJUSTIFICATION: The student answer accurately explains that the speaker believes capitalism without competition leads to exploitation and higher prices for consumers, which aligns with the true answer.'},\n {'results': \"GRADE: Correct\\n\\nJUSTIFICATION: The student answer accurately states that when corporations don't have to compete, prices go up. Additionally, the student provides additional information about the effects of lack of competition on small businesses and family farmers and ranchers, which does not conflict with the true answer.\"},\n {'results': 'GRADE: Correct\\n\\nJUSTIFICATION: The student answer accurately states that foreign-owned ocean carriers raised prices by as much as 1,000% and made record profits during the pandemic, which matches the true answer.'}]"
     },
     "execution_count": 19,
     "metadata": {},
     "output_type": "execute_result"
    }
   ],
   "source": [
    "graded_outputs = eval_chain.evaluate(\n",
    "    examples=qna_GT,\n",
    "    predictions=questions_and_answers_llm,\n",
    "    question_key=\"question\",\n",
    "    prediction_key=\"result\"\n",
    ")\n",
    "graded_outputs"
   ],
   "metadata": {
    "collapsed": false
   }
  },
  {
   "cell_type": "code",
   "execution_count": 20,
   "outputs": [
    {
     "name": "stdout",
     "output_type": "stream",
     "text": [
      "GRADE: Correct\n",
      "\n",
      "JUSTIFICATION: The student answer accurately states that the purpose of the chief prosecutor for pandemic fraud is to go after the criminals who stole relief money meant for small businesses and Americans. The student's answer also includes additional information about investigating and prosecuting cases of fraud related to the misuse of funds intended for pandemic relief, which does not conflict with the true answer.\n",
      "--------------------------------------------------\n",
      "\n",
      "\n",
      "GRADE: Incorrect\n",
      "\n",
      "JUSTIFICATION: The student answer states that there is no specific information provided in the context about the projected reduction of the deficit by the end of this year. However, the true answer does provide specific information, stating that the deficit will be reduced to less than half of what it was before the current president took office.\n",
      "--------------------------------------------------\n",
      "\n",
      "\n",
      "GRADE: Correct\n",
      "\n",
      "JUSTIFICATION: The student answer accurately explains that the speaker believes capitalism without competition leads to exploitation and higher prices for consumers, which aligns with the true answer.\n",
      "--------------------------------------------------\n",
      "\n",
      "\n",
      "GRADE: Correct\n",
      "\n",
      "JUSTIFICATION: The student answer accurately states that when corporations don't have to compete, prices go up. Additionally, the student provides additional information about the effects of lack of competition on small businesses and family farmers and ranchers, which does not conflict with the true answer.\n",
      "--------------------------------------------------\n",
      "\n",
      "\n",
      "GRADE: Correct\n",
      "\n",
      "JUSTIFICATION: The student answer accurately states that foreign-owned ocean carriers raised prices by as much as 1,000% and made record profits during the pandemic, which matches the true answer.\n",
      "--------------------------------------------------\n",
      "\n",
      "\n"
     ]
    }
   ],
   "source": [
    "for qa_grade in graded_outputs:\n",
    "    print(f\"{qa_grade['results']}\")\n",
    "    print(\"--------------------------------------------------\\n\\n\")"
   ],
   "metadata": {
    "collapsed": false
   }
  },
  {
   "cell_type": "code",
   "execution_count": 78,
   "outputs": [
    {
     "data": {
      "text/plain": "{'score': 0.12336644424069754}"
     },
     "execution_count": 78,
     "metadata": {},
     "output_type": "execute_result"
    }
   ],
   "source": [
    "from langchain.evaluation import load_evaluator, EvaluatorType\n",
    "from langchain.evaluation import EmbeddingDistance\n",
    "\n",
    "evaluator = load_evaluator(evaluator=EvaluatorType.PAIRWISE_EMBEDDING_DISTANCE,\n",
    "                           distance_metric=EmbeddingDistance.COSINE,\n",
    "                           embeddings=hf_embeddings,\n",
    "                           llm=gpt35_azure_llm)\n",
    "\n",
    "evaluator.evaluate_string_pairs(\n",
    "    prediction=\"Seattle is very hot in June\", prediction_b=\"Seattle is cool in June.\"\n",
    ")"
   ],
   "metadata": {
    "collapsed": false
   }
  },
  {
   "cell_type": "code",
   "execution_count": 54,
   "outputs": [
    {
     "data": {
      "text/plain": "PairwiseEmbeddingDistanceEvalChain(memory=None, callbacks=None, callback_manager=None, verbose=False, tags=None, metadata=None, embeddings=OpenAIEmbeddings(client=<class 'openai.api_resources.embedding.Embedding'>, model='text-embedding-ada-002', deployment='text-embedding-ada-002', openai_api_version='', openai_api_base='https://llm-x-gpt.openai.azure.com/', openai_api_type='', openai_proxy='', embedding_ctx_length=8191, openai_api_key='02e3dbabaf334ccb959cbeadbd3f99c3', openai_organization='', allowed_special=set(), disallowed_special='all', chunk_size=1000, max_retries=6, request_timeout=None, headers=None, tiktoken_model_name=None, show_progress_bar=False, model_kwargs={'deployment_name': 'LLM-X-Embedding'}), distance_metric=<EmbeddingDistance.COSINE: 'cosine'>)"
     },
     "execution_count": 54,
     "metadata": {},
     "output_type": "execute_result"
    }
   ],
   "source": [
    "from langchain.evaluation import PairwiseEmbeddingDistanceEvalChain\n",
    "\n",
    "PairwiseEmbeddingDistanceEvalChain"
   ],
   "metadata": {
    "collapsed": false
   }
  },
  {
   "cell_type": "code",
   "execution_count": 58,
   "outputs": [],
   "source": [
    "def run_evaluation(qa_rag_chain, qna_GT):\n",
    "    predictions_list = []\n",
    "\n",
    "    for qna in qna_GT:\n",
    "        question, answer = qna[\"question\"], qna[\"answer\"]\n",
    "        qa_rag_chain_answer = qa_rag_chain({\"query\": question})[\"result\"]\n",
    "        predictions_list.append({\"question\": question, \"answer\": answer, \"result\": qa_rag_chain_answer})\n",
    "\n",
    "    answers_grade = grade_model_answer(qna_GT, predictions_list)\n",
    "\n",
    "    return answers_grade, predictions_list\n",
    "\n",
    "\n",
    "def grade_model_answer(qna_GT: List, predictions: List) -> List:\n",
    "    graded_outputs = []\n",
    "\n",
    "    evaluator = load_evaluator(evaluator=EvaluatorType.LABELED_CRITERIA,\n",
    "                           criteria=\"correctness\",\n",
    "                           llm=gpt35_azure_llm)\n",
    "\n",
    "    for i, qna in enumerate(qna_GT):\n",
    "        question, answer = qna[\"question\"], qna[\"answer\"]\n",
    "        grade = evaluator.evaluate_strings(input=question,\n",
    "                                         prediction=predictions[i],\n",
    "                                         reference=answer)\n",
    "        graded_outputs.append(grade['score'])\n",
    "\n",
    "    return graded_outputs"
   ],
   "metadata": {
    "collapsed": false
   }
  },
  {
   "cell_type": "code",
   "execution_count": 56,
   "outputs": [],
   "source": [
    "answers_grade, predictions_list = run_evaluation(qa_rag_chain, qna_GT)"
   ],
   "metadata": {
    "collapsed": false
   }
  },
  {
   "cell_type": "code",
   "execution_count": 57,
   "outputs": [
    {
     "data": {
      "text/plain": "([1, 1, None, 1, None],\n [],\n [],\n [{'question': 'What is the purpose of the chief prosecutor for pandemic fraud?',\n   'answer': 'To go after the criminals who stole relief money meant for small businesses and Americans.',\n   'result': 'The purpose of the chief prosecutor for pandemic fraud is to go after the criminals who stole billions in relief money meant for small businesses and millions of Americans. They will be responsible for investigating and prosecuting cases of fraud related to the misuse of funds intended for pandemic relief.'},\n  {'question': 'How much will the deficit be reduced to by the end of this year?',\n   'answer': 'Less than half of what it was before the current president took office.',\n   'result': \"The given context does not provide specific information about the projected reduction of the deficit by the end of this year. Therefore, I don't have the information to answer your question.\"},\n  {'question': \"What does the speaker mean by 'capitalism without competition isn't capitalism'?\",\n   'answer': 'The speaker believes that true capitalism requires competition, and without it, it becomes exploitation.',\n   'result': \"The speaker means that true capitalism requires competition. Without competition, capitalism becomes exploitative and leads to higher prices for consumers. The speaker believes that when corporations don't have to compete, they can drive up prices, harm small businesses, and exploit consumers.\"},\n  {'question': \"What happens to prices when corporations don't have to compete?\",\n   'answer': 'Prices go up.',\n   'result': \"When corporations don't have to compete, their profits go up, and as a result, prices go up as well. This lack of competition allows corporations to have more control over the market, leading to higher prices for consumers. Additionally, small businesses and family farmers and ranchers may struggle or go under because they cannot compete with these dominant corporations.\"},\n  {'question': 'What did foreign-owned ocean carriers do during the pandemic?',\n   'answer': 'They raised prices by as much as 1,000% and made record profits.',\n   'result': 'During the pandemic, foreign-owned ocean carriers raised prices by as much as 1,000% and made record profits.'}])"
     },
     "execution_count": 57,
     "metadata": {},
     "output_type": "execute_result"
    }
   ],
   "source": [
    "answers_grade"
   ],
   "metadata": {
    "collapsed": false
   }
  },
  {
   "cell_type": "markdown",
   "source": [],
   "metadata": {
    "collapsed": false
   }
  }
 ],
 "metadata": {
  "kernelspec": {
   "display_name": "Python 3",
   "language": "python",
   "name": "python3"
  },
  "language_info": {
   "codemirror_mode": {
    "name": "ipython",
    "version": 2
   },
   "file_extension": ".py",
   "mimetype": "text/x-python",
   "name": "python",
   "nbconvert_exporter": "python",
   "pygments_lexer": "ipython2",
   "version": "2.7.6"
  }
 },
 "nbformat": 4,
 "nbformat_minor": 0
}
